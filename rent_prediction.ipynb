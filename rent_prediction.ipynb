{
 "cells": [
  {
   "cell_type": "code",
   "execution_count": 1,
   "metadata": {},
   "outputs": [],
   "source": [
    "import pandas as pd\n",
    "import numpy as np\n",
    "import re\n",
    "\n",
    "import seaborn as sns\n",
    "import matplotlib.pyplot as plt\n",
    "\n",
    "from sklearn.neighbors import LocalOutlierFactor\n",
    "\n",
    "from sklearn.preprocessing import OneHotEncoder\n",
    "\n",
    "import warnings\n",
    "warnings.filterwarnings(\"ignore\")"
   ]
  },
  {
   "cell_type": "code",
   "execution_count": 2,
   "metadata": {},
   "outputs": [],
   "source": [
    "df = pd.read_csv(\"~/Desktop/Codes/house_prediction/Bengaluru_House_Data.csv\")"
   ]
  },
  {
   "cell_type": "code",
   "execution_count": 3,
   "metadata": {},
   "outputs": [
    {
     "data": {
      "application/vnd.microsoft.datawrangler.viewer.v0+json": {
       "columns": [
        {
         "name": "index",
         "rawType": "int64",
         "type": "integer"
        },
        {
         "name": "area_type",
         "rawType": "object",
         "type": "string"
        },
        {
         "name": "availability",
         "rawType": "object",
         "type": "string"
        },
        {
         "name": "location",
         "rawType": "object",
         "type": "unknown"
        },
        {
         "name": "size",
         "rawType": "object",
         "type": "unknown"
        },
        {
         "name": "society",
         "rawType": "object",
         "type": "unknown"
        },
        {
         "name": "total_sqft",
         "rawType": "object",
         "type": "string"
        },
        {
         "name": "bath",
         "rawType": "float64",
         "type": "float"
        },
        {
         "name": "balcony",
         "rawType": "float64",
         "type": "float"
        },
        {
         "name": "price",
         "rawType": "float64",
         "type": "float"
        }
       ],
       "conversionMethod": "pd.DataFrame",
       "ref": "ba4c5242-6b01-45b8-917d-b878f3adf05c",
       "rows": [
        [
         "0",
         "Super built-up  Area",
         "19-Dec",
         "Electronic City Phase II",
         "2 BHK",
         "Coomee ",
         "1056",
         "2.0",
         "1.0",
         "39.07"
        ],
        [
         "1",
         "Plot  Area",
         "Ready To Move",
         "Chikka Tirupathi",
         "4 Bedroom",
         "Theanmp",
         "2600",
         "5.0",
         "3.0",
         "120.0"
        ],
        [
         "2",
         "Built-up  Area",
         "Ready To Move",
         "Uttarahalli",
         "3 BHK",
         null,
         "1440",
         "2.0",
         "3.0",
         "62.0"
        ],
        [
         "3",
         "Super built-up  Area",
         "Ready To Move",
         "Lingadheeranahalli",
         "3 BHK",
         "Soiewre",
         "1521",
         "3.0",
         "1.0",
         "95.0"
        ],
        [
         "4",
         "Super built-up  Area",
         "Ready To Move",
         "Kothanur",
         "2 BHK",
         null,
         "1200",
         "2.0",
         "1.0",
         "51.0"
        ],
        [
         "5",
         "Super built-up  Area",
         "Ready To Move",
         "Whitefield",
         "2 BHK",
         "DuenaTa",
         "1170",
         "2.0",
         "1.0",
         "38.0"
        ],
        [
         "6",
         "Super built-up  Area",
         "18-May",
         "Old Airport Road",
         "4 BHK",
         "Jaades ",
         "2732",
         "4.0",
         null,
         "204.0"
        ],
        [
         "7",
         "Super built-up  Area",
         "Ready To Move",
         "Rajaji Nagar",
         "4 BHK",
         "Brway G",
         "3300",
         "4.0",
         null,
         "600.0"
        ],
        [
         "8",
         "Super built-up  Area",
         "Ready To Move",
         "Marathahalli",
         "3 BHK",
         null,
         "1310",
         "3.0",
         "1.0",
         "63.25"
        ],
        [
         "9",
         "Plot  Area",
         "Ready To Move",
         "Gandhi Bazar",
         "6 Bedroom",
         null,
         "1020",
         "6.0",
         null,
         "370.0"
        ],
        [
         "10",
         "Super built-up  Area",
         "18-Feb",
         "Whitefield",
         "3 BHK",
         null,
         "1800",
         "2.0",
         "2.0",
         "70.0"
        ],
        [
         "11",
         "Plot  Area",
         "Ready To Move",
         "Whitefield",
         "4 Bedroom",
         "Prrry M",
         "2785",
         "5.0",
         "3.0",
         "295.0"
        ],
        [
         "12",
         "Super built-up  Area",
         "Ready To Move",
         "7th Phase JP Nagar",
         "2 BHK",
         "Shncyes",
         "1000",
         "2.0",
         "1.0",
         "38.0"
        ],
        [
         "13",
         "Built-up  Area",
         "Ready To Move",
         "Gottigere",
         "2 BHK",
         null,
         "1100",
         "2.0",
         "2.0",
         "40.0"
        ],
        [
         "14",
         "Plot  Area",
         "Ready To Move",
         "Sarjapur",
         "3 Bedroom",
         "Skityer",
         "2250",
         "3.0",
         "2.0",
         "148.0"
        ],
        [
         "15",
         "Super built-up  Area",
         "Ready To Move",
         "Mysore Road",
         "2 BHK",
         "PrntaEn",
         "1175",
         "2.0",
         "2.0",
         "73.5"
        ],
        [
         "16",
         "Super built-up  Area",
         "Ready To Move",
         "Bisuvanahalli",
         "3 BHK",
         "Prityel",
         "1180",
         "3.0",
         "2.0",
         "48.0"
        ],
        [
         "17",
         "Super built-up  Area",
         "Ready To Move",
         "Raja Rajeshwari Nagar",
         "3 BHK",
         "GrrvaGr",
         "1540",
         "3.0",
         "3.0",
         "60.0"
        ],
        [
         "18",
         "Super built-up  Area",
         "Ready To Move",
         "Ramakrishnappa Layout",
         "3 BHK",
         "PeBayle",
         "2770",
         "4.0",
         "2.0",
         "290.0"
        ],
        [
         "19",
         "Super built-up  Area",
         "Ready To Move",
         "Manayata Tech Park",
         "2 BHK",
         null,
         "1100",
         "2.0",
         "2.0",
         "48.0"
        ],
        [
         "20",
         "Built-up  Area",
         "Ready To Move",
         "Kengeri",
         "1 BHK",
         null,
         "600",
         "1.0",
         "1.0",
         "15.0"
        ],
        [
         "21",
         "Super built-up  Area",
         "19-Dec",
         "Binny Pete",
         "3 BHK",
         "She 2rk",
         "1755",
         "3.0",
         "1.0",
         "122.0"
        ],
        [
         "22",
         "Plot  Area",
         "Ready To Move",
         "Thanisandra",
         "4 Bedroom",
         "Soitya ",
         "2800",
         "5.0",
         "2.0",
         "380.0"
        ],
        [
         "23",
         "Super built-up  Area",
         "Ready To Move",
         "Bellandur",
         "3 BHK",
         null,
         "1767",
         "3.0",
         "1.0",
         "103.0"
        ],
        [
         "24",
         "Super built-up  Area",
         "18-Nov",
         " Thanisandra",
         "1 RK",
         "Bhe 2ko",
         "510",
         "1.0",
         "0.0",
         "25.25"
        ],
        [
         "25",
         "Super built-up  Area",
         "18-May",
         "Mangammanapalya",
         "3 BHK",
         null,
         "1250",
         "3.0",
         "2.0",
         "56.0"
        ],
        [
         "26",
         "Super built-up  Area",
         "Ready To Move",
         "Electronic City",
         "2 BHK",
         "Itelaa ",
         "660",
         "1.0",
         "1.0",
         "23.1"
        ],
        [
         "27",
         "Built-up  Area",
         "20-Dec",
         "Whitefield",
         "3 BHK",
         null,
         "1610",
         "3.0",
         "2.0",
         "81.0"
        ],
        [
         "28",
         "Super built-up  Area",
         "17-Oct",
         "Ramagondanahalli",
         "2 BHK",
         "ViistLa",
         "1151",
         "2.0",
         "2.0",
         "48.77"
        ],
        [
         "29",
         "Super built-up  Area",
         "Ready To Move",
         "Electronic City",
         "3 BHK",
         "KBityo ",
         "1025",
         "2.0",
         "1.0",
         "47.0"
        ],
        [
         "30",
         "Super built-up  Area",
         "19-Dec",
         "Yelahanka",
         "4 BHK",
         "LedorSa",
         "2100 - 2850",
         "4.0",
         "0.0",
         "186.0"
        ],
        [
         "31",
         "Super built-up  Area",
         "Ready To Move",
         "Bisuvanahalli",
         "3 BHK",
         "Prityel",
         "1075",
         "2.0",
         "1.0",
         "35.0"
        ],
        [
         "32",
         "Super built-up  Area",
         "Ready To Move",
         "Hebbal",
         "3 BHK",
         "Mahosya",
         "1760",
         "2.0",
         "2.0",
         "123.0"
        ],
        [
         "33",
         "Super built-up  Area",
         "Ready To Move",
         "Raja Rajeshwari Nagar",
         "3 BHK",
         "GrrvaGr",
         "1693",
         "3.0",
         "3.0",
         "57.39"
        ],
        [
         "34",
         "Built-up  Area",
         "Ready To Move",
         "Kasturi Nagar",
         "3 BHK",
         "Kantsce",
         "1925",
         "3.0",
         null,
         "125.0"
        ],
        [
         "35",
         "Super built-up  Area",
         "21-Dec",
         "Kanakpura Road",
         "2 BHK",
         "PrarePa",
         "700",
         "2.0",
         "1.0",
         "36.0"
        ],
        [
         "36",
         "Super built-up  Area",
         "Ready To Move",
         "Electronics City Phase 1",
         "2 BHK",
         null,
         "1070",
         "2.0",
         "1.0",
         "45.5"
        ],
        [
         "37",
         "Super built-up  Area",
         "Ready To Move",
         "Kundalahalli",
         "3 BHK",
         "Dieldli",
         "1724",
         "3.0",
         "2.0",
         "125.0"
        ],
        [
         "38",
         "Super built-up  Area",
         "Ready To Move",
         "Chikkalasandra",
         "3 BHK",
         null,
         "1290",
         "2.0",
         "2.0",
         "56.12"
        ],
        [
         "39",
         "Built-up  Area",
         "Ready To Move",
         "Uttarahalli",
         "2 BHK",
         null,
         "1143",
         "2.0",
         "2.0",
         "45.0"
        ],
        [
         "40",
         "Built-up  Area",
         "Ready To Move",
         "Murugeshpalya",
         "2 BHK",
         "Gentson",
         "1296",
         "2.0",
         null,
         "81.0"
        ],
        [
         "41",
         "Super built-up  Area",
         "19-Dec",
         "Sarjapur  Road",
         "3 BHK",
         "Soini T",
         "1254",
         "3.0",
         "2.0",
         "38.0"
        ],
        [
         "42",
         "Super built-up  Area",
         "Ready To Move",
         "Ganga Nagar",
         "1 BHK",
         "Ceove G",
         "600",
         "1.0",
         "0.0",
         "38.0"
        ],
        [
         "43",
         "Plot  Area",
         "Ready To Move",
         "Yelahanka",
         "1 Bedroom",
         null,
         "660",
         "1.0",
         "0.0",
         "48.0"
        ],
        [
         "44",
         "Super built-up  Area",
         "19-Sep",
         "Kanakpura Road",
         "2 BHK",
         "Soazak ",
         "1330.74",
         "2.0",
         "2.0",
         "91.79"
        ],
        [
         "45",
         "Plot  Area",
         "Ready To Move",
         "HSR Layout",
         "8 Bedroom",
         null,
         "600",
         "9.0",
         null,
         "200.0"
        ],
        [
         "46",
         "Super built-up  Area",
         "Ready To Move",
         "Doddathoguru",
         "2 BHK",
         "LancyRe",
         "970",
         "2.0",
         "0.0",
         "33.0"
        ],
        [
         "47",
         "Super built-up  Area",
         "20-Sep",
         "Whitefield",
         "2 BHK",
         "Goted U",
         "1459",
         "2.0",
         "1.0",
         "94.82"
        ],
        [
         "48",
         "Plot  Area",
         "Ready To Move",
         "KR Puram",
         "2 Bedroom",
         null,
         "800",
         "1.0",
         "1.0",
         "130.0"
        ],
        [
         "49",
         "Built-up  Area",
         "Ready To Move",
         "Himagiri Meadows",
         "2 BHK",
         null,
         "869",
         "2.0",
         "1.0",
         "36.0"
        ]
       ],
       "shape": {
        "columns": 9,
        "rows": 13320
       }
      },
      "text/html": [
       "<div>\n",
       "<style scoped>\n",
       "    .dataframe tbody tr th:only-of-type {\n",
       "        vertical-align: middle;\n",
       "    }\n",
       "\n",
       "    .dataframe tbody tr th {\n",
       "        vertical-align: top;\n",
       "    }\n",
       "\n",
       "    .dataframe thead th {\n",
       "        text-align: right;\n",
       "    }\n",
       "</style>\n",
       "<table border=\"1\" class=\"dataframe\">\n",
       "  <thead>\n",
       "    <tr style=\"text-align: right;\">\n",
       "      <th></th>\n",
       "      <th>area_type</th>\n",
       "      <th>availability</th>\n",
       "      <th>location</th>\n",
       "      <th>size</th>\n",
       "      <th>society</th>\n",
       "      <th>total_sqft</th>\n",
       "      <th>bath</th>\n",
       "      <th>balcony</th>\n",
       "      <th>price</th>\n",
       "    </tr>\n",
       "  </thead>\n",
       "  <tbody>\n",
       "    <tr>\n",
       "      <th>0</th>\n",
       "      <td>Super built-up  Area</td>\n",
       "      <td>19-Dec</td>\n",
       "      <td>Electronic City Phase II</td>\n",
       "      <td>2 BHK</td>\n",
       "      <td>Coomee</td>\n",
       "      <td>1056</td>\n",
       "      <td>2.0</td>\n",
       "      <td>1.0</td>\n",
       "      <td>39.07</td>\n",
       "    </tr>\n",
       "    <tr>\n",
       "      <th>1</th>\n",
       "      <td>Plot  Area</td>\n",
       "      <td>Ready To Move</td>\n",
       "      <td>Chikka Tirupathi</td>\n",
       "      <td>4 Bedroom</td>\n",
       "      <td>Theanmp</td>\n",
       "      <td>2600</td>\n",
       "      <td>5.0</td>\n",
       "      <td>3.0</td>\n",
       "      <td>120.00</td>\n",
       "    </tr>\n",
       "    <tr>\n",
       "      <th>2</th>\n",
       "      <td>Built-up  Area</td>\n",
       "      <td>Ready To Move</td>\n",
       "      <td>Uttarahalli</td>\n",
       "      <td>3 BHK</td>\n",
       "      <td>NaN</td>\n",
       "      <td>1440</td>\n",
       "      <td>2.0</td>\n",
       "      <td>3.0</td>\n",
       "      <td>62.00</td>\n",
       "    </tr>\n",
       "    <tr>\n",
       "      <th>3</th>\n",
       "      <td>Super built-up  Area</td>\n",
       "      <td>Ready To Move</td>\n",
       "      <td>Lingadheeranahalli</td>\n",
       "      <td>3 BHK</td>\n",
       "      <td>Soiewre</td>\n",
       "      <td>1521</td>\n",
       "      <td>3.0</td>\n",
       "      <td>1.0</td>\n",
       "      <td>95.00</td>\n",
       "    </tr>\n",
       "    <tr>\n",
       "      <th>4</th>\n",
       "      <td>Super built-up  Area</td>\n",
       "      <td>Ready To Move</td>\n",
       "      <td>Kothanur</td>\n",
       "      <td>2 BHK</td>\n",
       "      <td>NaN</td>\n",
       "      <td>1200</td>\n",
       "      <td>2.0</td>\n",
       "      <td>1.0</td>\n",
       "      <td>51.00</td>\n",
       "    </tr>\n",
       "    <tr>\n",
       "      <th>...</th>\n",
       "      <td>...</td>\n",
       "      <td>...</td>\n",
       "      <td>...</td>\n",
       "      <td>...</td>\n",
       "      <td>...</td>\n",
       "      <td>...</td>\n",
       "      <td>...</td>\n",
       "      <td>...</td>\n",
       "      <td>...</td>\n",
       "    </tr>\n",
       "    <tr>\n",
       "      <th>13315</th>\n",
       "      <td>Built-up  Area</td>\n",
       "      <td>Ready To Move</td>\n",
       "      <td>Whitefield</td>\n",
       "      <td>5 Bedroom</td>\n",
       "      <td>ArsiaEx</td>\n",
       "      <td>3453</td>\n",
       "      <td>4.0</td>\n",
       "      <td>0.0</td>\n",
       "      <td>231.00</td>\n",
       "    </tr>\n",
       "    <tr>\n",
       "      <th>13316</th>\n",
       "      <td>Super built-up  Area</td>\n",
       "      <td>Ready To Move</td>\n",
       "      <td>Richards Town</td>\n",
       "      <td>4 BHK</td>\n",
       "      <td>NaN</td>\n",
       "      <td>3600</td>\n",
       "      <td>5.0</td>\n",
       "      <td>NaN</td>\n",
       "      <td>400.00</td>\n",
       "    </tr>\n",
       "    <tr>\n",
       "      <th>13317</th>\n",
       "      <td>Built-up  Area</td>\n",
       "      <td>Ready To Move</td>\n",
       "      <td>Raja Rajeshwari Nagar</td>\n",
       "      <td>2 BHK</td>\n",
       "      <td>Mahla T</td>\n",
       "      <td>1141</td>\n",
       "      <td>2.0</td>\n",
       "      <td>1.0</td>\n",
       "      <td>60.00</td>\n",
       "    </tr>\n",
       "    <tr>\n",
       "      <th>13318</th>\n",
       "      <td>Super built-up  Area</td>\n",
       "      <td>18-Jun</td>\n",
       "      <td>Padmanabhanagar</td>\n",
       "      <td>4 BHK</td>\n",
       "      <td>SollyCl</td>\n",
       "      <td>4689</td>\n",
       "      <td>4.0</td>\n",
       "      <td>1.0</td>\n",
       "      <td>488.00</td>\n",
       "    </tr>\n",
       "    <tr>\n",
       "      <th>13319</th>\n",
       "      <td>Super built-up  Area</td>\n",
       "      <td>Ready To Move</td>\n",
       "      <td>Doddathoguru</td>\n",
       "      <td>1 BHK</td>\n",
       "      <td>NaN</td>\n",
       "      <td>550</td>\n",
       "      <td>1.0</td>\n",
       "      <td>1.0</td>\n",
       "      <td>17.00</td>\n",
       "    </tr>\n",
       "  </tbody>\n",
       "</table>\n",
       "<p>13320 rows × 9 columns</p>\n",
       "</div>"
      ],
      "text/plain": [
       "                  area_type   availability                  location  \\\n",
       "0      Super built-up  Area         19-Dec  Electronic City Phase II   \n",
       "1                Plot  Area  Ready To Move          Chikka Tirupathi   \n",
       "2            Built-up  Area  Ready To Move               Uttarahalli   \n",
       "3      Super built-up  Area  Ready To Move        Lingadheeranahalli   \n",
       "4      Super built-up  Area  Ready To Move                  Kothanur   \n",
       "...                     ...            ...                       ...   \n",
       "13315        Built-up  Area  Ready To Move                Whitefield   \n",
       "13316  Super built-up  Area  Ready To Move             Richards Town   \n",
       "13317        Built-up  Area  Ready To Move     Raja Rajeshwari Nagar   \n",
       "13318  Super built-up  Area         18-Jun           Padmanabhanagar   \n",
       "13319  Super built-up  Area  Ready To Move              Doddathoguru   \n",
       "\n",
       "            size  society total_sqft  bath  balcony   price  \n",
       "0          2 BHK  Coomee        1056   2.0      1.0   39.07  \n",
       "1      4 Bedroom  Theanmp       2600   5.0      3.0  120.00  \n",
       "2          3 BHK      NaN       1440   2.0      3.0   62.00  \n",
       "3          3 BHK  Soiewre       1521   3.0      1.0   95.00  \n",
       "4          2 BHK      NaN       1200   2.0      1.0   51.00  \n",
       "...          ...      ...        ...   ...      ...     ...  \n",
       "13315  5 Bedroom  ArsiaEx       3453   4.0      0.0  231.00  \n",
       "13316      4 BHK      NaN       3600   5.0      NaN  400.00  \n",
       "13317      2 BHK  Mahla T       1141   2.0      1.0   60.00  \n",
       "13318      4 BHK  SollyCl       4689   4.0      1.0  488.00  \n",
       "13319      1 BHK      NaN        550   1.0      1.0   17.00  \n",
       "\n",
       "[13320 rows x 9 columns]"
      ]
     },
     "execution_count": 3,
     "metadata": {},
     "output_type": "execute_result"
    }
   ],
   "source": [
    "df"
   ]
  },
  {
   "cell_type": "code",
   "execution_count": 4,
   "metadata": {},
   "outputs": [
    {
     "data": {
      "application/vnd.microsoft.datawrangler.viewer.v0+json": {
       "columns": [
        {
         "name": "index",
         "rawType": "int64",
         "type": "integer"
        },
        {
         "name": "area_type",
         "rawType": "object",
         "type": "string"
        },
        {
         "name": "location",
         "rawType": "object",
         "type": "unknown"
        },
        {
         "name": "size",
         "rawType": "object",
         "type": "unknown"
        },
        {
         "name": "total_sqft",
         "rawType": "object",
         "type": "string"
        },
        {
         "name": "bath",
         "rawType": "float64",
         "type": "float"
        },
        {
         "name": "price",
         "rawType": "float64",
         "type": "float"
        }
       ],
       "conversionMethod": "pd.DataFrame",
       "ref": "9ffc4255-ae4b-4574-bd44-1b68b021dad3",
       "rows": [
        [
         "0",
         "Super built-up  Area",
         "Electronic City Phase II",
         "2 BHK",
         "1056",
         "2.0",
         "39.07"
        ],
        [
         "1",
         "Plot  Area",
         "Chikka Tirupathi",
         "4 Bedroom",
         "2600",
         "5.0",
         "120.0"
        ],
        [
         "2",
         "Built-up  Area",
         "Uttarahalli",
         "3 BHK",
         "1440",
         "2.0",
         "62.0"
        ],
        [
         "3",
         "Super built-up  Area",
         "Lingadheeranahalli",
         "3 BHK",
         "1521",
         "3.0",
         "95.0"
        ],
        [
         "4",
         "Super built-up  Area",
         "Kothanur",
         "2 BHK",
         "1200",
         "2.0",
         "51.0"
        ],
        [
         "5",
         "Super built-up  Area",
         "Whitefield",
         "2 BHK",
         "1170",
         "2.0",
         "38.0"
        ],
        [
         "6",
         "Super built-up  Area",
         "Old Airport Road",
         "4 BHK",
         "2732",
         "4.0",
         "204.0"
        ],
        [
         "7",
         "Super built-up  Area",
         "Rajaji Nagar",
         "4 BHK",
         "3300",
         "4.0",
         "600.0"
        ],
        [
         "8",
         "Super built-up  Area",
         "Marathahalli",
         "3 BHK",
         "1310",
         "3.0",
         "63.25"
        ],
        [
         "9",
         "Plot  Area",
         "Gandhi Bazar",
         "6 Bedroom",
         "1020",
         "6.0",
         "370.0"
        ],
        [
         "10",
         "Super built-up  Area",
         "Whitefield",
         "3 BHK",
         "1800",
         "2.0",
         "70.0"
        ],
        [
         "11",
         "Plot  Area",
         "Whitefield",
         "4 Bedroom",
         "2785",
         "5.0",
         "295.0"
        ],
        [
         "12",
         "Super built-up  Area",
         "7th Phase JP Nagar",
         "2 BHK",
         "1000",
         "2.0",
         "38.0"
        ],
        [
         "13",
         "Built-up  Area",
         "Gottigere",
         "2 BHK",
         "1100",
         "2.0",
         "40.0"
        ],
        [
         "14",
         "Plot  Area",
         "Sarjapur",
         "3 Bedroom",
         "2250",
         "3.0",
         "148.0"
        ],
        [
         "15",
         "Super built-up  Area",
         "Mysore Road",
         "2 BHK",
         "1175",
         "2.0",
         "73.5"
        ],
        [
         "16",
         "Super built-up  Area",
         "Bisuvanahalli",
         "3 BHK",
         "1180",
         "3.0",
         "48.0"
        ],
        [
         "17",
         "Super built-up  Area",
         "Raja Rajeshwari Nagar",
         "3 BHK",
         "1540",
         "3.0",
         "60.0"
        ],
        [
         "18",
         "Super built-up  Area",
         "Ramakrishnappa Layout",
         "3 BHK",
         "2770",
         "4.0",
         "290.0"
        ],
        [
         "19",
         "Super built-up  Area",
         "Manayata Tech Park",
         "2 BHK",
         "1100",
         "2.0",
         "48.0"
        ],
        [
         "20",
         "Built-up  Area",
         "Kengeri",
         "1 BHK",
         "600",
         "1.0",
         "15.0"
        ],
        [
         "21",
         "Super built-up  Area",
         "Binny Pete",
         "3 BHK",
         "1755",
         "3.0",
         "122.0"
        ],
        [
         "22",
         "Plot  Area",
         "Thanisandra",
         "4 Bedroom",
         "2800",
         "5.0",
         "380.0"
        ],
        [
         "23",
         "Super built-up  Area",
         "Bellandur",
         "3 BHK",
         "1767",
         "3.0",
         "103.0"
        ],
        [
         "24",
         "Super built-up  Area",
         " Thanisandra",
         "1 RK",
         "510",
         "1.0",
         "25.25"
        ],
        [
         "25",
         "Super built-up  Area",
         "Mangammanapalya",
         "3 BHK",
         "1250",
         "3.0",
         "56.0"
        ],
        [
         "26",
         "Super built-up  Area",
         "Electronic City",
         "2 BHK",
         "660",
         "1.0",
         "23.1"
        ],
        [
         "27",
         "Built-up  Area",
         "Whitefield",
         "3 BHK",
         "1610",
         "3.0",
         "81.0"
        ],
        [
         "28",
         "Super built-up  Area",
         "Ramagondanahalli",
         "2 BHK",
         "1151",
         "2.0",
         "48.77"
        ],
        [
         "29",
         "Super built-up  Area",
         "Electronic City",
         "3 BHK",
         "1025",
         "2.0",
         "47.0"
        ],
        [
         "30",
         "Super built-up  Area",
         "Yelahanka",
         "4 BHK",
         "2100 - 2850",
         "4.0",
         "186.0"
        ],
        [
         "31",
         "Super built-up  Area",
         "Bisuvanahalli",
         "3 BHK",
         "1075",
         "2.0",
         "35.0"
        ],
        [
         "32",
         "Super built-up  Area",
         "Hebbal",
         "3 BHK",
         "1760",
         "2.0",
         "123.0"
        ],
        [
         "33",
         "Super built-up  Area",
         "Raja Rajeshwari Nagar",
         "3 BHK",
         "1693",
         "3.0",
         "57.39"
        ],
        [
         "34",
         "Built-up  Area",
         "Kasturi Nagar",
         "3 BHK",
         "1925",
         "3.0",
         "125.0"
        ],
        [
         "35",
         "Super built-up  Area",
         "Kanakpura Road",
         "2 BHK",
         "700",
         "2.0",
         "36.0"
        ],
        [
         "36",
         "Super built-up  Area",
         "Electronics City Phase 1",
         "2 BHK",
         "1070",
         "2.0",
         "45.5"
        ],
        [
         "37",
         "Super built-up  Area",
         "Kundalahalli",
         "3 BHK",
         "1724",
         "3.0",
         "125.0"
        ],
        [
         "38",
         "Super built-up  Area",
         "Chikkalasandra",
         "3 BHK",
         "1290",
         "2.0",
         "56.12"
        ],
        [
         "39",
         "Built-up  Area",
         "Uttarahalli",
         "2 BHK",
         "1143",
         "2.0",
         "45.0"
        ],
        [
         "40",
         "Built-up  Area",
         "Murugeshpalya",
         "2 BHK",
         "1296",
         "2.0",
         "81.0"
        ],
        [
         "41",
         "Super built-up  Area",
         "Sarjapur  Road",
         "3 BHK",
         "1254",
         "3.0",
         "38.0"
        ],
        [
         "42",
         "Super built-up  Area",
         "Ganga Nagar",
         "1 BHK",
         "600",
         "1.0",
         "38.0"
        ],
        [
         "43",
         "Plot  Area",
         "Yelahanka",
         "1 Bedroom",
         "660",
         "1.0",
         "48.0"
        ],
        [
         "44",
         "Super built-up  Area",
         "Kanakpura Road",
         "2 BHK",
         "1330.74",
         "2.0",
         "91.79"
        ],
        [
         "45",
         "Plot  Area",
         "HSR Layout",
         "8 Bedroom",
         "600",
         "9.0",
         "200.0"
        ],
        [
         "46",
         "Super built-up  Area",
         "Doddathoguru",
         "2 BHK",
         "970",
         "2.0",
         "33.0"
        ],
        [
         "47",
         "Super built-up  Area",
         "Whitefield",
         "2 BHK",
         "1459",
         "2.0",
         "94.82"
        ],
        [
         "48",
         "Plot  Area",
         "KR Puram",
         "2 Bedroom",
         "800",
         "1.0",
         "130.0"
        ],
        [
         "49",
         "Built-up  Area",
         "Himagiri Meadows",
         "2 BHK",
         "869",
         "2.0",
         "36.0"
        ]
       ],
       "shape": {
        "columns": 6,
        "rows": 13320
       }
      },
      "text/html": [
       "<div>\n",
       "<style scoped>\n",
       "    .dataframe tbody tr th:only-of-type {\n",
       "        vertical-align: middle;\n",
       "    }\n",
       "\n",
       "    .dataframe tbody tr th {\n",
       "        vertical-align: top;\n",
       "    }\n",
       "\n",
       "    .dataframe thead th {\n",
       "        text-align: right;\n",
       "    }\n",
       "</style>\n",
       "<table border=\"1\" class=\"dataframe\">\n",
       "  <thead>\n",
       "    <tr style=\"text-align: right;\">\n",
       "      <th></th>\n",
       "      <th>area_type</th>\n",
       "      <th>location</th>\n",
       "      <th>size</th>\n",
       "      <th>total_sqft</th>\n",
       "      <th>bath</th>\n",
       "      <th>price</th>\n",
       "    </tr>\n",
       "  </thead>\n",
       "  <tbody>\n",
       "    <tr>\n",
       "      <th>0</th>\n",
       "      <td>Super built-up  Area</td>\n",
       "      <td>Electronic City Phase II</td>\n",
       "      <td>2 BHK</td>\n",
       "      <td>1056</td>\n",
       "      <td>2.0</td>\n",
       "      <td>39.07</td>\n",
       "    </tr>\n",
       "    <tr>\n",
       "      <th>1</th>\n",
       "      <td>Plot  Area</td>\n",
       "      <td>Chikka Tirupathi</td>\n",
       "      <td>4 Bedroom</td>\n",
       "      <td>2600</td>\n",
       "      <td>5.0</td>\n",
       "      <td>120.00</td>\n",
       "    </tr>\n",
       "    <tr>\n",
       "      <th>2</th>\n",
       "      <td>Built-up  Area</td>\n",
       "      <td>Uttarahalli</td>\n",
       "      <td>3 BHK</td>\n",
       "      <td>1440</td>\n",
       "      <td>2.0</td>\n",
       "      <td>62.00</td>\n",
       "    </tr>\n",
       "    <tr>\n",
       "      <th>3</th>\n",
       "      <td>Super built-up  Area</td>\n",
       "      <td>Lingadheeranahalli</td>\n",
       "      <td>3 BHK</td>\n",
       "      <td>1521</td>\n",
       "      <td>3.0</td>\n",
       "      <td>95.00</td>\n",
       "    </tr>\n",
       "    <tr>\n",
       "      <th>4</th>\n",
       "      <td>Super built-up  Area</td>\n",
       "      <td>Kothanur</td>\n",
       "      <td>2 BHK</td>\n",
       "      <td>1200</td>\n",
       "      <td>2.0</td>\n",
       "      <td>51.00</td>\n",
       "    </tr>\n",
       "    <tr>\n",
       "      <th>...</th>\n",
       "      <td>...</td>\n",
       "      <td>...</td>\n",
       "      <td>...</td>\n",
       "      <td>...</td>\n",
       "      <td>...</td>\n",
       "      <td>...</td>\n",
       "    </tr>\n",
       "    <tr>\n",
       "      <th>13315</th>\n",
       "      <td>Built-up  Area</td>\n",
       "      <td>Whitefield</td>\n",
       "      <td>5 Bedroom</td>\n",
       "      <td>3453</td>\n",
       "      <td>4.0</td>\n",
       "      <td>231.00</td>\n",
       "    </tr>\n",
       "    <tr>\n",
       "      <th>13316</th>\n",
       "      <td>Super built-up  Area</td>\n",
       "      <td>Richards Town</td>\n",
       "      <td>4 BHK</td>\n",
       "      <td>3600</td>\n",
       "      <td>5.0</td>\n",
       "      <td>400.00</td>\n",
       "    </tr>\n",
       "    <tr>\n",
       "      <th>13317</th>\n",
       "      <td>Built-up  Area</td>\n",
       "      <td>Raja Rajeshwari Nagar</td>\n",
       "      <td>2 BHK</td>\n",
       "      <td>1141</td>\n",
       "      <td>2.0</td>\n",
       "      <td>60.00</td>\n",
       "    </tr>\n",
       "    <tr>\n",
       "      <th>13318</th>\n",
       "      <td>Super built-up  Area</td>\n",
       "      <td>Padmanabhanagar</td>\n",
       "      <td>4 BHK</td>\n",
       "      <td>4689</td>\n",
       "      <td>4.0</td>\n",
       "      <td>488.00</td>\n",
       "    </tr>\n",
       "    <tr>\n",
       "      <th>13319</th>\n",
       "      <td>Super built-up  Area</td>\n",
       "      <td>Doddathoguru</td>\n",
       "      <td>1 BHK</td>\n",
       "      <td>550</td>\n",
       "      <td>1.0</td>\n",
       "      <td>17.00</td>\n",
       "    </tr>\n",
       "  </tbody>\n",
       "</table>\n",
       "<p>13320 rows × 6 columns</p>\n",
       "</div>"
      ],
      "text/plain": [
       "                  area_type                  location       size total_sqft  \\\n",
       "0      Super built-up  Area  Electronic City Phase II      2 BHK       1056   \n",
       "1                Plot  Area          Chikka Tirupathi  4 Bedroom       2600   \n",
       "2            Built-up  Area               Uttarahalli      3 BHK       1440   \n",
       "3      Super built-up  Area        Lingadheeranahalli      3 BHK       1521   \n",
       "4      Super built-up  Area                  Kothanur      2 BHK       1200   \n",
       "...                     ...                       ...        ...        ...   \n",
       "13315        Built-up  Area                Whitefield  5 Bedroom       3453   \n",
       "13316  Super built-up  Area             Richards Town      4 BHK       3600   \n",
       "13317        Built-up  Area     Raja Rajeshwari Nagar      2 BHK       1141   \n",
       "13318  Super built-up  Area           Padmanabhanagar      4 BHK       4689   \n",
       "13319  Super built-up  Area              Doddathoguru      1 BHK        550   \n",
       "\n",
       "       bath   price  \n",
       "0       2.0   39.07  \n",
       "1       5.0  120.00  \n",
       "2       2.0   62.00  \n",
       "3       3.0   95.00  \n",
       "4       2.0   51.00  \n",
       "...     ...     ...  \n",
       "13315   4.0  231.00  \n",
       "13316   5.0  400.00  \n",
       "13317   2.0   60.00  \n",
       "13318   4.0  488.00  \n",
       "13319   1.0   17.00  \n",
       "\n",
       "[13320 rows x 6 columns]"
      ]
     },
     "execution_count": 4,
     "metadata": {},
     "output_type": "execute_result"
    }
   ],
   "source": [
    "df1 = df.copy()\n",
    "\n",
    "#Dropping unnecessary columns that are not relevant to the analysis\n",
    "df1 = df1.drop(['availability', 'society', 'balcony'], axis='columns')\n",
    "df1"
   ]
  },
  {
   "cell_type": "code",
   "execution_count": 5,
   "metadata": {},
   "outputs": [
    {
     "data": {
      "text/plain": [
       "Index(['area_type', 'location', 'size', 'total_sqft', 'bath', 'price'], dtype='object')"
      ]
     },
     "execution_count": 5,
     "metadata": {},
     "output_type": "execute_result"
    }
   ],
   "source": [
    "df1.columns"
   ]
  },
  {
   "cell_type": "code",
   "execution_count": 6,
   "metadata": {},
   "outputs": [
    {
     "data": {
      "application/vnd.microsoft.datawrangler.viewer.v0+json": {
       "columns": [
        {
         "name": "index",
         "rawType": "int64",
         "type": "integer"
        },
        {
         "name": "area_type",
         "rawType": "object",
         "type": "string"
        },
        {
         "name": "location",
         "rawType": "object",
         "type": "unknown"
        },
        {
         "name": "total_sqft",
         "rawType": "object",
         "type": "string"
        },
        {
         "name": "bath",
         "rawType": "float64",
         "type": "float"
        },
        {
         "name": "price",
         "rawType": "float64",
         "type": "float"
        },
        {
         "name": "size_bkh",
         "rawType": "float64",
         "type": "float"
        }
       ],
       "conversionMethod": "pd.DataFrame",
       "ref": "162a0c2b-6131-45cd-9dca-0f11b77635f1",
       "rows": [
        [
         "0",
         "Super built-up  Area",
         "Electronic City Phase II",
         "1056",
         "2.0",
         "39.07",
         "2.0"
        ],
        [
         "1",
         "Plot  Area",
         "Chikka Tirupathi",
         "2600",
         "5.0",
         "120.0",
         "4.0"
        ],
        [
         "2",
         "Built-up  Area",
         "Uttarahalli",
         "1440",
         "2.0",
         "62.0",
         "3.0"
        ],
        [
         "3",
         "Super built-up  Area",
         "Lingadheeranahalli",
         "1521",
         "3.0",
         "95.0",
         "3.0"
        ],
        [
         "4",
         "Super built-up  Area",
         "Kothanur",
         "1200",
         "2.0",
         "51.0",
         "2.0"
        ],
        [
         "5",
         "Super built-up  Area",
         "Whitefield",
         "1170",
         "2.0",
         "38.0",
         "2.0"
        ],
        [
         "6",
         "Super built-up  Area",
         "Old Airport Road",
         "2732",
         "4.0",
         "204.0",
         "4.0"
        ],
        [
         "7",
         "Super built-up  Area",
         "Rajaji Nagar",
         "3300",
         "4.0",
         "600.0",
         "4.0"
        ],
        [
         "8",
         "Super built-up  Area",
         "Marathahalli",
         "1310",
         "3.0",
         "63.25",
         "3.0"
        ],
        [
         "9",
         "Plot  Area",
         "Gandhi Bazar",
         "1020",
         "6.0",
         "370.0",
         "6.0"
        ],
        [
         "10",
         "Super built-up  Area",
         "Whitefield",
         "1800",
         "2.0",
         "70.0",
         "3.0"
        ],
        [
         "11",
         "Plot  Area",
         "Whitefield",
         "2785",
         "5.0",
         "295.0",
         "4.0"
        ],
        [
         "12",
         "Super built-up  Area",
         "7th Phase JP Nagar",
         "1000",
         "2.0",
         "38.0",
         "2.0"
        ],
        [
         "13",
         "Built-up  Area",
         "Gottigere",
         "1100",
         "2.0",
         "40.0",
         "2.0"
        ],
        [
         "14",
         "Plot  Area",
         "Sarjapur",
         "2250",
         "3.0",
         "148.0",
         "3.0"
        ],
        [
         "15",
         "Super built-up  Area",
         "Mysore Road",
         "1175",
         "2.0",
         "73.5",
         "2.0"
        ],
        [
         "16",
         "Super built-up  Area",
         "Bisuvanahalli",
         "1180",
         "3.0",
         "48.0",
         "3.0"
        ],
        [
         "17",
         "Super built-up  Area",
         "Raja Rajeshwari Nagar",
         "1540",
         "3.0",
         "60.0",
         "3.0"
        ],
        [
         "18",
         "Super built-up  Area",
         "Ramakrishnappa Layout",
         "2770",
         "4.0",
         "290.0",
         "3.0"
        ],
        [
         "19",
         "Super built-up  Area",
         "Manayata Tech Park",
         "1100",
         "2.0",
         "48.0",
         "2.0"
        ],
        [
         "20",
         "Built-up  Area",
         "Kengeri",
         "600",
         "1.0",
         "15.0",
         "1.0"
        ],
        [
         "21",
         "Super built-up  Area",
         "Binny Pete",
         "1755",
         "3.0",
         "122.0",
         "3.0"
        ],
        [
         "22",
         "Plot  Area",
         "Thanisandra",
         "2800",
         "5.0",
         "380.0",
         "4.0"
        ],
        [
         "23",
         "Super built-up  Area",
         "Bellandur",
         "1767",
         "3.0",
         "103.0",
         "3.0"
        ],
        [
         "24",
         "Super built-up  Area",
         " Thanisandra",
         "510",
         "1.0",
         "25.25",
         "1.0"
        ],
        [
         "25",
         "Super built-up  Area",
         "Mangammanapalya",
         "1250",
         "3.0",
         "56.0",
         "3.0"
        ],
        [
         "26",
         "Super built-up  Area",
         "Electronic City",
         "660",
         "1.0",
         "23.1",
         "2.0"
        ],
        [
         "27",
         "Built-up  Area",
         "Whitefield",
         "1610",
         "3.0",
         "81.0",
         "3.0"
        ],
        [
         "28",
         "Super built-up  Area",
         "Ramagondanahalli",
         "1151",
         "2.0",
         "48.77",
         "2.0"
        ],
        [
         "29",
         "Super built-up  Area",
         "Electronic City",
         "1025",
         "2.0",
         "47.0",
         "3.0"
        ],
        [
         "30",
         "Super built-up  Area",
         "Yelahanka",
         "2100 - 2850",
         "4.0",
         "186.0",
         "4.0"
        ],
        [
         "31",
         "Super built-up  Area",
         "Bisuvanahalli",
         "1075",
         "2.0",
         "35.0",
         "3.0"
        ],
        [
         "32",
         "Super built-up  Area",
         "Hebbal",
         "1760",
         "2.0",
         "123.0",
         "3.0"
        ],
        [
         "33",
         "Super built-up  Area",
         "Raja Rajeshwari Nagar",
         "1693",
         "3.0",
         "57.39",
         "3.0"
        ],
        [
         "34",
         "Built-up  Area",
         "Kasturi Nagar",
         "1925",
         "3.0",
         "125.0",
         "3.0"
        ],
        [
         "35",
         "Super built-up  Area",
         "Kanakpura Road",
         "700",
         "2.0",
         "36.0",
         "2.0"
        ],
        [
         "36",
         "Super built-up  Area",
         "Electronics City Phase 1",
         "1070",
         "2.0",
         "45.5",
         "2.0"
        ],
        [
         "37",
         "Super built-up  Area",
         "Kundalahalli",
         "1724",
         "3.0",
         "125.0",
         "3.0"
        ],
        [
         "38",
         "Super built-up  Area",
         "Chikkalasandra",
         "1290",
         "2.0",
         "56.12",
         "3.0"
        ],
        [
         "39",
         "Built-up  Area",
         "Uttarahalli",
         "1143",
         "2.0",
         "45.0",
         "2.0"
        ],
        [
         "40",
         "Built-up  Area",
         "Murugeshpalya",
         "1296",
         "2.0",
         "81.0",
         "2.0"
        ],
        [
         "41",
         "Super built-up  Area",
         "Sarjapur  Road",
         "1254",
         "3.0",
         "38.0",
         "3.0"
        ],
        [
         "42",
         "Super built-up  Area",
         "Ganga Nagar",
         "600",
         "1.0",
         "38.0",
         "1.0"
        ],
        [
         "43",
         "Plot  Area",
         "Yelahanka",
         "660",
         "1.0",
         "48.0",
         "1.0"
        ],
        [
         "44",
         "Super built-up  Area",
         "Kanakpura Road",
         "1330.74",
         "2.0",
         "91.79",
         "2.0"
        ],
        [
         "45",
         "Plot  Area",
         "HSR Layout",
         "600",
         "9.0",
         "200.0",
         "8.0"
        ],
        [
         "46",
         "Super built-up  Area",
         "Doddathoguru",
         "970",
         "2.0",
         "33.0",
         "2.0"
        ],
        [
         "47",
         "Super built-up  Area",
         "Whitefield",
         "1459",
         "2.0",
         "94.82",
         "2.0"
        ],
        [
         "48",
         "Plot  Area",
         "KR Puram",
         "800",
         "1.0",
         "130.0",
         "2.0"
        ],
        [
         "49",
         "Built-up  Area",
         "Himagiri Meadows",
         "869",
         "2.0",
         "36.0",
         "2.0"
        ]
       ],
       "shape": {
        "columns": 6,
        "rows": 13320
       }
      },
      "text/html": [
       "<div>\n",
       "<style scoped>\n",
       "    .dataframe tbody tr th:only-of-type {\n",
       "        vertical-align: middle;\n",
       "    }\n",
       "\n",
       "    .dataframe tbody tr th {\n",
       "        vertical-align: top;\n",
       "    }\n",
       "\n",
       "    .dataframe thead th {\n",
       "        text-align: right;\n",
       "    }\n",
       "</style>\n",
       "<table border=\"1\" class=\"dataframe\">\n",
       "  <thead>\n",
       "    <tr style=\"text-align: right;\">\n",
       "      <th></th>\n",
       "      <th>area_type</th>\n",
       "      <th>location</th>\n",
       "      <th>total_sqft</th>\n",
       "      <th>bath</th>\n",
       "      <th>price</th>\n",
       "      <th>size_bkh</th>\n",
       "    </tr>\n",
       "  </thead>\n",
       "  <tbody>\n",
       "    <tr>\n",
       "      <th>0</th>\n",
       "      <td>Super built-up  Area</td>\n",
       "      <td>Electronic City Phase II</td>\n",
       "      <td>1056</td>\n",
       "      <td>2.0</td>\n",
       "      <td>39.07</td>\n",
       "      <td>2.0</td>\n",
       "    </tr>\n",
       "    <tr>\n",
       "      <th>1</th>\n",
       "      <td>Plot  Area</td>\n",
       "      <td>Chikka Tirupathi</td>\n",
       "      <td>2600</td>\n",
       "      <td>5.0</td>\n",
       "      <td>120.00</td>\n",
       "      <td>4.0</td>\n",
       "    </tr>\n",
       "    <tr>\n",
       "      <th>2</th>\n",
       "      <td>Built-up  Area</td>\n",
       "      <td>Uttarahalli</td>\n",
       "      <td>1440</td>\n",
       "      <td>2.0</td>\n",
       "      <td>62.00</td>\n",
       "      <td>3.0</td>\n",
       "    </tr>\n",
       "    <tr>\n",
       "      <th>3</th>\n",
       "      <td>Super built-up  Area</td>\n",
       "      <td>Lingadheeranahalli</td>\n",
       "      <td>1521</td>\n",
       "      <td>3.0</td>\n",
       "      <td>95.00</td>\n",
       "      <td>3.0</td>\n",
       "    </tr>\n",
       "    <tr>\n",
       "      <th>4</th>\n",
       "      <td>Super built-up  Area</td>\n",
       "      <td>Kothanur</td>\n",
       "      <td>1200</td>\n",
       "      <td>2.0</td>\n",
       "      <td>51.00</td>\n",
       "      <td>2.0</td>\n",
       "    </tr>\n",
       "    <tr>\n",
       "      <th>...</th>\n",
       "      <td>...</td>\n",
       "      <td>...</td>\n",
       "      <td>...</td>\n",
       "      <td>...</td>\n",
       "      <td>...</td>\n",
       "      <td>...</td>\n",
       "    </tr>\n",
       "    <tr>\n",
       "      <th>13315</th>\n",
       "      <td>Built-up  Area</td>\n",
       "      <td>Whitefield</td>\n",
       "      <td>3453</td>\n",
       "      <td>4.0</td>\n",
       "      <td>231.00</td>\n",
       "      <td>5.0</td>\n",
       "    </tr>\n",
       "    <tr>\n",
       "      <th>13316</th>\n",
       "      <td>Super built-up  Area</td>\n",
       "      <td>Richards Town</td>\n",
       "      <td>3600</td>\n",
       "      <td>5.0</td>\n",
       "      <td>400.00</td>\n",
       "      <td>4.0</td>\n",
       "    </tr>\n",
       "    <tr>\n",
       "      <th>13317</th>\n",
       "      <td>Built-up  Area</td>\n",
       "      <td>Raja Rajeshwari Nagar</td>\n",
       "      <td>1141</td>\n",
       "      <td>2.0</td>\n",
       "      <td>60.00</td>\n",
       "      <td>2.0</td>\n",
       "    </tr>\n",
       "    <tr>\n",
       "      <th>13318</th>\n",
       "      <td>Super built-up  Area</td>\n",
       "      <td>Padmanabhanagar</td>\n",
       "      <td>4689</td>\n",
       "      <td>4.0</td>\n",
       "      <td>488.00</td>\n",
       "      <td>4.0</td>\n",
       "    </tr>\n",
       "    <tr>\n",
       "      <th>13319</th>\n",
       "      <td>Super built-up  Area</td>\n",
       "      <td>Doddathoguru</td>\n",
       "      <td>550</td>\n",
       "      <td>1.0</td>\n",
       "      <td>17.00</td>\n",
       "      <td>1.0</td>\n",
       "    </tr>\n",
       "  </tbody>\n",
       "</table>\n",
       "<p>13320 rows × 6 columns</p>\n",
       "</div>"
      ],
      "text/plain": [
       "                  area_type                  location total_sqft  bath  \\\n",
       "0      Super built-up  Area  Electronic City Phase II       1056   2.0   \n",
       "1                Plot  Area          Chikka Tirupathi       2600   5.0   \n",
       "2            Built-up  Area               Uttarahalli       1440   2.0   \n",
       "3      Super built-up  Area        Lingadheeranahalli       1521   3.0   \n",
       "4      Super built-up  Area                  Kothanur       1200   2.0   \n",
       "...                     ...                       ...        ...   ...   \n",
       "13315        Built-up  Area                Whitefield       3453   4.0   \n",
       "13316  Super built-up  Area             Richards Town       3600   5.0   \n",
       "13317        Built-up  Area     Raja Rajeshwari Nagar       1141   2.0   \n",
       "13318  Super built-up  Area           Padmanabhanagar       4689   4.0   \n",
       "13319  Super built-up  Area              Doddathoguru        550   1.0   \n",
       "\n",
       "        price  size_bkh  \n",
       "0       39.07       2.0  \n",
       "1      120.00       4.0  \n",
       "2       62.00       3.0  \n",
       "3       95.00       3.0  \n",
       "4       51.00       2.0  \n",
       "...       ...       ...  \n",
       "13315  231.00       5.0  \n",
       "13316  400.00       4.0  \n",
       "13317   60.00       2.0  \n",
       "13318  488.00       4.0  \n",
       "13319   17.00       1.0  \n",
       "\n",
       "[13320 rows x 6 columns]"
      ]
     },
     "execution_count": 6,
     "metadata": {},
     "output_type": "execute_result"
    }
   ],
   "source": [
    "# Create a new column 'size_bkh' by extracting the integer part from the 'size' column\n",
    "df1['size_bkh'] = df1['size'].apply(lambda x: int(x.split(\" \")[0]) if x is not None and isinstance(x, str) else x)\n",
    "\n",
    "# Drop the 'size' column\n",
    "df1.drop('size', axis=1, inplace=True)\n",
    "\n",
    "# Display the DataFrame\n",
    "df1"
   ]
  },
  {
   "cell_type": "code",
   "execution_count": 7,
   "metadata": {},
   "outputs": [
    {
     "data": {
      "application/vnd.microsoft.datawrangler.viewer.v0+json": {
       "columns": [
        {
         "name": "index",
         "rawType": "int64",
         "type": "integer"
        },
        {
         "name": "area_type",
         "rawType": "object",
         "type": "string"
        },
        {
         "name": "location",
         "rawType": "object",
         "type": "unknown"
        },
        {
         "name": "bath",
         "rawType": "float64",
         "type": "float"
        },
        {
         "name": "price",
         "rawType": "float64",
         "type": "float"
        },
        {
         "name": "size_bkh",
         "rawType": "float64",
         "type": "float"
        },
        {
         "name": "mod_total_sqft",
         "rawType": "float64",
         "type": "float"
        }
       ],
       "conversionMethod": "pd.DataFrame",
       "ref": "a2638f95-73d2-4c36-b852-9686603586bf",
       "rows": [
        [
         "0",
         "Super built-up  Area",
         "Electronic City Phase II",
         "2.0",
         "39.07",
         "2.0",
         "1056.0"
        ],
        [
         "1",
         "Plot  Area",
         "Chikka Tirupathi",
         "5.0",
         "120.0",
         "4.0",
         "2600.0"
        ],
        [
         "2",
         "Built-up  Area",
         "Uttarahalli",
         "2.0",
         "62.0",
         "3.0",
         "1440.0"
        ],
        [
         "3",
         "Super built-up  Area",
         "Lingadheeranahalli",
         "3.0",
         "95.0",
         "3.0",
         "1521.0"
        ],
        [
         "4",
         "Super built-up  Area",
         "Kothanur",
         "2.0",
         "51.0",
         "2.0",
         "1200.0"
        ],
        [
         "5",
         "Super built-up  Area",
         "Whitefield",
         "2.0",
         "38.0",
         "2.0",
         "1170.0"
        ],
        [
         "6",
         "Super built-up  Area",
         "Old Airport Road",
         "4.0",
         "204.0",
         "4.0",
         "2732.0"
        ],
        [
         "7",
         "Super built-up  Area",
         "Rajaji Nagar",
         "4.0",
         "600.0",
         "4.0",
         "3300.0"
        ],
        [
         "8",
         "Super built-up  Area",
         "Marathahalli",
         "3.0",
         "63.25",
         "3.0",
         "1310.0"
        ],
        [
         "9",
         "Plot  Area",
         "Gandhi Bazar",
         "6.0",
         "370.0",
         "6.0",
         "1020.0"
        ],
        [
         "10",
         "Super built-up  Area",
         "Whitefield",
         "2.0",
         "70.0",
         "3.0",
         "1800.0"
        ],
        [
         "11",
         "Plot  Area",
         "Whitefield",
         "5.0",
         "295.0",
         "4.0",
         "2785.0"
        ],
        [
         "12",
         "Super built-up  Area",
         "7th Phase JP Nagar",
         "2.0",
         "38.0",
         "2.0",
         "1000.0"
        ],
        [
         "13",
         "Built-up  Area",
         "Gottigere",
         "2.0",
         "40.0",
         "2.0",
         "1100.0"
        ],
        [
         "14",
         "Plot  Area",
         "Sarjapur",
         "3.0",
         "148.0",
         "3.0",
         "2250.0"
        ],
        [
         "15",
         "Super built-up  Area",
         "Mysore Road",
         "2.0",
         "73.5",
         "2.0",
         "1175.0"
        ],
        [
         "16",
         "Super built-up  Area",
         "Bisuvanahalli",
         "3.0",
         "48.0",
         "3.0",
         "1180.0"
        ],
        [
         "17",
         "Super built-up  Area",
         "Raja Rajeshwari Nagar",
         "3.0",
         "60.0",
         "3.0",
         "1540.0"
        ],
        [
         "18",
         "Super built-up  Area",
         "Ramakrishnappa Layout",
         "4.0",
         "290.0",
         "3.0",
         "2770.0"
        ],
        [
         "19",
         "Super built-up  Area",
         "Manayata Tech Park",
         "2.0",
         "48.0",
         "2.0",
         "1100.0"
        ],
        [
         "20",
         "Built-up  Area",
         "Kengeri",
         "1.0",
         "15.0",
         "1.0",
         "600.0"
        ],
        [
         "21",
         "Super built-up  Area",
         "Binny Pete",
         "3.0",
         "122.0",
         "3.0",
         "1755.0"
        ],
        [
         "22",
         "Plot  Area",
         "Thanisandra",
         "5.0",
         "380.0",
         "4.0",
         "2800.0"
        ],
        [
         "23",
         "Super built-up  Area",
         "Bellandur",
         "3.0",
         "103.0",
         "3.0",
         "1767.0"
        ],
        [
         "24",
         "Super built-up  Area",
         " Thanisandra",
         "1.0",
         "25.25",
         "1.0",
         "510.0"
        ],
        [
         "25",
         "Super built-up  Area",
         "Mangammanapalya",
         "3.0",
         "56.0",
         "3.0",
         "1250.0"
        ],
        [
         "26",
         "Super built-up  Area",
         "Electronic City",
         "1.0",
         "23.1",
         "2.0",
         "660.0"
        ],
        [
         "27",
         "Built-up  Area",
         "Whitefield",
         "3.0",
         "81.0",
         "3.0",
         "1610.0"
        ],
        [
         "28",
         "Super built-up  Area",
         "Ramagondanahalli",
         "2.0",
         "48.77",
         "2.0",
         "1151.0"
        ],
        [
         "29",
         "Super built-up  Area",
         "Electronic City",
         "2.0",
         "47.0",
         "3.0",
         "1025.0"
        ],
        [
         "30",
         "Super built-up  Area",
         "Yelahanka",
         "4.0",
         "186.0",
         "4.0",
         "2475.0"
        ],
        [
         "31",
         "Super built-up  Area",
         "Bisuvanahalli",
         "2.0",
         "35.0",
         "3.0",
         "1075.0"
        ],
        [
         "32",
         "Super built-up  Area",
         "Hebbal",
         "2.0",
         "123.0",
         "3.0",
         "1760.0"
        ],
        [
         "33",
         "Super built-up  Area",
         "Raja Rajeshwari Nagar",
         "3.0",
         "57.39",
         "3.0",
         "1693.0"
        ],
        [
         "34",
         "Built-up  Area",
         "Kasturi Nagar",
         "3.0",
         "125.0",
         "3.0",
         "1925.0"
        ],
        [
         "35",
         "Super built-up  Area",
         "Kanakpura Road",
         "2.0",
         "36.0",
         "2.0",
         "700.0"
        ],
        [
         "36",
         "Super built-up  Area",
         "Electronics City Phase 1",
         "2.0",
         "45.5",
         "2.0",
         "1070.0"
        ],
        [
         "37",
         "Super built-up  Area",
         "Kundalahalli",
         "3.0",
         "125.0",
         "3.0",
         "1724.0"
        ],
        [
         "38",
         "Super built-up  Area",
         "Chikkalasandra",
         "2.0",
         "56.12",
         "3.0",
         "1290.0"
        ],
        [
         "39",
         "Built-up  Area",
         "Uttarahalli",
         "2.0",
         "45.0",
         "2.0",
         "1143.0"
        ],
        [
         "40",
         "Built-up  Area",
         "Murugeshpalya",
         "2.0",
         "81.0",
         "2.0",
         "1296.0"
        ],
        [
         "41",
         "Super built-up  Area",
         "Sarjapur  Road",
         "3.0",
         "38.0",
         "3.0",
         "1254.0"
        ],
        [
         "42",
         "Super built-up  Area",
         "Ganga Nagar",
         "1.0",
         "38.0",
         "1.0",
         "600.0"
        ],
        [
         "43",
         "Plot  Area",
         "Yelahanka",
         "1.0",
         "48.0",
         "1.0",
         "660.0"
        ],
        [
         "44",
         "Super built-up  Area",
         "Kanakpura Road",
         "2.0",
         "91.79",
         "2.0",
         "1330.74"
        ],
        [
         "45",
         "Plot  Area",
         "HSR Layout",
         "9.0",
         "200.0",
         "8.0",
         "600.0"
        ],
        [
         "46",
         "Super built-up  Area",
         "Doddathoguru",
         "2.0",
         "33.0",
         "2.0",
         "970.0"
        ],
        [
         "47",
         "Super built-up  Area",
         "Whitefield",
         "2.0",
         "94.82",
         "2.0",
         "1459.0"
        ],
        [
         "48",
         "Plot  Area",
         "KR Puram",
         "1.0",
         "130.0",
         "2.0",
         "800.0"
        ],
        [
         "49",
         "Built-up  Area",
         "Himagiri Meadows",
         "2.0",
         "36.0",
         "2.0",
         "869.0"
        ]
       ],
       "shape": {
        "columns": 6,
        "rows": 13320
       }
      },
      "text/html": [
       "<div>\n",
       "<style scoped>\n",
       "    .dataframe tbody tr th:only-of-type {\n",
       "        vertical-align: middle;\n",
       "    }\n",
       "\n",
       "    .dataframe tbody tr th {\n",
       "        vertical-align: top;\n",
       "    }\n",
       "\n",
       "    .dataframe thead th {\n",
       "        text-align: right;\n",
       "    }\n",
       "</style>\n",
       "<table border=\"1\" class=\"dataframe\">\n",
       "  <thead>\n",
       "    <tr style=\"text-align: right;\">\n",
       "      <th></th>\n",
       "      <th>area_type</th>\n",
       "      <th>location</th>\n",
       "      <th>bath</th>\n",
       "      <th>price</th>\n",
       "      <th>size_bkh</th>\n",
       "      <th>mod_total_sqft</th>\n",
       "    </tr>\n",
       "  </thead>\n",
       "  <tbody>\n",
       "    <tr>\n",
       "      <th>0</th>\n",
       "      <td>Super built-up  Area</td>\n",
       "      <td>Electronic City Phase II</td>\n",
       "      <td>2.0</td>\n",
       "      <td>39.07</td>\n",
       "      <td>2.0</td>\n",
       "      <td>1056.0</td>\n",
       "    </tr>\n",
       "    <tr>\n",
       "      <th>1</th>\n",
       "      <td>Plot  Area</td>\n",
       "      <td>Chikka Tirupathi</td>\n",
       "      <td>5.0</td>\n",
       "      <td>120.00</td>\n",
       "      <td>4.0</td>\n",
       "      <td>2600.0</td>\n",
       "    </tr>\n",
       "    <tr>\n",
       "      <th>2</th>\n",
       "      <td>Built-up  Area</td>\n",
       "      <td>Uttarahalli</td>\n",
       "      <td>2.0</td>\n",
       "      <td>62.00</td>\n",
       "      <td>3.0</td>\n",
       "      <td>1440.0</td>\n",
       "    </tr>\n",
       "    <tr>\n",
       "      <th>3</th>\n",
       "      <td>Super built-up  Area</td>\n",
       "      <td>Lingadheeranahalli</td>\n",
       "      <td>3.0</td>\n",
       "      <td>95.00</td>\n",
       "      <td>3.0</td>\n",
       "      <td>1521.0</td>\n",
       "    </tr>\n",
       "    <tr>\n",
       "      <th>4</th>\n",
       "      <td>Super built-up  Area</td>\n",
       "      <td>Kothanur</td>\n",
       "      <td>2.0</td>\n",
       "      <td>51.00</td>\n",
       "      <td>2.0</td>\n",
       "      <td>1200.0</td>\n",
       "    </tr>\n",
       "    <tr>\n",
       "      <th>...</th>\n",
       "      <td>...</td>\n",
       "      <td>...</td>\n",
       "      <td>...</td>\n",
       "      <td>...</td>\n",
       "      <td>...</td>\n",
       "      <td>...</td>\n",
       "    </tr>\n",
       "    <tr>\n",
       "      <th>13315</th>\n",
       "      <td>Built-up  Area</td>\n",
       "      <td>Whitefield</td>\n",
       "      <td>4.0</td>\n",
       "      <td>231.00</td>\n",
       "      <td>5.0</td>\n",
       "      <td>3453.0</td>\n",
       "    </tr>\n",
       "    <tr>\n",
       "      <th>13316</th>\n",
       "      <td>Super built-up  Area</td>\n",
       "      <td>Richards Town</td>\n",
       "      <td>5.0</td>\n",
       "      <td>400.00</td>\n",
       "      <td>4.0</td>\n",
       "      <td>3600.0</td>\n",
       "    </tr>\n",
       "    <tr>\n",
       "      <th>13317</th>\n",
       "      <td>Built-up  Area</td>\n",
       "      <td>Raja Rajeshwari Nagar</td>\n",
       "      <td>2.0</td>\n",
       "      <td>60.00</td>\n",
       "      <td>2.0</td>\n",
       "      <td>1141.0</td>\n",
       "    </tr>\n",
       "    <tr>\n",
       "      <th>13318</th>\n",
       "      <td>Super built-up  Area</td>\n",
       "      <td>Padmanabhanagar</td>\n",
       "      <td>4.0</td>\n",
       "      <td>488.00</td>\n",
       "      <td>4.0</td>\n",
       "      <td>4689.0</td>\n",
       "    </tr>\n",
       "    <tr>\n",
       "      <th>13319</th>\n",
       "      <td>Super built-up  Area</td>\n",
       "      <td>Doddathoguru</td>\n",
       "      <td>1.0</td>\n",
       "      <td>17.00</td>\n",
       "      <td>1.0</td>\n",
       "      <td>550.0</td>\n",
       "    </tr>\n",
       "  </tbody>\n",
       "</table>\n",
       "<p>13320 rows × 6 columns</p>\n",
       "</div>"
      ],
      "text/plain": [
       "                  area_type                  location  bath   price  size_bkh  \\\n",
       "0      Super built-up  Area  Electronic City Phase II   2.0   39.07       2.0   \n",
       "1                Plot  Area          Chikka Tirupathi   5.0  120.00       4.0   \n",
       "2            Built-up  Area               Uttarahalli   2.0   62.00       3.0   \n",
       "3      Super built-up  Area        Lingadheeranahalli   3.0   95.00       3.0   \n",
       "4      Super built-up  Area                  Kothanur   2.0   51.00       2.0   \n",
       "...                     ...                       ...   ...     ...       ...   \n",
       "13315        Built-up  Area                Whitefield   4.0  231.00       5.0   \n",
       "13316  Super built-up  Area             Richards Town   5.0  400.00       4.0   \n",
       "13317        Built-up  Area     Raja Rajeshwari Nagar   2.0   60.00       2.0   \n",
       "13318  Super built-up  Area           Padmanabhanagar   4.0  488.00       4.0   \n",
       "13319  Super built-up  Area              Doddathoguru   1.0   17.00       1.0   \n",
       "\n",
       "       mod_total_sqft  \n",
       "0              1056.0  \n",
       "1              2600.0  \n",
       "2              1440.0  \n",
       "3              1521.0  \n",
       "4              1200.0  \n",
       "...               ...  \n",
       "13315          3453.0  \n",
       "13316          3600.0  \n",
       "13317          1141.0  \n",
       "13318          4689.0  \n",
       "13319           550.0  \n",
       "\n",
       "[13320 rows x 6 columns]"
      ]
     },
     "execution_count": 7,
     "metadata": {},
     "output_type": "execute_result"
    }
   ],
   "source": [
    "# Getting the average value of the ranges in the 'total_sqft' column\n",
    "def convert_range_to_avg(x):\n",
    "    if x is None:\n",
    "        return None\n",
    "    try:\n",
    "        # If x is a string, process it\n",
    "        if isinstance(x, str):\n",
    "            tokens = x.split('-')\n",
    "            if len(tokens) == 2:\n",
    "                return (float(tokens[0]) + float(tokens[1])) / 2\n",
    "            return float(x)\n",
    "        return x\n",
    "    except ValueError:\n",
    "        return None\n",
    "\n",
    "# Apply the function to the 'total_sqft' column\n",
    "df1['mod_total_sqft'] = df1['total_sqft'].apply(convert_range_to_avg)\n",
    "\n",
    "# Drop the 'total_sqft' column\n",
    "df1.drop('total_sqft', axis=1, inplace=True)\n",
    "\n",
    "# Display the DataFrame\n",
    "df1"
   ]
  },
  {
   "cell_type": "code",
   "execution_count": 8,
   "metadata": {},
   "outputs": [],
   "source": [
    "df2 = df1.copy()"
   ]
  },
  {
   "cell_type": "code",
   "execution_count": 9,
   "metadata": {},
   "outputs": [
    {
     "name": "stdout",
     "output_type": "stream",
     "text": [
      "area_type          0\n",
      "location           1\n",
      "bath              73\n",
      "price              0\n",
      "size_bkh          16\n",
      "mod_total_sqft    46\n",
      "dtype: int64\n"
     ]
    }
   ],
   "source": [
    "print(df2.isna().sum())"
   ]
  },
  {
   "cell_type": "code",
   "execution_count": 10,
   "metadata": {},
   "outputs": [],
   "source": [
    "df2 = df2.dropna()"
   ]
  },
  {
   "cell_type": "code",
   "execution_count": 11,
   "metadata": {},
   "outputs": [
    {
     "data": {
      "application/vnd.microsoft.datawrangler.viewer.v0+json": {
       "columns": [
        {
         "name": "index",
         "rawType": "int64",
         "type": "integer"
        },
        {
         "name": "location",
         "rawType": "object",
         "type": "string"
        },
        {
         "name": "bath",
         "rawType": "float64",
         "type": "float"
        },
        {
         "name": "price",
         "rawType": "float64",
         "type": "float"
        },
        {
         "name": "size_bkh",
         "rawType": "float64",
         "type": "float"
        },
        {
         "name": "mod_total_sqft",
         "rawType": "float64",
         "type": "float"
        },
        {
         "name": "area_type_Built-up  Area",
         "rawType": "float64",
         "type": "float"
        },
        {
         "name": "area_type_Carpet  Area",
         "rawType": "float64",
         "type": "float"
        },
        {
         "name": "area_type_Plot  Area",
         "rawType": "float64",
         "type": "float"
        },
        {
         "name": "area_type_Super built-up  Area",
         "rawType": "float64",
         "type": "float"
        }
       ],
       "conversionMethod": "pd.DataFrame",
       "ref": "862c0995-d05f-40a0-aedc-24f5d6cb5383",
       "rows": [
        [
         "0",
         "Electronic City Phase II",
         "2.0",
         "39.07",
         "2.0",
         "1056.0",
         "0.0",
         "0.0",
         "0.0",
         "1.0"
        ],
        [
         "1",
         "Chikka Tirupathi",
         "5.0",
         "120.0",
         "4.0",
         "2600.0",
         "0.0",
         "0.0",
         "1.0",
         "0.0"
        ],
        [
         "2",
         "Uttarahalli",
         "2.0",
         "62.0",
         "3.0",
         "1440.0",
         "1.0",
         "0.0",
         "0.0",
         "0.0"
        ],
        [
         "3",
         "Lingadheeranahalli",
         "3.0",
         "95.0",
         "3.0",
         "1521.0",
         "0.0",
         "0.0",
         "0.0",
         "1.0"
        ],
        [
         "4",
         "Kothanur",
         "2.0",
         "51.0",
         "2.0",
         "1200.0",
         "0.0",
         "0.0",
         "0.0",
         "1.0"
        ]
       ],
       "shape": {
        "columns": 9,
        "rows": 5
       }
      },
      "text/html": [
       "<div>\n",
       "<style scoped>\n",
       "    .dataframe tbody tr th:only-of-type {\n",
       "        vertical-align: middle;\n",
       "    }\n",
       "\n",
       "    .dataframe tbody tr th {\n",
       "        vertical-align: top;\n",
       "    }\n",
       "\n",
       "    .dataframe thead th {\n",
       "        text-align: right;\n",
       "    }\n",
       "</style>\n",
       "<table border=\"1\" class=\"dataframe\">\n",
       "  <thead>\n",
       "    <tr style=\"text-align: right;\">\n",
       "      <th></th>\n",
       "      <th>location</th>\n",
       "      <th>bath</th>\n",
       "      <th>price</th>\n",
       "      <th>size_bkh</th>\n",
       "      <th>mod_total_sqft</th>\n",
       "      <th>area_type_Built-up  Area</th>\n",
       "      <th>area_type_Carpet  Area</th>\n",
       "      <th>area_type_Plot  Area</th>\n",
       "      <th>area_type_Super built-up  Area</th>\n",
       "    </tr>\n",
       "  </thead>\n",
       "  <tbody>\n",
       "    <tr>\n",
       "      <th>0</th>\n",
       "      <td>Electronic City Phase II</td>\n",
       "      <td>2.0</td>\n",
       "      <td>39.07</td>\n",
       "      <td>2.0</td>\n",
       "      <td>1056.0</td>\n",
       "      <td>0.0</td>\n",
       "      <td>0.0</td>\n",
       "      <td>0.0</td>\n",
       "      <td>1.0</td>\n",
       "    </tr>\n",
       "    <tr>\n",
       "      <th>1</th>\n",
       "      <td>Chikka Tirupathi</td>\n",
       "      <td>5.0</td>\n",
       "      <td>120.00</td>\n",
       "      <td>4.0</td>\n",
       "      <td>2600.0</td>\n",
       "      <td>0.0</td>\n",
       "      <td>0.0</td>\n",
       "      <td>1.0</td>\n",
       "      <td>0.0</td>\n",
       "    </tr>\n",
       "    <tr>\n",
       "      <th>2</th>\n",
       "      <td>Uttarahalli</td>\n",
       "      <td>2.0</td>\n",
       "      <td>62.00</td>\n",
       "      <td>3.0</td>\n",
       "      <td>1440.0</td>\n",
       "      <td>1.0</td>\n",
       "      <td>0.0</td>\n",
       "      <td>0.0</td>\n",
       "      <td>0.0</td>\n",
       "    </tr>\n",
       "    <tr>\n",
       "      <th>3</th>\n",
       "      <td>Lingadheeranahalli</td>\n",
       "      <td>3.0</td>\n",
       "      <td>95.00</td>\n",
       "      <td>3.0</td>\n",
       "      <td>1521.0</td>\n",
       "      <td>0.0</td>\n",
       "      <td>0.0</td>\n",
       "      <td>0.0</td>\n",
       "      <td>1.0</td>\n",
       "    </tr>\n",
       "    <tr>\n",
       "      <th>4</th>\n",
       "      <td>Kothanur</td>\n",
       "      <td>2.0</td>\n",
       "      <td>51.00</td>\n",
       "      <td>2.0</td>\n",
       "      <td>1200.0</td>\n",
       "      <td>0.0</td>\n",
       "      <td>0.0</td>\n",
       "      <td>0.0</td>\n",
       "      <td>1.0</td>\n",
       "    </tr>\n",
       "  </tbody>\n",
       "</table>\n",
       "</div>"
      ],
      "text/plain": [
       "                   location  bath   price  size_bkh  mod_total_sqft  \\\n",
       "0  Electronic City Phase II   2.0   39.07       2.0          1056.0   \n",
       "1          Chikka Tirupathi   5.0  120.00       4.0          2600.0   \n",
       "2               Uttarahalli   2.0   62.00       3.0          1440.0   \n",
       "3        Lingadheeranahalli   3.0   95.00       3.0          1521.0   \n",
       "4                  Kothanur   2.0   51.00       2.0          1200.0   \n",
       "\n",
       "   area_type_Built-up  Area  area_type_Carpet  Area  area_type_Plot  Area  \\\n",
       "0                       0.0                     0.0                   0.0   \n",
       "1                       0.0                     0.0                   1.0   \n",
       "2                       1.0                     0.0                   0.0   \n",
       "3                       0.0                     0.0                   0.0   \n",
       "4                       0.0                     0.0                   0.0   \n",
       "\n",
       "   area_type_Super built-up  Area  \n",
       "0                             1.0  \n",
       "1                             0.0  \n",
       "2                             0.0  \n",
       "3                             1.0  \n",
       "4                             1.0  "
      ]
     },
     "execution_count": 11,
     "metadata": {},
     "output_type": "execute_result"
    }
   ],
   "source": [
    "#One hot encoding to check if the \"area_type\" column has any effect on the price of the house\n",
    "\n",
    "#Specifying the categorical column\n",
    "categorical_column = ['area_type']\n",
    "\n",
    "#Creating the OneHotEncoder object\n",
    "onehot_encoder = OneHotEncoder(sparse_output = False)\n",
    "\n",
    "#Fitting the encoder to the data and transforming the data\n",
    "encoded_data = onehot_encoder.fit_transform(df2[categorical_column])\n",
    "\n",
    "#Creating a DataFrame from the encoded data\n",
    "encoded_df = pd.DataFrame(encoded_data, columns = onehot_encoder.get_feature_names_out(categorical_column))\n",
    "\n",
    "#Concatenating the original DataFrame with the encoded DataFrame\n",
    "final_encoded_df = pd.concat([df2, encoded_df], axis = 1).drop(categorical_column, axis = 1)\n",
    "\n",
    "#Printing the final DataFrame\n",
    "final_encoded_df.head()"
   ]
  },
  {
   "cell_type": "code",
   "execution_count": 12,
   "metadata": {},
   "outputs": [
    {
     "data": {
      "image/png": "[encoded data removed]",
      "text/plain": [
       "<Figure size 1000x1000 with 2 Axes>"
      ]
     },
     "metadata": {},
     "output_type": "display_data"
    }
   ],
   "source": [
    "#Computing the correlation matrix\n",
    "correlation_matrix = final_encoded_df.corr(numeric_only=True)\n",
    "\n",
    "# Sort features by correlation with 'price' (descending order)\n",
    "sorted_corr = correlation_matrix['price'].sort_values(ascending=False)\n",
    "\n",
    "# Remove 'price' from the sorted_corr index\n",
    "sorted_corr = sorted_corr.drop('price')\n",
    "\n",
    "#Plotting the heat map\n",
    "plt.figure(figsize=(10,10))\n",
    "sns.heatmap(correlation_matrix.loc[sorted_corr.index, ['price']], annot=True, cmap='viridis', linewidths=0.5)\n",
    "\n",
    "plt.title('Correlation Matrix of Price with other numerical features')\n",
    "plt.show()"
   ]
  },
  {
   "cell_type": "code",
   "execution_count": 13,
   "metadata": {},
   "outputs": [
    {
     "data": {
      "application/vnd.microsoft.datawrangler.viewer.v0+json": {
       "columns": [
        {
         "name": "index",
         "rawType": "int64",
         "type": "integer"
        },
        {
         "name": "location",
         "rawType": "object",
         "type": "unknown"
        },
        {
         "name": "bath",
         "rawType": "float64",
         "type": "float"
        },
        {
         "name": "price",
         "rawType": "float64",
         "type": "float"
        },
        {
         "name": "size_bkh",
         "rawType": "float64",
         "type": "float"
        },
        {
         "name": "mod_total_sqft",
         "rawType": "float64",
         "type": "float"
        }
       ],
       "conversionMethod": "pd.DataFrame",
       "ref": "83501940-24d3-4cf8-879b-0c388840b8d3",
       "rows": [
        [
         "0",
         "Electronic City Phase II",
         "2.0",
         "39.07",
         "2.0",
         "1056.0"
        ],
        [
         "1",
         "Chikka Tirupathi",
         "5.0",
         "120.0",
         "4.0",
         "2600.0"
        ],
        [
         "2",
         "Uttarahalli",
         "2.0",
         "62.0",
         "3.0",
         "1440.0"
        ],
        [
         "3",
         "Lingadheeranahalli",
         "3.0",
         "95.0",
         "3.0",
         "1521.0"
        ],
        [
         "4",
         "Kothanur",
         "2.0",
         "51.0",
         "2.0",
         "1200.0"
        ],
        [
         "5",
         "Whitefield",
         "2.0",
         "38.0",
         "2.0",
         "1170.0"
        ],
        [
         "6",
         "Old Airport Road",
         "4.0",
         "204.0",
         "4.0",
         "2732.0"
        ],
        [
         "7",
         "Rajaji Nagar",
         "4.0",
         "600.0",
         "4.0",
         "3300.0"
        ],
        [
         "8",
         "Marathahalli",
         "3.0",
         "63.25",
         "3.0",
         "1310.0"
        ],
        [
         "9",
         "Gandhi Bazar",
         "6.0",
         "370.0",
         "6.0",
         "1020.0"
        ],
        [
         "10",
         "Whitefield",
         "2.0",
         "70.0",
         "3.0",
         "1800.0"
        ],
        [
         "11",
         "Whitefield",
         "5.0",
         "295.0",
         "4.0",
         "2785.0"
        ],
        [
         "12",
         "7th Phase JP Nagar",
         "2.0",
         "38.0",
         "2.0",
         "1000.0"
        ],
        [
         "13",
         "Gottigere",
         "2.0",
         "40.0",
         "2.0",
         "1100.0"
        ],
        [
         "14",
         "Sarjapur",
         "3.0",
         "148.0",
         "3.0",
         "2250.0"
        ],
        [
         "15",
         "Mysore Road",
         "2.0",
         "73.5",
         "2.0",
         "1175.0"
        ],
        [
         "16",
         "Bisuvanahalli",
         "3.0",
         "48.0",
         "3.0",
         "1180.0"
        ],
        [
         "17",
         "Raja Rajeshwari Nagar",
         "3.0",
         "60.0",
         "3.0",
         "1540.0"
        ],
        [
         "18",
         "Ramakrishnappa Layout",
         "4.0",
         "290.0",
         "3.0",
         "2770.0"
        ],
        [
         "19",
         "Manayata Tech Park",
         "2.0",
         "48.0",
         "2.0",
         "1100.0"
        ],
        [
         "20",
         "Kengeri",
         "1.0",
         "15.0",
         "1.0",
         "600.0"
        ],
        [
         "21",
         "Binny Pete",
         "3.0",
         "122.0",
         "3.0",
         "1755.0"
        ],
        [
         "22",
         "Thanisandra",
         "5.0",
         "380.0",
         "4.0",
         "2800.0"
        ],
        [
         "23",
         "Bellandur",
         "3.0",
         "103.0",
         "3.0",
         "1767.0"
        ],
        [
         "24",
         " Thanisandra",
         "1.0",
         "25.25",
         "1.0",
         "510.0"
        ],
        [
         "25",
         "Mangammanapalya",
         "3.0",
         "56.0",
         "3.0",
         "1250.0"
        ],
        [
         "26",
         "Electronic City",
         "1.0",
         "23.1",
         "2.0",
         "660.0"
        ],
        [
         "27",
         "Whitefield",
         "3.0",
         "81.0",
         "3.0",
         "1610.0"
        ],
        [
         "28",
         "Ramagondanahalli",
         "2.0",
         "48.77",
         "2.0",
         "1151.0"
        ],
        [
         "29",
         "Electronic City",
         "2.0",
         "47.0",
         "3.0",
         "1025.0"
        ],
        [
         "30",
         "Yelahanka",
         "4.0",
         "186.0",
         "4.0",
         "2475.0"
        ],
        [
         "31",
         "Bisuvanahalli",
         "2.0",
         "35.0",
         "3.0",
         "1075.0"
        ],
        [
         "32",
         "Hebbal",
         "2.0",
         "123.0",
         "3.0",
         "1760.0"
        ],
        [
         "33",
         "Raja Rajeshwari Nagar",
         "3.0",
         "57.39",
         "3.0",
         "1693.0"
        ],
        [
         "34",
         "Kasturi Nagar",
         "3.0",
         "125.0",
         "3.0",
         "1925.0"
        ],
        [
         "35",
         "Kanakpura Road",
         "2.0",
         "36.0",
         "2.0",
         "700.0"
        ],
        [
         "36",
         "Electronics City Phase 1",
         "2.0",
         "45.5",
         "2.0",
         "1070.0"
        ],
        [
         "37",
         "Kundalahalli",
         "3.0",
         "125.0",
         "3.0",
         "1724.0"
        ],
        [
         "38",
         "Chikkalasandra",
         "2.0",
         "56.12",
         "3.0",
         "1290.0"
        ],
        [
         "39",
         "Uttarahalli",
         "2.0",
         "45.0",
         "2.0",
         "1143.0"
        ],
        [
         "40",
         "Murugeshpalya",
         "2.0",
         "81.0",
         "2.0",
         "1296.0"
        ],
        [
         "41",
         "Sarjapur  Road",
         "3.0",
         "38.0",
         "3.0",
         "1254.0"
        ],
        [
         "42",
         "Ganga Nagar",
         "1.0",
         "38.0",
         "1.0",
         "600.0"
        ],
        [
         "43",
         "Yelahanka",
         "1.0",
         "48.0",
         "1.0",
         "660.0"
        ],
        [
         "44",
         "Kanakpura Road",
         "2.0",
         "91.79",
         "2.0",
         "1330.74"
        ],
        [
         "45",
         "HSR Layout",
         "9.0",
         "200.0",
         "8.0",
         "600.0"
        ],
        [
         "46",
         "Doddathoguru",
         "2.0",
         "33.0",
         "2.0",
         "970.0"
        ],
        [
         "47",
         "Whitefield",
         "2.0",
         "94.82",
         "2.0",
         "1459.0"
        ],
        [
         "48",
         "KR Puram",
         "1.0",
         "130.0",
         "2.0",
         "800.0"
        ],
        [
         "49",
         "Himagiri Meadows",
         "2.0",
         "36.0",
         "2.0",
         "869.0"
        ]
       ],
       "shape": {
        "columns": 5,
        "rows": 13319
       }
      },
      "text/html": [
       "<div>\n",
       "<style scoped>\n",
       "    .dataframe tbody tr th:only-of-type {\n",
       "        vertical-align: middle;\n",
       "    }\n",
       "\n",
       "    .dataframe tbody tr th {\n",
       "        vertical-align: top;\n",
       "    }\n",
       "\n",
       "    .dataframe thead th {\n",
       "        text-align: right;\n",
       "    }\n",
       "</style>\n",
       "<table border=\"1\" class=\"dataframe\">\n",
       "  <thead>\n",
       "    <tr style=\"text-align: right;\">\n",
       "      <th></th>\n",
       "      <th>location</th>\n",
       "      <th>bath</th>\n",
       "      <th>price</th>\n",
       "      <th>size_bkh</th>\n",
       "      <th>mod_total_sqft</th>\n",
       "    </tr>\n",
       "  </thead>\n",
       "  <tbody>\n",
       "    <tr>\n",
       "      <th>0</th>\n",
       "      <td>Electronic City Phase II</td>\n",
       "      <td>2.0</td>\n",
       "      <td>39.07</td>\n",
       "      <td>2.0</td>\n",
       "      <td>1056.0</td>\n",
       "    </tr>\n",
       "    <tr>\n",
       "      <th>1</th>\n",
       "      <td>Chikka Tirupathi</td>\n",
       "      <td>5.0</td>\n",
       "      <td>120.00</td>\n",
       "      <td>4.0</td>\n",
       "      <td>2600.0</td>\n",
       "    </tr>\n",
       "    <tr>\n",
       "      <th>2</th>\n",
       "      <td>Uttarahalli</td>\n",
       "      <td>2.0</td>\n",
       "      <td>62.00</td>\n",
       "      <td>3.0</td>\n",
       "      <td>1440.0</td>\n",
       "    </tr>\n",
       "    <tr>\n",
       "      <th>3</th>\n",
       "      <td>Lingadheeranahalli</td>\n",
       "      <td>3.0</td>\n",
       "      <td>95.00</td>\n",
       "      <td>3.0</td>\n",
       "      <td>1521.0</td>\n",
       "    </tr>\n",
       "    <tr>\n",
       "      <th>4</th>\n",
       "      <td>Kothanur</td>\n",
       "      <td>2.0</td>\n",
       "      <td>51.00</td>\n",
       "      <td>2.0</td>\n",
       "      <td>1200.0</td>\n",
       "    </tr>\n",
       "    <tr>\n",
       "      <th>...</th>\n",
       "      <td>...</td>\n",
       "      <td>...</td>\n",
       "      <td>...</td>\n",
       "      <td>...</td>\n",
       "      <td>...</td>\n",
       "    </tr>\n",
       "    <tr>\n",
       "      <th>12252</th>\n",
       "      <td>NaN</td>\n",
       "      <td>NaN</td>\n",
       "      <td>NaN</td>\n",
       "      <td>NaN</td>\n",
       "      <td>NaN</td>\n",
       "    </tr>\n",
       "    <tr>\n",
       "      <th>12560</th>\n",
       "      <td>NaN</td>\n",
       "      <td>NaN</td>\n",
       "      <td>NaN</td>\n",
       "      <td>NaN</td>\n",
       "      <td>NaN</td>\n",
       "    </tr>\n",
       "    <tr>\n",
       "      <th>12652</th>\n",
       "      <td>NaN</td>\n",
       "      <td>NaN</td>\n",
       "      <td>NaN</td>\n",
       "      <td>NaN</td>\n",
       "      <td>NaN</td>\n",
       "    </tr>\n",
       "    <tr>\n",
       "      <th>12768</th>\n",
       "      <td>NaN</td>\n",
       "      <td>NaN</td>\n",
       "      <td>NaN</td>\n",
       "      <td>NaN</td>\n",
       "      <td>NaN</td>\n",
       "    </tr>\n",
       "    <tr>\n",
       "      <th>12861</th>\n",
       "      <td>NaN</td>\n",
       "      <td>NaN</td>\n",
       "      <td>NaN</td>\n",
       "      <td>NaN</td>\n",
       "      <td>NaN</td>\n",
       "    </tr>\n",
       "  </tbody>\n",
       "</table>\n",
       "<p>13319 rows × 5 columns</p>\n",
       "</div>"
      ],
      "text/plain": [
       "                       location  bath   price  size_bkh  mod_total_sqft\n",
       "0      Electronic City Phase II   2.0   39.07       2.0          1056.0\n",
       "1              Chikka Tirupathi   5.0  120.00       4.0          2600.0\n",
       "2                   Uttarahalli   2.0   62.00       3.0          1440.0\n",
       "3            Lingadheeranahalli   3.0   95.00       3.0          1521.0\n",
       "4                      Kothanur   2.0   51.00       2.0          1200.0\n",
       "...                         ...   ...     ...       ...             ...\n",
       "12252                       NaN   NaN     NaN       NaN             NaN\n",
       "12560                       NaN   NaN     NaN       NaN             NaN\n",
       "12652                       NaN   NaN     NaN       NaN             NaN\n",
       "12768                       NaN   NaN     NaN       NaN             NaN\n",
       "12861                       NaN   NaN     NaN       NaN             NaN\n",
       "\n",
       "[13319 rows x 5 columns]"
      ]
     },
     "execution_count": 13,
     "metadata": {},
     "output_type": "execute_result"
    }
   ],
   "source": [
    "#Dropping unnecessary columns that are not relevant to the analysis\n",
    "df3 = final_encoded_df.drop(['area_type_Built-up  Area', 'area_type_Carpet  Area', 'area_type_Plot  Area', 'area_type_Super built-up  Area'], axis='columns')\n",
    "df3"
   ]
  },
  {
   "cell_type": "code",
   "execution_count": 14,
   "metadata": {},
   "outputs": [
    {
     "data": {
      "text/plain": [
       "array([ 2.,  4.,  3.,  6.,  1.,  8.,  7.,  5., 11.,  9., 27., 10., 19.,\n",
       "       16., 43., 14., 12., 13., 18., nan])"
      ]
     },
     "execution_count": 14,
     "metadata": {},
     "output_type": "execute_result"
    }
   ],
   "source": [
    "#Confirming whether we have unique values in the 'size_bkh' column\n",
    "df3['size_bkh'].unique()"
   ]
  },
  {
   "cell_type": "code",
   "execution_count": 15,
   "metadata": {},
   "outputs": [
    {
     "data": {
      "application/vnd.microsoft.datawrangler.viewer.v0+json": {
       "columns": [
        {
         "name": "index",
         "rawType": "int64",
         "type": "integer"
        },
        {
         "name": "location",
         "rawType": "object",
         "type": "string"
        },
        {
         "name": "bath",
         "rawType": "float64",
         "type": "float"
        },
        {
         "name": "price",
         "rawType": "float64",
         "type": "float"
        },
        {
         "name": "size_bkh",
         "rawType": "float64",
         "type": "float"
        },
        {
         "name": "mod_total_sqft",
         "rawType": "float64",
         "type": "float"
        }
       ],
       "conversionMethod": "pd.DataFrame",
       "ref": "91b2d559-4839-4a00-8dc5-da1fdcf7fc03",
       "rows": [
        [
         "1718",
         "2Electronic City Phase II",
         "27.0",
         "230.0",
         "27.0",
         "8000.0"
        ],
        [
         "4684",
         "Munnekollal",
         "40.0",
         "660.0",
         "43.0",
         "2400.0"
        ]
       ],
       "shape": {
        "columns": 5,
        "rows": 2
       }
      },
      "text/html": [
       "<div>\n",
       "<style scoped>\n",
       "    .dataframe tbody tr th:only-of-type {\n",
       "        vertical-align: middle;\n",
       "    }\n",
       "\n",
       "    .dataframe tbody tr th {\n",
       "        vertical-align: top;\n",
       "    }\n",
       "\n",
       "    .dataframe thead th {\n",
       "        text-align: right;\n",
       "    }\n",
       "</style>\n",
       "<table border=\"1\" class=\"dataframe\">\n",
       "  <thead>\n",
       "    <tr style=\"text-align: right;\">\n",
       "      <th></th>\n",
       "      <th>location</th>\n",
       "      <th>bath</th>\n",
       "      <th>price</th>\n",
       "      <th>size_bkh</th>\n",
       "      <th>mod_total_sqft</th>\n",
       "    </tr>\n",
       "  </thead>\n",
       "  <tbody>\n",
       "    <tr>\n",
       "      <th>1718</th>\n",
       "      <td>2Electronic City Phase II</td>\n",
       "      <td>27.0</td>\n",
       "      <td>230.0</td>\n",
       "      <td>27.0</td>\n",
       "      <td>8000.0</td>\n",
       "    </tr>\n",
       "    <tr>\n",
       "      <th>4684</th>\n",
       "      <td>Munnekollal</td>\n",
       "      <td>40.0</td>\n",
       "      <td>660.0</td>\n",
       "      <td>43.0</td>\n",
       "      <td>2400.0</td>\n",
       "    </tr>\n",
       "  </tbody>\n",
       "</table>\n",
       "</div>"
      ],
      "text/plain": [
       "                       location  bath  price  size_bkh  mod_total_sqft\n",
       "1718  2Electronic City Phase II  27.0  230.0      27.0          8000.0\n",
       "4684                Munnekollal  40.0  660.0      43.0          2400.0"
      ]
     },
     "execution_count": 15,
     "metadata": {},
     "output_type": "execute_result"
    }
   ],
   "source": [
    "#Some values in the 'size_bkh' column indicate that there, might be some errors in the data as there cannot be 43 bkh in a house with 2400 sqft area. We will remove such rows from the data later on.\n",
    "df3[df3['size_bkh'] > 20]"
   ]
  },
  {
   "cell_type": "code",
   "execution_count": 16,
   "metadata": {},
   "outputs": [
    {
     "data": {
      "text/plain": [
       "array(['Electronic City Phase II', 'Chikka Tirupathi', 'Uttarahalli', ...,\n",
       "       'Havanur extension', 'Abshot Layout', nan], dtype=object)"
      ]
     },
     "execution_count": 16,
     "metadata": {},
     "output_type": "execute_result"
    }
   ],
   "source": [
    "df3['location'].unique()"
   ]
  },
  {
   "cell_type": "code",
   "execution_count": 17,
   "metadata": {},
   "outputs": [
    {
     "name": "stdout",
     "output_type": "stream",
     "text": [
      "1\n",
      "1\n",
      "1\n"
     ]
    }
   ],
   "source": [
    "def location_value_count(x):\n",
    "    count = df3['location'].value_counts().get(x, 0)\n",
    "    return count\n",
    "\n",
    "x = 'Havanur extension'\n",
    "print(location_value_count(x))\n",
    "\n",
    "x = 'Abshot Layout'\n",
    "print(location_value_count(x))\n",
    "\n",
    "x = '12th cross srinivas nagar banshankari 3rd stage'\n",
    "print(location_value_count(x))\n",
    "\n",
    "#Based on the reults below I can see that they are locations that appear only once in the data. I have to chose a correct encoding type to encode the location column."
   ]
  },
  {
   "cell_type": "code",
   "execution_count": 18,
   "metadata": {},
   "outputs": [
    {
     "data": {
      "application/vnd.microsoft.datawrangler.viewer.v0+json": {
       "columns": [
        {
         "name": "index",
         "rawType": "int64",
         "type": "integer"
        },
        {
         "name": "location",
         "rawType": "object",
         "type": "unknown"
        },
        {
         "name": "bath",
         "rawType": "float64",
         "type": "float"
        },
        {
         "name": "price",
         "rawType": "float64",
         "type": "float"
        },
        {
         "name": "size_bkh",
         "rawType": "float64",
         "type": "float"
        },
        {
         "name": "mod_total_sqft",
         "rawType": "float64",
         "type": "float"
        },
        {
         "name": "price_per_sqft",
         "rawType": "float64",
         "type": "float"
        }
       ],
       "conversionMethod": "pd.DataFrame",
       "ref": "a06be707-b35a-4671-9c2b-27e6bfc7ddc8",
       "rows": [
        [
         "0",
         "Electronic City Phase II",
         "2.0",
         "39.07",
         "2.0",
         "1056.0",
         "36998.106060606064"
        ],
        [
         "1",
         "Chikka Tirupathi",
         "5.0",
         "120.0",
         "4.0",
         "2600.0",
         "46153.846153846156"
        ],
        [
         "2",
         "Uttarahalli",
         "2.0",
         "62.0",
         "3.0",
         "1440.0",
         "43055.555555555555"
        ],
        [
         "3",
         "Lingadheeranahalli",
         "3.0",
         "95.0",
         "3.0",
         "1521.0",
         "62458.90861275476"
        ],
        [
         "4",
         "Kothanur",
         "2.0",
         "51.0",
         "2.0",
         "1200.0",
         "42500.0"
        ],
        [
         "5",
         "Whitefield",
         "2.0",
         "38.0",
         "2.0",
         "1170.0",
         "32478.63247863248"
        ],
        [
         "6",
         "Old Airport Road",
         "4.0",
         "204.0",
         "4.0",
         "2732.0",
         "74670.5710102489"
        ],
        [
         "7",
         "Rajaji Nagar",
         "4.0",
         "600.0",
         "4.0",
         "3300.0",
         "181818.18181818182"
        ],
        [
         "8",
         "Marathahalli",
         "3.0",
         "63.25",
         "3.0",
         "1310.0",
         "48282.442748091606"
        ],
        [
         "9",
         "Gandhi Bazar",
         "6.0",
         "370.0",
         "6.0",
         "1020.0",
         "362745.09803921566"
        ],
        [
         "10",
         "Whitefield",
         "2.0",
         "70.0",
         "3.0",
         "1800.0",
         "38888.88888888889"
        ],
        [
         "11",
         "Whitefield",
         "5.0",
         "295.0",
         "4.0",
         "2785.0",
         "105924.5960502693"
        ],
        [
         "12",
         "7th Phase JP Nagar",
         "2.0",
         "38.0",
         "2.0",
         "1000.0",
         "38000.0"
        ],
        [
         "13",
         "Gottigere",
         "2.0",
         "40.0",
         "2.0",
         "1100.0",
         "36363.63636363636"
        ],
        [
         "14",
         "Sarjapur",
         "3.0",
         "148.0",
         "3.0",
         "2250.0",
         "65777.77777777778"
        ],
        [
         "15",
         "Mysore Road",
         "2.0",
         "73.5",
         "2.0",
         "1175.0",
         "62553.1914893617"
        ],
        [
         "16",
         "Bisuvanahalli",
         "3.0",
         "48.0",
         "3.0",
         "1180.0",
         "40677.96610169492"
        ],
        [
         "17",
         "Raja Rajeshwari Nagar",
         "3.0",
         "60.0",
         "3.0",
         "1540.0",
         "38961.03896103896"
        ],
        [
         "18",
         "Ramakrishnappa Layout",
         "4.0",
         "290.0",
         "3.0",
         "2770.0",
         "104693.14079422383"
        ],
        [
         "19",
         "Manayata Tech Park",
         "2.0",
         "48.0",
         "2.0",
         "1100.0",
         "43636.36363636364"
        ],
        [
         "20",
         "Kengeri",
         "1.0",
         "15.0",
         "1.0",
         "600.0",
         "25000.0"
        ],
        [
         "21",
         "Binny Pete",
         "3.0",
         "122.0",
         "3.0",
         "1755.0",
         "69515.66951566952"
        ],
        [
         "22",
         "Thanisandra",
         "5.0",
         "380.0",
         "4.0",
         "2800.0",
         "135714.2857142857"
        ],
        [
         "23",
         "Bellandur",
         "3.0",
         "103.0",
         "3.0",
         "1767.0",
         "58290.88851160159"
        ],
        [
         "24",
         " Thanisandra",
         "1.0",
         "25.25",
         "1.0",
         "510.0",
         "49509.80392156863"
        ],
        [
         "25",
         "Mangammanapalya",
         "3.0",
         "56.0",
         "3.0",
         "1250.0",
         "44800.0"
        ],
        [
         "26",
         "Electronic City",
         "1.0",
         "23.1",
         "2.0",
         "660.0",
         "35000.0"
        ],
        [
         "27",
         "Whitefield",
         "3.0",
         "81.0",
         "3.0",
         "1610.0",
         "50310.55900621118"
        ],
        [
         "28",
         "Ramagondanahalli",
         "2.0",
         "48.77",
         "2.0",
         "1151.0",
         "42371.85056472632"
        ],
        [
         "29",
         "Electronic City",
         "2.0",
         "47.0",
         "3.0",
         "1025.0",
         "45853.65853658537"
        ],
        [
         "30",
         "Yelahanka",
         "4.0",
         "186.0",
         "4.0",
         "2475.0",
         "75151.51515151515"
        ],
        [
         "31",
         "Bisuvanahalli",
         "2.0",
         "35.0",
         "3.0",
         "1075.0",
         "32558.13953488372"
        ],
        [
         "32",
         "Hebbal",
         "2.0",
         "123.0",
         "3.0",
         "1760.0",
         "69886.36363636363"
        ],
        [
         "33",
         "Raja Rajeshwari Nagar",
         "3.0",
         "57.39",
         "3.0",
         "1693.0",
         "33898.405197873595"
        ],
        [
         "34",
         "Kasturi Nagar",
         "3.0",
         "125.0",
         "3.0",
         "1925.0",
         "64935.06493506493"
        ],
        [
         "35",
         "Kanakpura Road",
         "2.0",
         "36.0",
         "2.0",
         "700.0",
         "51428.57142857143"
        ],
        [
         "36",
         "Electronics City Phase 1",
         "2.0",
         "45.5",
         "2.0",
         "1070.0",
         "42523.36448598131"
        ],
        [
         "37",
         "Kundalahalli",
         "3.0",
         "125.0",
         "3.0",
         "1724.0",
         "72505.80046403712"
        ],
        [
         "38",
         "Chikkalasandra",
         "2.0",
         "56.12",
         "3.0",
         "1290.0",
         "43503.875968992244"
        ],
        [
         "39",
         "Uttarahalli",
         "2.0",
         "45.0",
         "2.0",
         "1143.0",
         "39370.07874015748"
        ],
        [
         "40",
         "Murugeshpalya",
         "2.0",
         "81.0",
         "2.0",
         "1296.0",
         "62500.0"
        ],
        [
         "41",
         "Sarjapur  Road",
         "3.0",
         "38.0",
         "3.0",
         "1254.0",
         "30303.030303030304"
        ],
        [
         "42",
         "Ganga Nagar",
         "1.0",
         "38.0",
         "1.0",
         "600.0",
         "63333.333333333336"
        ],
        [
         "43",
         "Yelahanka",
         "1.0",
         "48.0",
         "1.0",
         "660.0",
         "72727.27272727272"
        ],
        [
         "44",
         "Kanakpura Road",
         "2.0",
         "91.79",
         "2.0",
         "1330.74",
         "68976.6596029277"
        ],
        [
         "45",
         "HSR Layout",
         "9.0",
         "200.0",
         "8.0",
         "600.0",
         "333333.3333333333"
        ],
        [
         "46",
         "Doddathoguru",
         "2.0",
         "33.0",
         "2.0",
         "970.0",
         "34020.61855670103"
        ],
        [
         "47",
         "Whitefield",
         "2.0",
         "94.82",
         "2.0",
         "1459.0",
         "64989.71898560658"
        ],
        [
         "48",
         "KR Puram",
         "1.0",
         "130.0",
         "2.0",
         "800.0",
         "162500.0"
        ],
        [
         "49",
         "Himagiri Meadows",
         "2.0",
         "36.0",
         "2.0",
         "869.0",
         "41426.92750287687"
        ]
       ],
       "shape": {
        "columns": 6,
        "rows": 13319
       }
      },
      "text/html": [
       "<div>\n",
       "<style scoped>\n",
       "    .dataframe tbody tr th:only-of-type {\n",
       "        vertical-align: middle;\n",
       "    }\n",
       "\n",
       "    .dataframe tbody tr th {\n",
       "        vertical-align: top;\n",
       "    }\n",
       "\n",
       "    .dataframe thead th {\n",
       "        text-align: right;\n",
       "    }\n",
       "</style>\n",
       "<table border=\"1\" class=\"dataframe\">\n",
       "  <thead>\n",
       "    <tr style=\"text-align: right;\">\n",
       "      <th></th>\n",
       "      <th>location</th>\n",
       "      <th>bath</th>\n",
       "      <th>price</th>\n",
       "      <th>size_bkh</th>\n",
       "      <th>mod_total_sqft</th>\n",
       "      <th>price_per_sqft</th>\n",
       "    </tr>\n",
       "  </thead>\n",
       "  <tbody>\n",
       "    <tr>\n",
       "      <th>0</th>\n",
       "      <td>Electronic City Phase II</td>\n",
       "      <td>2.0</td>\n",
       "      <td>39.07</td>\n",
       "      <td>2.0</td>\n",
       "      <td>1056.0</td>\n",
       "      <td>36998.106061</td>\n",
       "    </tr>\n",
       "    <tr>\n",
       "      <th>1</th>\n",
       "      <td>Chikka Tirupathi</td>\n",
       "      <td>5.0</td>\n",
       "      <td>120.00</td>\n",
       "      <td>4.0</td>\n",
       "      <td>2600.0</td>\n",
       "      <td>46153.846154</td>\n",
       "    </tr>\n",
       "    <tr>\n",
       "      <th>2</th>\n",
       "      <td>Uttarahalli</td>\n",
       "      <td>2.0</td>\n",
       "      <td>62.00</td>\n",
       "      <td>3.0</td>\n",
       "      <td>1440.0</td>\n",
       "      <td>43055.555556</td>\n",
       "    </tr>\n",
       "    <tr>\n",
       "      <th>3</th>\n",
       "      <td>Lingadheeranahalli</td>\n",
       "      <td>3.0</td>\n",
       "      <td>95.00</td>\n",
       "      <td>3.0</td>\n",
       "      <td>1521.0</td>\n",
       "      <td>62458.908613</td>\n",
       "    </tr>\n",
       "    <tr>\n",
       "      <th>4</th>\n",
       "      <td>Kothanur</td>\n",
       "      <td>2.0</td>\n",
       "      <td>51.00</td>\n",
       "      <td>2.0</td>\n",
       "      <td>1200.0</td>\n",
       "      <td>42500.000000</td>\n",
       "    </tr>\n",
       "    <tr>\n",
       "      <th>...</th>\n",
       "      <td>...</td>\n",
       "      <td>...</td>\n",
       "      <td>...</td>\n",
       "      <td>...</td>\n",
       "      <td>...</td>\n",
       "      <td>...</td>\n",
       "    </tr>\n",
       "    <tr>\n",
       "      <th>12252</th>\n",
       "      <td>NaN</td>\n",
       "      <td>NaN</td>\n",
       "      <td>NaN</td>\n",
       "      <td>NaN</td>\n",
       "      <td>NaN</td>\n",
       "      <td>NaN</td>\n",
       "    </tr>\n",
       "    <tr>\n",
       "      <th>12560</th>\n",
       "      <td>NaN</td>\n",
       "      <td>NaN</td>\n",
       "      <td>NaN</td>\n",
       "      <td>NaN</td>\n",
       "      <td>NaN</td>\n",
       "      <td>NaN</td>\n",
       "    </tr>\n",
       "    <tr>\n",
       "      <th>12652</th>\n",
       "      <td>NaN</td>\n",
       "      <td>NaN</td>\n",
       "      <td>NaN</td>\n",
       "      <td>NaN</td>\n",
       "      <td>NaN</td>\n",
       "      <td>NaN</td>\n",
       "    </tr>\n",
       "    <tr>\n",
       "      <th>12768</th>\n",
       "      <td>NaN</td>\n",
       "      <td>NaN</td>\n",
       "      <td>NaN</td>\n",
       "      <td>NaN</td>\n",
       "      <td>NaN</td>\n",
       "      <td>NaN</td>\n",
       "    </tr>\n",
       "    <tr>\n",
       "      <th>12861</th>\n",
       "      <td>NaN</td>\n",
       "      <td>NaN</td>\n",
       "      <td>NaN</td>\n",
       "      <td>NaN</td>\n",
       "      <td>NaN</td>\n",
       "      <td>NaN</td>\n",
       "    </tr>\n",
       "  </tbody>\n",
       "</table>\n",
       "<p>13319 rows × 6 columns</p>\n",
       "</div>"
      ],
      "text/plain": [
       "                       location  bath   price  size_bkh  mod_total_sqft  \\\n",
       "0      Electronic City Phase II   2.0   39.07       2.0          1056.0   \n",
       "1              Chikka Tirupathi   5.0  120.00       4.0          2600.0   \n",
       "2                   Uttarahalli   2.0   62.00       3.0          1440.0   \n",
       "3            Lingadheeranahalli   3.0   95.00       3.0          1521.0   \n",
       "4                      Kothanur   2.0   51.00       2.0          1200.0   \n",
       "...                         ...   ...     ...       ...             ...   \n",
       "12252                       NaN   NaN     NaN       NaN             NaN   \n",
       "12560                       NaN   NaN     NaN       NaN             NaN   \n",
       "12652                       NaN   NaN     NaN       NaN             NaN   \n",
       "12768                       NaN   NaN     NaN       NaN             NaN   \n",
       "12861                       NaN   NaN     NaN       NaN             NaN   \n",
       "\n",
       "       price_per_sqft  \n",
       "0        36998.106061  \n",
       "1        46153.846154  \n",
       "2        43055.555556  \n",
       "3        62458.908613  \n",
       "4        42500.000000  \n",
       "...               ...  \n",
       "12252             NaN  \n",
       "12560             NaN  \n",
       "12652             NaN  \n",
       "12768             NaN  \n",
       "12861             NaN  \n",
       "\n",
       "[13319 rows x 6 columns]"
      ]
     },
     "execution_count": 18,
     "metadata": {},
     "output_type": "execute_result"
    }
   ],
   "source": [
    "#Creating a new column 'mod_total_sqft' which will be beneficial for the analysis. The amount will be in dollars.\n",
    "df3['price_per_sqft'] = df3['price']*1000000 / df3['mod_total_sqft']\n",
    "df3"
   ]
  },
  {
   "cell_type": "code",
   "execution_count": 19,
   "metadata": {},
   "outputs": [
    {
     "data": {
      "text/plain": [
       "location\n",
       "Whitefield                   532\n",
       "Sarjapur  Road               392\n",
       "Electronic City              302\n",
       "Kanakpura Road               264\n",
       "Thanisandra                  232\n",
       "                            ... \n",
       "Indiranagar HAL 2nd Stage      1\n",
       "Maruthi HBCS Layout            1\n",
       "K R C kothanur                 1\n",
       "1Channasandra                  1\n",
       "Abshot Layout                  1\n",
       "Name: count, Length: 1298, dtype: int64"
      ]
     },
     "execution_count": 19,
     "metadata": {},
     "output_type": "execute_result"
    }
   ],
   "source": [
    "location_stats = df3['location'].value_counts()\n",
    "location_stats"
   ]
  },
  {
   "cell_type": "code",
   "execution_count": 20,
   "metadata": {},
   "outputs": [
    {
     "name": "stdout",
     "output_type": "stream",
     "text": [
      "white spaces removed\n"
     ]
    }
   ],
   "source": [
    "#Removing white spaces\n",
    "df3['location'] = df3['location'].str.strip()\n",
    "print('white spaces removed')"
   ]
  },
  {
   "cell_type": "code",
   "execution_count": 21,
   "metadata": {},
   "outputs": [
    {
     "data": {
      "text/plain": [
       "location\n",
       "2nd Phase JP Nagar           9\n",
       "Chandra Layout               9\n",
       "Yemlur                       9\n",
       "Kaverappa Layout             9\n",
       "Banagiri Nagar               9\n",
       "                            ..\n",
       "Indiranagar HAL 2nd Stage    1\n",
       "Maruthi HBCS Layout          1\n",
       "K R C kothanur               1\n",
       "1Channasandra                1\n",
       "Abshot Layout                1\n",
       "Name: count, Length: 1045, dtype: int64"
      ]
     },
     "execution_count": 21,
     "metadata": {},
     "output_type": "execute_result"
    }
   ],
   "source": [
    "#Getting the locations that had less than houses\n",
    "loc_less_than_10_houses = location_stats[location_stats < 10]\n",
    "loc_less_than_10_houses"
   ]
  },
  {
   "cell_type": "code",
   "execution_count": 22,
   "metadata": {},
   "outputs": [
    {
     "data": {
      "text/plain": [
       "location\n",
       "Other                        2697\n",
       "Whitefield                    533\n",
       "Sarjapur  Road                392\n",
       "Electronic City               304\n",
       "Kanakpura Road                264\n",
       "                             ... \n",
       "Bellandur,                      1\n",
       "Banaswadi,                      1\n",
       "Yemlur, Old Airport Road,       1\n",
       "Near Electronic City,           1\n",
       "Electronic City Phase 1,        1\n",
       "Name: count, Length: 283, dtype: int64"
      ]
     },
     "execution_count": 22,
     "metadata": {},
     "output_type": "execute_result"
    }
   ],
   "source": [
    "#Getting the names of the locations with less than 10 houses\n",
    "loc_less_than_10_houses = location_stats[location_stats < 10].index\n",
    "\n",
    "#Replacing those locations with 'Other'\n",
    "df3['location'] = df3['location'].replace(loc_less_than_10_houses, 'Other')\n",
    "df3['location'].value_counts()"
   ]
  },
  {
   "cell_type": "markdown",
   "metadata": {},
   "source": [
    "Outlier Detection and Removal"
   ]
  },
  {
   "cell_type": "code",
   "execution_count": 23,
   "metadata": {},
   "outputs": [
    {
     "data": {
      "application/vnd.microsoft.datawrangler.viewer.v0+json": {
       "columns": [
        {
         "name": "index",
         "rawType": "object",
         "type": "string"
        },
        {
         "name": "bath",
         "rawType": "float64",
         "type": "float"
        },
        {
         "name": "price",
         "rawType": "float64",
         "type": "float"
        },
        {
         "name": "size_bkh",
         "rawType": "float64",
         "type": "float"
        },
        {
         "name": "mod_total_sqft",
         "rawType": "float64",
         "type": "float"
        },
        {
         "name": "price_per_sqft",
         "rawType": "float64",
         "type": "float"
        }
       ],
       "conversionMethod": "pd.DataFrame",
       "ref": "cb8ec7d1-6482-48da-bb08-e473fb55199c",
       "rows": [
        [
         "count",
         "13200.0",
         "13200.0",
         "13200.0",
         "13200.0",
         "13200.0"
        ],
        [
         "mean",
         "2.6911363636363634",
         "112.27617765151514",
         "2.8008333333333333",
         "1555.3027829545454",
         "79207.59149939645"
        ],
        [
         "std",
         "1.338915086817952",
         "149.17599517809637",
         "1.2928434212725342",
         "1237.3234454015146",
         "1067271.5520931096"
        ],
        [
         "min",
         "1.0",
         "8.0",
         "1.0",
         "1.0",
         "2678.2981328435876"
        ],
        [
         "25%",
         "2.0",
         "50.0",
         "2.0",
         "1100.0",
         "42677.01345223347"
        ],
        [
         "50%",
         "2.0",
         "71.85",
         "3.0",
         "1275.0",
         "54383.314782424335"
        ],
        [
         "75%",
         "3.0",
         "120.0",
         "3.0",
         "1672.0",
         "73170.73170731707"
        ],
        [
         "max",
         "40.0",
         "3600.0",
         "43.0",
         "52272.0",
         "120000000.0"
        ]
       ],
       "shape": {
        "columns": 5,
        "rows": 8
       }
      },
      "text/html": [
       "<div>\n",
       "<style scoped>\n",
       "    .dataframe tbody tr th:only-of-type {\n",
       "        vertical-align: middle;\n",
       "    }\n",
       "\n",
       "    .dataframe tbody tr th {\n",
       "        vertical-align: top;\n",
       "    }\n",
       "\n",
       "    .dataframe thead th {\n",
       "        text-align: right;\n",
       "    }\n",
       "</style>\n",
       "<table border=\"1\" class=\"dataframe\">\n",
       "  <thead>\n",
       "    <tr style=\"text-align: right;\">\n",
       "      <th></th>\n",
       "      <th>bath</th>\n",
       "      <th>price</th>\n",
       "      <th>size_bkh</th>\n",
       "      <th>mod_total_sqft</th>\n",
       "      <th>price_per_sqft</th>\n",
       "    </tr>\n",
       "  </thead>\n",
       "  <tbody>\n",
       "    <tr>\n",
       "      <th>count</th>\n",
       "      <td>13200.000000</td>\n",
       "      <td>13200.000000</td>\n",
       "      <td>13200.000000</td>\n",
       "      <td>13200.000000</td>\n",
       "      <td>1.320000e+04</td>\n",
       "    </tr>\n",
       "    <tr>\n",
       "      <th>mean</th>\n",
       "      <td>2.691136</td>\n",
       "      <td>112.276178</td>\n",
       "      <td>2.800833</td>\n",
       "      <td>1555.302783</td>\n",
       "      <td>7.920759e+04</td>\n",
       "    </tr>\n",
       "    <tr>\n",
       "      <th>std</th>\n",
       "      <td>1.338915</td>\n",
       "      <td>149.175995</td>\n",
       "      <td>1.292843</td>\n",
       "      <td>1237.323445</td>\n",
       "      <td>1.067272e+06</td>\n",
       "    </tr>\n",
       "    <tr>\n",
       "      <th>min</th>\n",
       "      <td>1.000000</td>\n",
       "      <td>8.000000</td>\n",
       "      <td>1.000000</td>\n",
       "      <td>1.000000</td>\n",
       "      <td>2.678298e+03</td>\n",
       "    </tr>\n",
       "    <tr>\n",
       "      <th>25%</th>\n",
       "      <td>2.000000</td>\n",
       "      <td>50.000000</td>\n",
       "      <td>2.000000</td>\n",
       "      <td>1100.000000</td>\n",
       "      <td>4.267701e+04</td>\n",
       "    </tr>\n",
       "    <tr>\n",
       "      <th>50%</th>\n",
       "      <td>2.000000</td>\n",
       "      <td>71.850000</td>\n",
       "      <td>3.000000</td>\n",
       "      <td>1275.000000</td>\n",
       "      <td>5.438331e+04</td>\n",
       "    </tr>\n",
       "    <tr>\n",
       "      <th>75%</th>\n",
       "      <td>3.000000</td>\n",
       "      <td>120.000000</td>\n",
       "      <td>3.000000</td>\n",
       "      <td>1672.000000</td>\n",
       "      <td>7.317073e+04</td>\n",
       "    </tr>\n",
       "    <tr>\n",
       "      <th>max</th>\n",
       "      <td>40.000000</td>\n",
       "      <td>3600.000000</td>\n",
       "      <td>43.000000</td>\n",
       "      <td>52272.000000</td>\n",
       "      <td>1.200000e+08</td>\n",
       "    </tr>\n",
       "  </tbody>\n",
       "</table>\n",
       "</div>"
      ],
      "text/plain": [
       "               bath         price      size_bkh  mod_total_sqft  \\\n",
       "count  13200.000000  13200.000000  13200.000000    13200.000000   \n",
       "mean       2.691136    112.276178      2.800833     1555.302783   \n",
       "std        1.338915    149.175995      1.292843     1237.323445   \n",
       "min        1.000000      8.000000      1.000000        1.000000   \n",
       "25%        2.000000     50.000000      2.000000     1100.000000   \n",
       "50%        2.000000     71.850000      3.000000     1275.000000   \n",
       "75%        3.000000    120.000000      3.000000     1672.000000   \n",
       "max       40.000000   3600.000000     43.000000    52272.000000   \n",
       "\n",
       "       price_per_sqft  \n",
       "count    1.320000e+04  \n",
       "mean     7.920759e+04  \n",
       "std      1.067272e+06  \n",
       "min      2.678298e+03  \n",
       "25%      4.267701e+04  \n",
       "50%      5.438331e+04  \n",
       "75%      7.317073e+04  \n",
       "max      1.200000e+08  "
      ]
     },
     "execution_count": 23,
     "metadata": {},
     "output_type": "execute_result"
    }
   ],
   "source": [
    "df3.describe()"
   ]
  },
  {
   "cell_type": "markdown",
   "metadata": {},
   "source": [
    "Creating a row that will store the 'size_of_room' so that we can determine the entries that might be wrong inputed. Lets say if a room is less than 300 mod_total_sqft, it might be a data entry error as a room shouls be between 300 - 450 sq_ft."
   ]
  },
  {
   "cell_type": "code",
   "execution_count": 24,
   "metadata": {},
   "outputs": [
    {
     "data": {
      "application/vnd.microsoft.datawrangler.viewer.v0+json": {
       "columns": [
        {
         "name": "index",
         "rawType": "int64",
         "type": "integer"
        },
        {
         "name": "location",
         "rawType": "object",
         "type": "unknown"
        },
        {
         "name": "bath",
         "rawType": "float64",
         "type": "float"
        },
        {
         "name": "price",
         "rawType": "float64",
         "type": "float"
        },
        {
         "name": "size_bkh",
         "rawType": "float64",
         "type": "float"
        },
        {
         "name": "mod_total_sqft",
         "rawType": "float64",
         "type": "float"
        },
        {
         "name": "price_per_sqft",
         "rawType": "float64",
         "type": "float"
        },
        {
         "name": "size_of_room",
         "rawType": "float64",
         "type": "float"
        }
       ],
       "conversionMethod": "pd.DataFrame",
       "ref": "5cd8c8e0-fba5-49e5-812a-686a8fad591c",
       "rows": [
        [
         "0",
         "Electronic City Phase II",
         "2.0",
         "39.07",
         "2.0",
         "1056.0",
         "36998.106060606064",
         "528.0"
        ],
        [
         "1",
         "Chikka Tirupathi",
         "5.0",
         "120.0",
         "4.0",
         "2600.0",
         "46153.846153846156",
         "650.0"
        ],
        [
         "2",
         "Uttarahalli",
         "2.0",
         "62.0",
         "3.0",
         "1440.0",
         "43055.555555555555",
         "480.0"
        ],
        [
         "3",
         "Lingadheeranahalli",
         "3.0",
         "95.0",
         "3.0",
         "1521.0",
         "62458.90861275476",
         "507.0"
        ],
        [
         "4",
         "Kothanur",
         "2.0",
         "51.0",
         "2.0",
         "1200.0",
         "42500.0",
         "600.0"
        ],
        [
         "5",
         "Whitefield",
         "2.0",
         "38.0",
         "2.0",
         "1170.0",
         "32478.63247863248",
         "585.0"
        ],
        [
         "6",
         "Old Airport Road",
         "4.0",
         "204.0",
         "4.0",
         "2732.0",
         "74670.5710102489",
         "683.0"
        ],
        [
         "7",
         "Rajaji Nagar",
         "4.0",
         "600.0",
         "4.0",
         "3300.0",
         "181818.18181818182",
         "825.0"
        ],
        [
         "8",
         "Marathahalli",
         "3.0",
         "63.25",
         "3.0",
         "1310.0",
         "48282.442748091606",
         "436.6666666666667"
        ],
        [
         "9",
         "Other",
         "6.0",
         "370.0",
         "6.0",
         "1020.0",
         "362745.09803921566",
         "170.0"
        ],
        [
         "10",
         "Whitefield",
         "2.0",
         "70.0",
         "3.0",
         "1800.0",
         "38888.88888888889",
         "600.0"
        ],
        [
         "11",
         "Whitefield",
         "5.0",
         "295.0",
         "4.0",
         "2785.0",
         "105924.5960502693",
         "696.25"
        ],
        [
         "12",
         "7th Phase JP Nagar",
         "2.0",
         "38.0",
         "2.0",
         "1000.0",
         "38000.0",
         "500.0"
        ],
        [
         "13",
         "Gottigere",
         "2.0",
         "40.0",
         "2.0",
         "1100.0",
         "36363.63636363636",
         "550.0"
        ],
        [
         "14",
         "Sarjapur",
         "3.0",
         "148.0",
         "3.0",
         "2250.0",
         "65777.77777777778",
         "750.0"
        ],
        [
         "15",
         "Mysore Road",
         "2.0",
         "73.5",
         "2.0",
         "1175.0",
         "62553.1914893617",
         "587.5"
        ],
        [
         "16",
         "Bisuvanahalli",
         "3.0",
         "48.0",
         "3.0",
         "1180.0",
         "40677.96610169492",
         "393.3333333333333"
        ],
        [
         "17",
         "Raja Rajeshwari Nagar",
         "3.0",
         "60.0",
         "3.0",
         "1540.0",
         "38961.03896103896",
         "513.3333333333334"
        ],
        [
         "18",
         "Other",
         "4.0",
         "290.0",
         "3.0",
         "2770.0",
         "104693.14079422383",
         "923.3333333333334"
        ],
        [
         "19",
         "Other",
         "2.0",
         "48.0",
         "2.0",
         "1100.0",
         "43636.36363636364",
         "550.0"
        ],
        [
         "20",
         "Kengeri",
         "1.0",
         "15.0",
         "1.0",
         "600.0",
         "25000.0",
         "600.0"
        ],
        [
         "21",
         "Binny Pete",
         "3.0",
         "122.0",
         "3.0",
         "1755.0",
         "69515.66951566952",
         "585.0"
        ],
        [
         "22",
         "Thanisandra",
         "5.0",
         "380.0",
         "4.0",
         "2800.0",
         "135714.2857142857",
         "700.0"
        ],
        [
         "23",
         "Bellandur",
         "3.0",
         "103.0",
         "3.0",
         "1767.0",
         "58290.88851160159",
         "589.0"
        ],
        [
         "24",
         "Thanisandra",
         "1.0",
         "25.25",
         "1.0",
         "510.0",
         "49509.80392156863",
         "510.0"
        ],
        [
         "25",
         "Other",
         "3.0",
         "56.0",
         "3.0",
         "1250.0",
         "44800.0",
         "416.6666666666667"
        ],
        [
         "26",
         "Electronic City",
         "1.0",
         "23.1",
         "2.0",
         "660.0",
         "35000.0",
         "330.0"
        ],
        [
         "27",
         "Whitefield",
         "3.0",
         "81.0",
         "3.0",
         "1610.0",
         "50310.55900621118",
         "536.6666666666666"
        ],
        [
         "28",
         "Ramagondanahalli",
         "2.0",
         "48.77",
         "2.0",
         "1151.0",
         "42371.85056472632",
         "575.5"
        ],
        [
         "29",
         "Electronic City",
         "2.0",
         "47.0",
         "3.0",
         "1025.0",
         "45853.65853658537",
         "341.6666666666667"
        ],
        [
         "30",
         "Yelahanka",
         "4.0",
         "186.0",
         "4.0",
         "2475.0",
         "75151.51515151515",
         "618.75"
        ],
        [
         "31",
         "Bisuvanahalli",
         "2.0",
         "35.0",
         "3.0",
         "1075.0",
         "32558.13953488372",
         "358.3333333333333"
        ],
        [
         "32",
         "Hebbal",
         "2.0",
         "123.0",
         "3.0",
         "1760.0",
         "69886.36363636363",
         "586.6666666666666"
        ],
        [
         "33",
         "Raja Rajeshwari Nagar",
         "3.0",
         "57.39",
         "3.0",
         "1693.0",
         "33898.405197873595",
         "564.3333333333334"
        ],
        [
         "34",
         "Kasturi Nagar",
         "3.0",
         "125.0",
         "3.0",
         "1925.0",
         "64935.06493506493",
         "641.6666666666666"
        ],
        [
         "35",
         "Kanakpura Road",
         "2.0",
         "36.0",
         "2.0",
         "700.0",
         "51428.57142857143",
         "350.0"
        ],
        [
         "36",
         "Electronics City Phase 1",
         "2.0",
         "45.5",
         "2.0",
         "1070.0",
         "42523.36448598131",
         "535.0"
        ],
        [
         "37",
         "Kundalahalli",
         "3.0",
         "125.0",
         "3.0",
         "1724.0",
         "72505.80046403712",
         "574.6666666666666"
        ],
        [
         "38",
         "Chikkalasandra",
         "2.0",
         "56.12",
         "3.0",
         "1290.0",
         "43503.875968992244",
         "430.0"
        ],
        [
         "39",
         "Uttarahalli",
         "2.0",
         "45.0",
         "2.0",
         "1143.0",
         "39370.07874015748",
         "571.5"
        ],
        [
         "40",
         "Murugeshpalya",
         "2.0",
         "81.0",
         "2.0",
         "1296.0",
         "62500.0",
         "648.0"
        ],
        [
         "41",
         "Sarjapur  Road",
         "3.0",
         "38.0",
         "3.0",
         "1254.0",
         "30303.030303030304",
         "418.0"
        ],
        [
         "42",
         "Ganga Nagar",
         "1.0",
         "38.0",
         "1.0",
         "600.0",
         "63333.333333333336",
         "600.0"
        ],
        [
         "43",
         "Yelahanka",
         "1.0",
         "48.0",
         "1.0",
         "660.0",
         "72727.27272727272",
         "660.0"
        ],
        [
         "44",
         "Kanakpura Road",
         "2.0",
         "91.79",
         "2.0",
         "1330.74",
         "68976.6596029277",
         "665.37"
        ],
        [
         "45",
         "HSR Layout",
         "9.0",
         "200.0",
         "8.0",
         "600.0",
         "333333.3333333333",
         "75.0"
        ],
        [
         "46",
         "Doddathoguru",
         "2.0",
         "33.0",
         "2.0",
         "970.0",
         "34020.61855670103",
         "485.0"
        ],
        [
         "47",
         "Whitefield",
         "2.0",
         "94.82",
         "2.0",
         "1459.0",
         "64989.71898560658",
         "729.5"
        ],
        [
         "48",
         "KR Puram",
         "1.0",
         "130.0",
         "2.0",
         "800.0",
         "162500.0",
         "400.0"
        ],
        [
         "49",
         "Other",
         "2.0",
         "36.0",
         "2.0",
         "869.0",
         "41426.92750287687",
         "434.5"
        ]
       ],
       "shape": {
        "columns": 7,
        "rows": 13319
       }
      },
      "text/html": [
       "<div>\n",
       "<style scoped>\n",
       "    .dataframe tbody tr th:only-of-type {\n",
       "        vertical-align: middle;\n",
       "    }\n",
       "\n",
       "    .dataframe tbody tr th {\n",
       "        vertical-align: top;\n",
       "    }\n",
       "\n",
       "    .dataframe thead th {\n",
       "        text-align: right;\n",
       "    }\n",
       "</style>\n",
       "<table border=\"1\" class=\"dataframe\">\n",
       "  <thead>\n",
       "    <tr style=\"text-align: right;\">\n",
       "      <th></th>\n",
       "      <th>location</th>\n",
       "      <th>bath</th>\n",
       "      <th>price</th>\n",
       "      <th>size_bkh</th>\n",
       "      <th>mod_total_sqft</th>\n",
       "      <th>price_per_sqft</th>\n",
       "      <th>size_of_room</th>\n",
       "    </tr>\n",
       "  </thead>\n",
       "  <tbody>\n",
       "    <tr>\n",
       "      <th>0</th>\n",
       "      <td>Electronic City Phase II</td>\n",
       "      <td>2.0</td>\n",
       "      <td>39.07</td>\n",
       "      <td>2.0</td>\n",
       "      <td>1056.0</td>\n",
       "      <td>36998.106061</td>\n",
       "      <td>528.0</td>\n",
       "    </tr>\n",
       "    <tr>\n",
       "      <th>1</th>\n",
       "      <td>Chikka Tirupathi</td>\n",
       "      <td>5.0</td>\n",
       "      <td>120.00</td>\n",
       "      <td>4.0</td>\n",
       "      <td>2600.0</td>\n",
       "      <td>46153.846154</td>\n",
       "      <td>650.0</td>\n",
       "    </tr>\n",
       "    <tr>\n",
       "      <th>2</th>\n",
       "      <td>Uttarahalli</td>\n",
       "      <td>2.0</td>\n",
       "      <td>62.00</td>\n",
       "      <td>3.0</td>\n",
       "      <td>1440.0</td>\n",
       "      <td>43055.555556</td>\n",
       "      <td>480.0</td>\n",
       "    </tr>\n",
       "    <tr>\n",
       "      <th>3</th>\n",
       "      <td>Lingadheeranahalli</td>\n",
       "      <td>3.0</td>\n",
       "      <td>95.00</td>\n",
       "      <td>3.0</td>\n",
       "      <td>1521.0</td>\n",
       "      <td>62458.908613</td>\n",
       "      <td>507.0</td>\n",
       "    </tr>\n",
       "    <tr>\n",
       "      <th>4</th>\n",
       "      <td>Kothanur</td>\n",
       "      <td>2.0</td>\n",
       "      <td>51.00</td>\n",
       "      <td>2.0</td>\n",
       "      <td>1200.0</td>\n",
       "      <td>42500.000000</td>\n",
       "      <td>600.0</td>\n",
       "    </tr>\n",
       "    <tr>\n",
       "      <th>...</th>\n",
       "      <td>...</td>\n",
       "      <td>...</td>\n",
       "      <td>...</td>\n",
       "      <td>...</td>\n",
       "      <td>...</td>\n",
       "      <td>...</td>\n",
       "      <td>...</td>\n",
       "    </tr>\n",
       "    <tr>\n",
       "      <th>12252</th>\n",
       "      <td>NaN</td>\n",
       "      <td>NaN</td>\n",
       "      <td>NaN</td>\n",
       "      <td>NaN</td>\n",
       "      <td>NaN</td>\n",
       "      <td>NaN</td>\n",
       "      <td>NaN</td>\n",
       "    </tr>\n",
       "    <tr>\n",
       "      <th>12560</th>\n",
       "      <td>NaN</td>\n",
       "      <td>NaN</td>\n",
       "      <td>NaN</td>\n",
       "      <td>NaN</td>\n",
       "      <td>NaN</td>\n",
       "      <td>NaN</td>\n",
       "      <td>NaN</td>\n",
       "    </tr>\n",
       "    <tr>\n",
       "      <th>12652</th>\n",
       "      <td>NaN</td>\n",
       "      <td>NaN</td>\n",
       "      <td>NaN</td>\n",
       "      <td>NaN</td>\n",
       "      <td>NaN</td>\n",
       "      <td>NaN</td>\n",
       "      <td>NaN</td>\n",
       "    </tr>\n",
       "    <tr>\n",
       "      <th>12768</th>\n",
       "      <td>NaN</td>\n",
       "      <td>NaN</td>\n",
       "      <td>NaN</td>\n",
       "      <td>NaN</td>\n",
       "      <td>NaN</td>\n",
       "      <td>NaN</td>\n",
       "      <td>NaN</td>\n",
       "    </tr>\n",
       "    <tr>\n",
       "      <th>12861</th>\n",
       "      <td>NaN</td>\n",
       "      <td>NaN</td>\n",
       "      <td>NaN</td>\n",
       "      <td>NaN</td>\n",
       "      <td>NaN</td>\n",
       "      <td>NaN</td>\n",
       "      <td>NaN</td>\n",
       "    </tr>\n",
       "  </tbody>\n",
       "</table>\n",
       "<p>13319 rows × 7 columns</p>\n",
       "</div>"
      ],
      "text/plain": [
       "                       location  bath   price  size_bkh  mod_total_sqft  \\\n",
       "0      Electronic City Phase II   2.0   39.07       2.0          1056.0   \n",
       "1              Chikka Tirupathi   5.0  120.00       4.0          2600.0   \n",
       "2                   Uttarahalli   2.0   62.00       3.0          1440.0   \n",
       "3            Lingadheeranahalli   3.0   95.00       3.0          1521.0   \n",
       "4                      Kothanur   2.0   51.00       2.0          1200.0   \n",
       "...                         ...   ...     ...       ...             ...   \n",
       "12252                       NaN   NaN     NaN       NaN             NaN   \n",
       "12560                       NaN   NaN     NaN       NaN             NaN   \n",
       "12652                       NaN   NaN     NaN       NaN             NaN   \n",
       "12768                       NaN   NaN     NaN       NaN             NaN   \n",
       "12861                       NaN   NaN     NaN       NaN             NaN   \n",
       "\n",
       "       price_per_sqft  size_of_room  \n",
       "0        36998.106061         528.0  \n",
       "1        46153.846154         650.0  \n",
       "2        43055.555556         480.0  \n",
       "3        62458.908613         507.0  \n",
       "4        42500.000000         600.0  \n",
       "...               ...           ...  \n",
       "12252             NaN           NaN  \n",
       "12560             NaN           NaN  \n",
       "12652             NaN           NaN  \n",
       "12768             NaN           NaN  \n",
       "12861             NaN           NaN  \n",
       "\n",
       "[13319 rows x 7 columns]"
      ]
     },
     "execution_count": 24,
     "metadata": {},
     "output_type": "execute_result"
    }
   ],
   "source": [
    "df3['size_of_room'] = df3['mod_total_sqft'] / df3['size_bkh']\n",
    "df3"
   ]
  },
  {
   "cell_type": "markdown",
   "metadata": {},
   "source": [
    "Getting to see the number of houses with less than 200 sq_ft for a single room as they might indicate an error in the data collection. A single room apartment should be around 300 - 450 sq_ft according to the research conducted in google."
   ]
  },
  {
   "cell_type": "code",
   "execution_count": 25,
   "metadata": {},
   "outputs": [
    {
     "data": {
      "application/vnd.microsoft.datawrangler.viewer.v0+json": {
       "columns": [
        {
         "name": "index",
         "rawType": "int64",
         "type": "integer"
        },
        {
         "name": "location",
         "rawType": "object",
         "type": "string"
        },
        {
         "name": "bath",
         "rawType": "float64",
         "type": "float"
        },
        {
         "name": "price",
         "rawType": "float64",
         "type": "float"
        },
        {
         "name": "size_bkh",
         "rawType": "float64",
         "type": "float"
        },
        {
         "name": "mod_total_sqft",
         "rawType": "float64",
         "type": "float"
        },
        {
         "name": "price_per_sqft",
         "rawType": "float64",
         "type": "float"
        },
        {
         "name": "size_of_room",
         "rawType": "float64",
         "type": "float"
        }
       ],
       "conversionMethod": "pd.DataFrame",
       "ref": "b5d827e0-d107-46b6-9df8-daac9367a53c",
       "rows": [
        [
         "9",
         "Other",
         "6.0",
         "370.0",
         "6.0",
         "1020.0",
         "362745.09803921566",
         "170.0"
        ],
        [
         "45",
         "HSR Layout",
         "9.0",
         "200.0",
         "8.0",
         "600.0",
         "333333.3333333333",
         "75.0"
        ],
        [
         "68",
         "Other",
         "7.0",
         "85.0",
         "8.0",
         "1350.0",
         "62962.96296296296",
         "168.75"
        ],
        [
         "70",
         "Other",
         "3.0",
         "100.0",
         "3.0",
         "500.0",
         "200000.0",
         "166.66666666666666"
        ],
        [
         "89",
         "Rajaji Nagar",
         "6.0",
         "160.0",
         "6.0",
         "710.0",
         "225352.11267605633",
         "118.33333333333333"
        ],
        [
         "119",
         "Hennur Road",
         "3.0",
         "23.0",
         "2.0",
         "276.0",
         "83333.33333333333",
         "138.0"
        ],
        [
         "129",
         "Vishwapriya Layout",
         "7.0",
         "115.0",
         "7.0",
         "950.0",
         "121052.63157894737",
         "135.71428571428572"
        ],
        [
         "149",
         "Other",
         "5.0",
         "185.0",
         "6.0",
         "1034.0",
         "178916.82785299807",
         "172.33333333333334"
        ],
        [
         "176",
         "Kumaraswami Layout",
         "3.0",
         "85.0",
         "5.0",
         "600.0",
         "141666.66666666666",
         "120.0"
        ],
        [
         "349",
         "Other",
         "3.0",
         "74.0",
         "3.0",
         "11.0",
         "6727272.7272727275",
         "3.6666666666666665"
        ],
        [
         "397",
         "Other",
         "3.0",
         "120.0",
         "6.0",
         "700.0",
         "171428.57142857142",
         "116.66666666666667"
        ],
        [
         "434",
         "7th Phase JP Nagar",
         "8.0",
         "250.0",
         "8.0",
         "1200.0",
         "208333.33333333334",
         "150.0"
        ],
        [
         "482",
         "Kenchenahalli",
         "3.0",
         "65.0",
         "5.0",
         "500.0",
         "130000.0",
         "100.0"
        ],
        [
         "513",
         "8th Phase JP Nagar",
         "4.0",
         "90.0",
         "4.0",
         "660.0",
         "136363.63636363635",
         "165.0"
        ],
        [
         "614",
         "Margondanahalli",
         "4.0",
         "150.0",
         "5.0",
         "940.0",
         "159574.46808510637",
         "188.0"
        ],
        [
         "677",
         "Hormavu",
         "7.0",
         "150.0",
         "7.0",
         "1200.0",
         "125000.0",
         "171.42857142857142"
        ],
        [
         "770",
         "Other",
         "9.0",
         "190.0",
         "9.0",
         "600.0",
         "316666.6666666667",
         "66.66666666666667"
        ],
        [
         "783",
         "Other",
         "7.0",
         "76.0",
         "6.0",
         "900.0",
         "84444.44444444444",
         "150.0"
        ],
        [
         "789",
         "Other",
         "4.0",
         "65.0",
         "6.0",
         "600.0",
         "108333.33333333333",
         "100.0"
        ],
        [
         "807",
         "HBR Layout",
         "3.0",
         "59.0",
         "4.0",
         "675.0",
         "87407.4074074074",
         "168.75"
        ],
        [
         "838",
         "TC Palaya",
         "6.0",
         "69.0",
         "6.0",
         "1000.0",
         "69000.0",
         "166.66666666666666"
        ],
        [
         "857",
         "Vijayanagar",
         "4.0",
         "72.0",
         "8.0",
         "600.0",
         "120000.0",
         "75.0"
        ],
        [
         "866",
         "Other",
         "3.0",
         "80.0",
         "5.0",
         "900.0",
         "88888.88888888889",
         "180.0"
        ],
        [
         "938",
         "5th Phase JP Nagar",
         "11.0",
         "290.0",
         "9.0",
         "1260.0",
         "230158.73015873015",
         "140.0"
        ],
        [
         "956",
         "Marathahalli",
         "4.0",
         "72.0",
         "4.0",
         "700.0",
         "102857.14285714286",
         "175.0"
        ],
        [
         "992",
         "Rajaji Nagar",
         "4.0",
         "90.0",
         "4.0",
         "315.0",
         "285714.28571428574",
         "78.75"
        ],
        [
         "1010",
         "Other",
         "3.0",
         "65.0",
         "4.0",
         "600.0",
         "108333.33333333333",
         "150.0"
        ],
        [
         "1020",
         "Other",
         "1.0",
         "30.0",
         "1.0",
         "15.0",
         "2000000.0",
         "15.0"
        ],
        [
         "1024",
         "1st Phase JP Nagar",
         "7.0",
         "240.0",
         "8.0",
         "1200.0",
         "200000.0",
         "150.0"
        ],
        [
         "1048",
         "Other",
         "10.0",
         "170.0",
         "9.0",
         "900.0",
         "188888.88888888888",
         "100.0"
        ],
        [
         "1066",
         "Yeshwanthpur",
         "4.0",
         "90.0",
         "5.0",
         "850.0",
         "105882.35294117648",
         "170.0"
        ],
        [
         "1103",
         "5th Phase JP Nagar",
         "6.0",
         "165.0",
         "9.0",
         "812.0",
         "203201.97044334977",
         "90.22222222222223"
        ],
        [
         "1105",
         "Hoodi",
         "8.0",
         "145.0",
         "8.0",
         "1120.0",
         "129464.28571428571",
         "140.0"
        ],
        [
         "1108",
         "Kengeri",
         "6.0",
         "140.0",
         "7.0",
         "1200.0",
         "116666.66666666667",
         "171.42857142857142"
        ],
        [
         "1122",
         "Other",
         "2.0",
         "150.0",
         "5.0",
         "24.0",
         "6250000.0",
         "4.8"
        ],
        [
         "1220",
         "Kumaraswami Layout",
         "7.0",
         "105.0",
         "7.0",
         "800.0",
         "131250.0",
         "114.28571428571429"
        ],
        [
         "1233",
         "Other",
         "5.0",
         "60.0",
         "4.0",
         "600.0",
         "100000.0",
         "150.0"
        ],
        [
         "1314",
         "Malleshwaram",
         "7.0",
         "195.0",
         "8.0",
         "840.0",
         "232142.85714285713",
         "105.0"
        ],
        [
         "1379",
         "Other",
         "7.0",
         "235.0",
         "8.0",
         "1200.0",
         "195833.33333333334",
         "150.0"
        ],
        [
         "1448",
         "Sector 7 HSR Layout",
         "4.0",
         "90.0",
         "5.0",
         "900.0",
         "100000.0",
         "180.0"
        ],
        [
         "1490",
         "Malleshwaram",
         "8.0",
         "150.0",
         "9.0",
         "750.0",
         "200000.0",
         "83.33333333333333"
        ],
        [
         "1492",
         "9th Phase JP Nagar",
         "6.0",
         "195.0",
         "7.0",
         "1200.0",
         "162500.0",
         "171.42857142857142"
        ],
        [
         "1567",
         "Uttarahalli",
         "5.0",
         "200.0",
         "5.0",
         "400.0",
         "500000.0",
         "80.0"
        ],
        [
         "1575",
         "Kogilu",
         "7.0",
         "88.0",
         "7.0",
         "925.0",
         "95135.13513513513",
         "132.14285714285714"
        ],
        [
         "1624",
         "Kereguddadahalli",
         "4.0",
         "60.0",
         "6.0",
         "600.0",
         "100000.0",
         "100.0"
        ],
        [
         "1735",
         "Other",
         "10.0",
         "90.0",
         "10.0",
         "750.0",
         "120000.0",
         "75.0"
        ],
        [
         "1758",
         "Other",
         "6.0",
         "200.0",
         "8.0",
         "1320.0",
         "151515.15151515152",
         "165.0"
        ],
        [
         "1768",
         "Other",
         "11.0",
         "170.0",
         "11.0",
         "1200.0",
         "141666.66666666666",
         "109.0909090909091"
        ],
        [
         "1769",
         "Other",
         "6.0",
         "66.0",
         "6.0",
         "727.0",
         "90784.04401650619",
         "121.16666666666667"
        ],
        [
         "1795",
         "Other",
         "10.0",
         "475.0",
         "10.0",
         "1660.0",
         "286144.578313253",
         "166.0"
        ]
       ],
       "shape": {
        "columns": 7,
        "rows": 340
       }
      },
      "text/html": [
       "<div>\n",
       "<style scoped>\n",
       "    .dataframe tbody tr th:only-of-type {\n",
       "        vertical-align: middle;\n",
       "    }\n",
       "\n",
       "    .dataframe tbody tr th {\n",
       "        vertical-align: top;\n",
       "    }\n",
       "\n",
       "    .dataframe thead th {\n",
       "        text-align: right;\n",
       "    }\n",
       "</style>\n",
       "<table border=\"1\" class=\"dataframe\">\n",
       "  <thead>\n",
       "    <tr style=\"text-align: right;\">\n",
       "      <th></th>\n",
       "      <th>location</th>\n",
       "      <th>bath</th>\n",
       "      <th>price</th>\n",
       "      <th>size_bkh</th>\n",
       "      <th>mod_total_sqft</th>\n",
       "      <th>price_per_sqft</th>\n",
       "      <th>size_of_room</th>\n",
       "    </tr>\n",
       "  </thead>\n",
       "  <tbody>\n",
       "    <tr>\n",
       "      <th>9</th>\n",
       "      <td>Other</td>\n",
       "      <td>6.0</td>\n",
       "      <td>370.0</td>\n",
       "      <td>6.0</td>\n",
       "      <td>1020.0</td>\n",
       "      <td>362745.098039</td>\n",
       "      <td>170.000000</td>\n",
       "    </tr>\n",
       "    <tr>\n",
       "      <th>45</th>\n",
       "      <td>HSR Layout</td>\n",
       "      <td>9.0</td>\n",
       "      <td>200.0</td>\n",
       "      <td>8.0</td>\n",
       "      <td>600.0</td>\n",
       "      <td>333333.333333</td>\n",
       "      <td>75.000000</td>\n",
       "    </tr>\n",
       "    <tr>\n",
       "      <th>68</th>\n",
       "      <td>Other</td>\n",
       "      <td>7.0</td>\n",
       "      <td>85.0</td>\n",
       "      <td>8.0</td>\n",
       "      <td>1350.0</td>\n",
       "      <td>62962.962963</td>\n",
       "      <td>168.750000</td>\n",
       "    </tr>\n",
       "    <tr>\n",
       "      <th>70</th>\n",
       "      <td>Other</td>\n",
       "      <td>3.0</td>\n",
       "      <td>100.0</td>\n",
       "      <td>3.0</td>\n",
       "      <td>500.0</td>\n",
       "      <td>200000.000000</td>\n",
       "      <td>166.666667</td>\n",
       "    </tr>\n",
       "    <tr>\n",
       "      <th>89</th>\n",
       "      <td>Rajaji Nagar</td>\n",
       "      <td>6.0</td>\n",
       "      <td>160.0</td>\n",
       "      <td>6.0</td>\n",
       "      <td>710.0</td>\n",
       "      <td>225352.112676</td>\n",
       "      <td>118.333333</td>\n",
       "    </tr>\n",
       "    <tr>\n",
       "      <th>...</th>\n",
       "      <td>...</td>\n",
       "      <td>...</td>\n",
       "      <td>...</td>\n",
       "      <td>...</td>\n",
       "      <td>...</td>\n",
       "      <td>...</td>\n",
       "      <td>...</td>\n",
       "    </tr>\n",
       "    <tr>\n",
       "      <th>13073</th>\n",
       "      <td>Nagarbhavi</td>\n",
       "      <td>3.0</td>\n",
       "      <td>100.0</td>\n",
       "      <td>4.0</td>\n",
       "      <td>600.0</td>\n",
       "      <td>166666.666667</td>\n",
       "      <td>150.000000</td>\n",
       "    </tr>\n",
       "    <tr>\n",
       "      <th>13112</th>\n",
       "      <td>Nagavara</td>\n",
       "      <td>3.0</td>\n",
       "      <td>35.0</td>\n",
       "      <td>3.0</td>\n",
       "      <td>440.0</td>\n",
       "      <td>79545.454545</td>\n",
       "      <td>146.666667</td>\n",
       "    </tr>\n",
       "    <tr>\n",
       "      <th>13198</th>\n",
       "      <td>Other</td>\n",
       "      <td>8.0</td>\n",
       "      <td>140.0</td>\n",
       "      <td>8.0</td>\n",
       "      <td>1200.0</td>\n",
       "      <td>116666.666667</td>\n",
       "      <td>150.000000</td>\n",
       "    </tr>\n",
       "    <tr>\n",
       "      <th>13221</th>\n",
       "      <td>Other</td>\n",
       "      <td>9.0</td>\n",
       "      <td>75.0</td>\n",
       "      <td>9.0</td>\n",
       "      <td>1178.0</td>\n",
       "      <td>63667.232598</td>\n",
       "      <td>130.888889</td>\n",
       "    </tr>\n",
       "    <tr>\n",
       "      <th>13303</th>\n",
       "      <td>Vidyaranyapura</td>\n",
       "      <td>5.0</td>\n",
       "      <td>70.0</td>\n",
       "      <td>5.0</td>\n",
       "      <td>774.0</td>\n",
       "      <td>90439.276486</td>\n",
       "      <td>154.800000</td>\n",
       "    </tr>\n",
       "  </tbody>\n",
       "</table>\n",
       "<p>340 rows × 7 columns</p>\n",
       "</div>"
      ],
      "text/plain": [
       "             location  bath  price  size_bkh  mod_total_sqft  price_per_sqft  \\\n",
       "9               Other   6.0  370.0       6.0          1020.0   362745.098039   \n",
       "45         HSR Layout   9.0  200.0       8.0           600.0   333333.333333   \n",
       "68              Other   7.0   85.0       8.0          1350.0    62962.962963   \n",
       "70              Other   3.0  100.0       3.0           500.0   200000.000000   \n",
       "89       Rajaji Nagar   6.0  160.0       6.0           710.0   225352.112676   \n",
       "...               ...   ...    ...       ...             ...             ...   \n",
       "13073      Nagarbhavi   3.0  100.0       4.0           600.0   166666.666667   \n",
       "13112        Nagavara   3.0   35.0       3.0           440.0    79545.454545   \n",
       "13198           Other   8.0  140.0       8.0          1200.0   116666.666667   \n",
       "13221           Other   9.0   75.0       9.0          1178.0    63667.232598   \n",
       "13303  Vidyaranyapura   5.0   70.0       5.0           774.0    90439.276486   \n",
       "\n",
       "       size_of_room  \n",
       "9        170.000000  \n",
       "45        75.000000  \n",
       "68       168.750000  \n",
       "70       166.666667  \n",
       "89       118.333333  \n",
       "...             ...  \n",
       "13073    150.000000  \n",
       "13112    146.666667  \n",
       "13198    150.000000  \n",
       "13221    130.888889  \n",
       "13303    154.800000  \n",
       "\n",
       "[340 rows x 7 columns]"
      ]
     },
     "execution_count": 25,
     "metadata": {},
     "output_type": "execute_result"
    }
   ],
   "source": [
    "df3[df3['size_of_room'] < 200 ]"
   ]
  },
  {
   "cell_type": "markdown",
   "metadata": {},
   "source": [
    "Creating a new dataset df4, and storing the houses with more than 200sq_ft per room."
   ]
  },
  {
   "cell_type": "code",
   "execution_count": 26,
   "metadata": {},
   "outputs": [
    {
     "data": {
      "application/vnd.microsoft.datawrangler.viewer.v0+json": {
       "columns": [
        {
         "name": "index",
         "rawType": "int64",
         "type": "integer"
        },
        {
         "name": "location",
         "rawType": "object",
         "type": "unknown"
        },
        {
         "name": "bath",
         "rawType": "float64",
         "type": "float"
        },
        {
         "name": "price",
         "rawType": "float64",
         "type": "float"
        },
        {
         "name": "size_bkh",
         "rawType": "float64",
         "type": "float"
        },
        {
         "name": "mod_total_sqft",
         "rawType": "float64",
         "type": "float"
        },
        {
         "name": "price_per_sqft",
         "rawType": "float64",
         "type": "float"
        },
        {
         "name": "size_of_room",
         "rawType": "float64",
         "type": "float"
        }
       ],
       "conversionMethod": "pd.DataFrame",
       "ref": "24361faa-cb1c-43c6-93ca-5b0b5f203362",
       "rows": [
        [
         "0",
         "Electronic City Phase II",
         "2.0",
         "39.07",
         "2.0",
         "1056.0",
         "36998.106060606064",
         "528.0"
        ],
        [
         "1",
         "Chikka Tirupathi",
         "5.0",
         "120.0",
         "4.0",
         "2600.0",
         "46153.846153846156",
         "650.0"
        ],
        [
         "2",
         "Uttarahalli",
         "2.0",
         "62.0",
         "3.0",
         "1440.0",
         "43055.555555555555",
         "480.0"
        ],
        [
         "3",
         "Lingadheeranahalli",
         "3.0",
         "95.0",
         "3.0",
         "1521.0",
         "62458.90861275476",
         "507.0"
        ],
        [
         "4",
         "Kothanur",
         "2.0",
         "51.0",
         "2.0",
         "1200.0",
         "42500.0",
         "600.0"
        ],
        [
         "5",
         "Whitefield",
         "2.0",
         "38.0",
         "2.0",
         "1170.0",
         "32478.63247863248",
         "585.0"
        ],
        [
         "6",
         "Old Airport Road",
         "4.0",
         "204.0",
         "4.0",
         "2732.0",
         "74670.5710102489",
         "683.0"
        ],
        [
         "7",
         "Rajaji Nagar",
         "4.0",
         "600.0",
         "4.0",
         "3300.0",
         "181818.18181818182",
         "825.0"
        ],
        [
         "8",
         "Marathahalli",
         "3.0",
         "63.25",
         "3.0",
         "1310.0",
         "48282.442748091606",
         "436.6666666666667"
        ],
        [
         "10",
         "Whitefield",
         "2.0",
         "70.0",
         "3.0",
         "1800.0",
         "38888.88888888889",
         "600.0"
        ],
        [
         "11",
         "Whitefield",
         "5.0",
         "295.0",
         "4.0",
         "2785.0",
         "105924.5960502693",
         "696.25"
        ],
        [
         "12",
         "7th Phase JP Nagar",
         "2.0",
         "38.0",
         "2.0",
         "1000.0",
         "38000.0",
         "500.0"
        ],
        [
         "13",
         "Gottigere",
         "2.0",
         "40.0",
         "2.0",
         "1100.0",
         "36363.63636363636",
         "550.0"
        ],
        [
         "14",
         "Sarjapur",
         "3.0",
         "148.0",
         "3.0",
         "2250.0",
         "65777.77777777778",
         "750.0"
        ],
        [
         "15",
         "Mysore Road",
         "2.0",
         "73.5",
         "2.0",
         "1175.0",
         "62553.1914893617",
         "587.5"
        ],
        [
         "16",
         "Bisuvanahalli",
         "3.0",
         "48.0",
         "3.0",
         "1180.0",
         "40677.96610169492",
         "393.3333333333333"
        ],
        [
         "17",
         "Raja Rajeshwari Nagar",
         "3.0",
         "60.0",
         "3.0",
         "1540.0",
         "38961.03896103896",
         "513.3333333333334"
        ],
        [
         "18",
         "Other",
         "4.0",
         "290.0",
         "3.0",
         "2770.0",
         "104693.14079422383",
         "923.3333333333334"
        ],
        [
         "19",
         "Other",
         "2.0",
         "48.0",
         "2.0",
         "1100.0",
         "43636.36363636364",
         "550.0"
        ],
        [
         "20",
         "Kengeri",
         "1.0",
         "15.0",
         "1.0",
         "600.0",
         "25000.0",
         "600.0"
        ],
        [
         "21",
         "Binny Pete",
         "3.0",
         "122.0",
         "3.0",
         "1755.0",
         "69515.66951566952",
         "585.0"
        ],
        [
         "22",
         "Thanisandra",
         "5.0",
         "380.0",
         "4.0",
         "2800.0",
         "135714.2857142857",
         "700.0"
        ],
        [
         "23",
         "Bellandur",
         "3.0",
         "103.0",
         "3.0",
         "1767.0",
         "58290.88851160159",
         "589.0"
        ],
        [
         "24",
         "Thanisandra",
         "1.0",
         "25.25",
         "1.0",
         "510.0",
         "49509.80392156863",
         "510.0"
        ],
        [
         "25",
         "Other",
         "3.0",
         "56.0",
         "3.0",
         "1250.0",
         "44800.0",
         "416.6666666666667"
        ],
        [
         "26",
         "Electronic City",
         "1.0",
         "23.1",
         "2.0",
         "660.0",
         "35000.0",
         "330.0"
        ],
        [
         "27",
         "Whitefield",
         "3.0",
         "81.0",
         "3.0",
         "1610.0",
         "50310.55900621118",
         "536.6666666666666"
        ],
        [
         "28",
         "Ramagondanahalli",
         "2.0",
         "48.77",
         "2.0",
         "1151.0",
         "42371.85056472632",
         "575.5"
        ],
        [
         "29",
         "Electronic City",
         "2.0",
         "47.0",
         "3.0",
         "1025.0",
         "45853.65853658537",
         "341.6666666666667"
        ],
        [
         "30",
         "Yelahanka",
         "4.0",
         "186.0",
         "4.0",
         "2475.0",
         "75151.51515151515",
         "618.75"
        ],
        [
         "31",
         "Bisuvanahalli",
         "2.0",
         "35.0",
         "3.0",
         "1075.0",
         "32558.13953488372",
         "358.3333333333333"
        ],
        [
         "32",
         "Hebbal",
         "2.0",
         "123.0",
         "3.0",
         "1760.0",
         "69886.36363636363",
         "586.6666666666666"
        ],
        [
         "33",
         "Raja Rajeshwari Nagar",
         "3.0",
         "57.39",
         "3.0",
         "1693.0",
         "33898.405197873595",
         "564.3333333333334"
        ],
        [
         "34",
         "Kasturi Nagar",
         "3.0",
         "125.0",
         "3.0",
         "1925.0",
         "64935.06493506493",
         "641.6666666666666"
        ],
        [
         "35",
         "Kanakpura Road",
         "2.0",
         "36.0",
         "2.0",
         "700.0",
         "51428.57142857143",
         "350.0"
        ],
        [
         "36",
         "Electronics City Phase 1",
         "2.0",
         "45.5",
         "2.0",
         "1070.0",
         "42523.36448598131",
         "535.0"
        ],
        [
         "37",
         "Kundalahalli",
         "3.0",
         "125.0",
         "3.0",
         "1724.0",
         "72505.80046403712",
         "574.6666666666666"
        ],
        [
         "38",
         "Chikkalasandra",
         "2.0",
         "56.12",
         "3.0",
         "1290.0",
         "43503.875968992244",
         "430.0"
        ],
        [
         "39",
         "Uttarahalli",
         "2.0",
         "45.0",
         "2.0",
         "1143.0",
         "39370.07874015748",
         "571.5"
        ],
        [
         "40",
         "Murugeshpalya",
         "2.0",
         "81.0",
         "2.0",
         "1296.0",
         "62500.0",
         "648.0"
        ],
        [
         "41",
         "Sarjapur  Road",
         "3.0",
         "38.0",
         "3.0",
         "1254.0",
         "30303.030303030304",
         "418.0"
        ],
        [
         "42",
         "Ganga Nagar",
         "1.0",
         "38.0",
         "1.0",
         "600.0",
         "63333.333333333336",
         "600.0"
        ],
        [
         "43",
         "Yelahanka",
         "1.0",
         "48.0",
         "1.0",
         "660.0",
         "72727.27272727272",
         "660.0"
        ],
        [
         "44",
         "Kanakpura Road",
         "2.0",
         "91.79",
         "2.0",
         "1330.74",
         "68976.6596029277",
         "665.37"
        ],
        [
         "46",
         "Doddathoguru",
         "2.0",
         "33.0",
         "2.0",
         "970.0",
         "34020.61855670103",
         "485.0"
        ],
        [
         "47",
         "Whitefield",
         "2.0",
         "94.82",
         "2.0",
         "1459.0",
         "64989.71898560658",
         "729.5"
        ],
        [
         "48",
         "KR Puram",
         "1.0",
         "130.0",
         "2.0",
         "800.0",
         "162500.0",
         "400.0"
        ],
        [
         "49",
         "Other",
         "2.0",
         "36.0",
         "2.0",
         "869.0",
         "41426.92750287687",
         "434.5"
        ],
        [
         "50",
         "Other",
         "2.0",
         "50.0",
         "2.0",
         "1270.0",
         "39370.07874015748",
         "635.0"
        ],
        [
         "51",
         "Bhoganhalli",
         "3.0",
         "99.0",
         "3.0",
         "1670.0",
         "59281.4371257485",
         "556.6666666666666"
        ]
       ],
       "shape": {
        "columns": 7,
        "rows": 12979
       }
      },
      "text/html": [
       "<div>\n",
       "<style scoped>\n",
       "    .dataframe tbody tr th:only-of-type {\n",
       "        vertical-align: middle;\n",
       "    }\n",
       "\n",
       "    .dataframe tbody tr th {\n",
       "        vertical-align: top;\n",
       "    }\n",
       "\n",
       "    .dataframe thead th {\n",
       "        text-align: right;\n",
       "    }\n",
       "</style>\n",
       "<table border=\"1\" class=\"dataframe\">\n",
       "  <thead>\n",
       "    <tr style=\"text-align: right;\">\n",
       "      <th></th>\n",
       "      <th>location</th>\n",
       "      <th>bath</th>\n",
       "      <th>price</th>\n",
       "      <th>size_bkh</th>\n",
       "      <th>mod_total_sqft</th>\n",
       "      <th>price_per_sqft</th>\n",
       "      <th>size_of_room</th>\n",
       "    </tr>\n",
       "  </thead>\n",
       "  <tbody>\n",
       "    <tr>\n",
       "      <th>0</th>\n",
       "      <td>Electronic City Phase II</td>\n",
       "      <td>2.0</td>\n",
       "      <td>39.07</td>\n",
       "      <td>2.0</td>\n",
       "      <td>1056.0</td>\n",
       "      <td>36998.106061</td>\n",
       "      <td>528.0</td>\n",
       "    </tr>\n",
       "    <tr>\n",
       "      <th>1</th>\n",
       "      <td>Chikka Tirupathi</td>\n",
       "      <td>5.0</td>\n",
       "      <td>120.00</td>\n",
       "      <td>4.0</td>\n",
       "      <td>2600.0</td>\n",
       "      <td>46153.846154</td>\n",
       "      <td>650.0</td>\n",
       "    </tr>\n",
       "    <tr>\n",
       "      <th>2</th>\n",
       "      <td>Uttarahalli</td>\n",
       "      <td>2.0</td>\n",
       "      <td>62.00</td>\n",
       "      <td>3.0</td>\n",
       "      <td>1440.0</td>\n",
       "      <td>43055.555556</td>\n",
       "      <td>480.0</td>\n",
       "    </tr>\n",
       "    <tr>\n",
       "      <th>3</th>\n",
       "      <td>Lingadheeranahalli</td>\n",
       "      <td>3.0</td>\n",
       "      <td>95.00</td>\n",
       "      <td>3.0</td>\n",
       "      <td>1521.0</td>\n",
       "      <td>62458.908613</td>\n",
       "      <td>507.0</td>\n",
       "    </tr>\n",
       "    <tr>\n",
       "      <th>4</th>\n",
       "      <td>Kothanur</td>\n",
       "      <td>2.0</td>\n",
       "      <td>51.00</td>\n",
       "      <td>2.0</td>\n",
       "      <td>1200.0</td>\n",
       "      <td>42500.000000</td>\n",
       "      <td>600.0</td>\n",
       "    </tr>\n",
       "    <tr>\n",
       "      <th>...</th>\n",
       "      <td>...</td>\n",
       "      <td>...</td>\n",
       "      <td>...</td>\n",
       "      <td>...</td>\n",
       "      <td>...</td>\n",
       "      <td>...</td>\n",
       "      <td>...</td>\n",
       "    </tr>\n",
       "    <tr>\n",
       "      <th>12252</th>\n",
       "      <td>NaN</td>\n",
       "      <td>NaN</td>\n",
       "      <td>NaN</td>\n",
       "      <td>NaN</td>\n",
       "      <td>NaN</td>\n",
       "      <td>NaN</td>\n",
       "      <td>NaN</td>\n",
       "    </tr>\n",
       "    <tr>\n",
       "      <th>12560</th>\n",
       "      <td>NaN</td>\n",
       "      <td>NaN</td>\n",
       "      <td>NaN</td>\n",
       "      <td>NaN</td>\n",
       "      <td>NaN</td>\n",
       "      <td>NaN</td>\n",
       "      <td>NaN</td>\n",
       "    </tr>\n",
       "    <tr>\n",
       "      <th>12652</th>\n",
       "      <td>NaN</td>\n",
       "      <td>NaN</td>\n",
       "      <td>NaN</td>\n",
       "      <td>NaN</td>\n",
       "      <td>NaN</td>\n",
       "      <td>NaN</td>\n",
       "      <td>NaN</td>\n",
       "    </tr>\n",
       "    <tr>\n",
       "      <th>12768</th>\n",
       "      <td>NaN</td>\n",
       "      <td>NaN</td>\n",
       "      <td>NaN</td>\n",
       "      <td>NaN</td>\n",
       "      <td>NaN</td>\n",
       "      <td>NaN</td>\n",
       "      <td>NaN</td>\n",
       "    </tr>\n",
       "    <tr>\n",
       "      <th>12861</th>\n",
       "      <td>NaN</td>\n",
       "      <td>NaN</td>\n",
       "      <td>NaN</td>\n",
       "      <td>NaN</td>\n",
       "      <td>NaN</td>\n",
       "      <td>NaN</td>\n",
       "      <td>NaN</td>\n",
       "    </tr>\n",
       "  </tbody>\n",
       "</table>\n",
       "<p>12979 rows × 7 columns</p>\n",
       "</div>"
      ],
      "text/plain": [
       "                       location  bath   price  size_bkh  mod_total_sqft  \\\n",
       "0      Electronic City Phase II   2.0   39.07       2.0          1056.0   \n",
       "1              Chikka Tirupathi   5.0  120.00       4.0          2600.0   \n",
       "2                   Uttarahalli   2.0   62.00       3.0          1440.0   \n",
       "3            Lingadheeranahalli   3.0   95.00       3.0          1521.0   \n",
       "4                      Kothanur   2.0   51.00       2.0          1200.0   \n",
       "...                         ...   ...     ...       ...             ...   \n",
       "12252                       NaN   NaN     NaN       NaN             NaN   \n",
       "12560                       NaN   NaN     NaN       NaN             NaN   \n",
       "12652                       NaN   NaN     NaN       NaN             NaN   \n",
       "12768                       NaN   NaN     NaN       NaN             NaN   \n",
       "12861                       NaN   NaN     NaN       NaN             NaN   \n",
       "\n",
       "       price_per_sqft  size_of_room  \n",
       "0        36998.106061         528.0  \n",
       "1        46153.846154         650.0  \n",
       "2        43055.555556         480.0  \n",
       "3        62458.908613         507.0  \n",
       "4        42500.000000         600.0  \n",
       "...               ...           ...  \n",
       "12252             NaN           NaN  \n",
       "12560             NaN           NaN  \n",
       "12652             NaN           NaN  \n",
       "12768             NaN           NaN  \n",
       "12861             NaN           NaN  \n",
       "\n",
       "[12979 rows x 7 columns]"
      ]
     },
     "execution_count": 26,
     "metadata": {},
     "output_type": "execute_result"
    }
   ],
   "source": [
    "df4 = df3[~(df3['size_of_room'] < 200 )]\n",
    "df4"
   ]
  },
  {
   "cell_type": "code",
   "execution_count": 27,
   "metadata": {},
   "outputs": [
    {
     "data": {
      "text/plain": [
       "count      12,860.00000\n",
       "mean       64,967.19070\n",
       "std        43,447.87424\n",
       "min         2,678.29813\n",
       "25%        42,401.19848\n",
       "50%        53,571.42857\n",
       "75%        70,943.06991\n",
       "max     1,764,705.88235\n",
       "Name: price_per_sqft, dtype: float64"
      ]
     },
     "execution_count": 27,
     "metadata": {},
     "output_type": "execute_result"
    }
   ],
   "source": [
    "pd.options.display.float_format = '{:,.5f}'.format\n",
    "\n",
    "df4['price_per_sqft'].describe()"
   ]
  },
  {
   "cell_type": "code",
   "execution_count": 28,
   "metadata": {},
   "outputs": [
    {
     "data": {
      "text/plain": [
       "(12979, 7)"
      ]
     },
     "execution_count": 28,
     "metadata": {},
     "output_type": "execute_result"
    }
   ],
   "source": [
    "df4.shape"
   ]
  },
  {
   "cell_type": "code",
   "execution_count": 29,
   "metadata": {},
   "outputs": [
    {
     "data": {
      "text/plain": [
       "(10605, 7)"
      ]
     },
     "execution_count": 29,
     "metadata": {},
     "output_type": "execute_result"
    }
   ],
   "source": [
    "#Writing a function to remove the houses that have prices with more than 1 standard deviation per location as different loacations have different prices. These will be treated as outliers.\n",
    "\n",
    "def remove_outliers(df4):\n",
    "    df_out = pd.DataFrame()\n",
    "    for key, subdf in df4.groupby('location'):\n",
    "        p = np.mean(subdf.price_per_sqft)\n",
    "        st = np.std(subdf.price_per_sqft)\n",
    "        reduced_df = subdf[(subdf.price_per_sqft > (p - st)) & (subdf.price_per_sqft <= (p + st))]\n",
    "        df_out = pd.concat([df_out, reduced_df], ignore_index=True)\n",
    "    return df_out\n",
    "\n",
    "df5 = remove_outliers(df4)\n",
    "df5.shape"
   ]
  },
  {
   "cell_type": "code",
   "execution_count": 30,
   "metadata": {},
   "outputs": [
    {
     "data": {
      "text/plain": [
       "array([ 4.,  3.,  6.,  2.,  5.,  8.,  1., 14.,  7.,  9., 12., 27., 16.,\n",
       "       13., 10.])"
      ]
     },
     "execution_count": 30,
     "metadata": {},
     "output_type": "execute_result"
    }
   ],
   "source": [
    "#Checking the unique value in bethroom columns to see if there might be outliers\n",
    "df5['bath'].unique()"
   ]
  },
  {
   "cell_type": "code",
   "execution_count": 31,
   "metadata": {},
   "outputs": [
    {
     "data": {
      "application/vnd.microsoft.datawrangler.viewer.v0+json": {
       "columns": [
        {
         "name": "index",
         "rawType": "int64",
         "type": "integer"
        },
        {
         "name": "location",
         "rawType": "object",
         "type": "string"
        },
        {
         "name": "bath",
         "rawType": "float64",
         "type": "float"
        },
        {
         "name": "price",
         "rawType": "float64",
         "type": "float"
        },
        {
         "name": "size_bkh",
         "rawType": "float64",
         "type": "float"
        },
        {
         "name": "mod_total_sqft",
         "rawType": "float64",
         "type": "float"
        },
        {
         "name": "price_per_sqft",
         "rawType": "float64",
         "type": "float"
        },
        {
         "name": "size_of_room",
         "rawType": "float64",
         "type": "float"
        }
       ],
       "conversionMethod": "pd.DataFrame",
       "ref": "b58a15f7-b504-481b-9f36-4a9c653b7fd2",
       "rows": [
        [
         "607",
         "BTM 1st Stage",
         "14.0",
         "500.0",
         "9.0",
         "3300.0",
         "151515.15151515152",
         "366.6666666666667"
        ],
        [
         "5551",
         "Neeladri Nagar",
         "12.0",
         "160.0",
         "10.0",
         "4000.0",
         "40000.0",
         "400.0"
        ],
        [
         "5966",
         "Other",
         "27.0",
         "230.0",
         "27.0",
         "8000.0",
         "28750.0",
         "296.2962962962963"
        ],
        [
         "6200",
         "Other",
         "12.0",
         "525.0",
         "10.0",
         "12000.0",
         "43750.0",
         "1200.0"
        ],
        [
         "6286",
         "Other",
         "16.0",
         "550.0",
         "16.0",
         "10000.0",
         "55000.0",
         "625.0"
        ],
        [
         "7016",
         "Other",
         "12.0",
         "150.0",
         "11.0",
         "6000.0",
         "25000.0",
         "545.4545454545455"
        ],
        [
         "7333",
         "Other",
         "13.0",
         "275.0",
         "13.0",
         "5425.0",
         "50691.244239631334",
         "417.3076923076923"
        ]
       ],
       "shape": {
        "columns": 7,
        "rows": 7
       }
      },
      "text/html": [
       "<div>\n",
       "<style scoped>\n",
       "    .dataframe tbody tr th:only-of-type {\n",
       "        vertical-align: middle;\n",
       "    }\n",
       "\n",
       "    .dataframe tbody tr th {\n",
       "        vertical-align: top;\n",
       "    }\n",
       "\n",
       "    .dataframe thead th {\n",
       "        text-align: right;\n",
       "    }\n",
       "</style>\n",
       "<table border=\"1\" class=\"dataframe\">\n",
       "  <thead>\n",
       "    <tr style=\"text-align: right;\">\n",
       "      <th></th>\n",
       "      <th>location</th>\n",
       "      <th>bath</th>\n",
       "      <th>price</th>\n",
       "      <th>size_bkh</th>\n",
       "      <th>mod_total_sqft</th>\n",
       "      <th>price_per_sqft</th>\n",
       "      <th>size_of_room</th>\n",
       "    </tr>\n",
       "  </thead>\n",
       "  <tbody>\n",
       "    <tr>\n",
       "      <th>607</th>\n",
       "      <td>BTM 1st Stage</td>\n",
       "      <td>14.00000</td>\n",
       "      <td>500.00000</td>\n",
       "      <td>9.00000</td>\n",
       "      <td>3,300.00000</td>\n",
       "      <td>151,515.15152</td>\n",
       "      <td>366.66667</td>\n",
       "    </tr>\n",
       "    <tr>\n",
       "      <th>5551</th>\n",
       "      <td>Neeladri Nagar</td>\n",
       "      <td>12.00000</td>\n",
       "      <td>160.00000</td>\n",
       "      <td>10.00000</td>\n",
       "      <td>4,000.00000</td>\n",
       "      <td>40,000.00000</td>\n",
       "      <td>400.00000</td>\n",
       "    </tr>\n",
       "    <tr>\n",
       "      <th>5966</th>\n",
       "      <td>Other</td>\n",
       "      <td>27.00000</td>\n",
       "      <td>230.00000</td>\n",
       "      <td>27.00000</td>\n",
       "      <td>8,000.00000</td>\n",
       "      <td>28,750.00000</td>\n",
       "      <td>296.29630</td>\n",
       "    </tr>\n",
       "    <tr>\n",
       "      <th>6200</th>\n",
       "      <td>Other</td>\n",
       "      <td>12.00000</td>\n",
       "      <td>525.00000</td>\n",
       "      <td>10.00000</td>\n",
       "      <td>12,000.00000</td>\n",
       "      <td>43,750.00000</td>\n",
       "      <td>1,200.00000</td>\n",
       "    </tr>\n",
       "    <tr>\n",
       "      <th>6286</th>\n",
       "      <td>Other</td>\n",
       "      <td>16.00000</td>\n",
       "      <td>550.00000</td>\n",
       "      <td>16.00000</td>\n",
       "      <td>10,000.00000</td>\n",
       "      <td>55,000.00000</td>\n",
       "      <td>625.00000</td>\n",
       "    </tr>\n",
       "    <tr>\n",
       "      <th>7016</th>\n",
       "      <td>Other</td>\n",
       "      <td>12.00000</td>\n",
       "      <td>150.00000</td>\n",
       "      <td>11.00000</td>\n",
       "      <td>6,000.00000</td>\n",
       "      <td>25,000.00000</td>\n",
       "      <td>545.45455</td>\n",
       "    </tr>\n",
       "    <tr>\n",
       "      <th>7333</th>\n",
       "      <td>Other</td>\n",
       "      <td>13.00000</td>\n",
       "      <td>275.00000</td>\n",
       "      <td>13.00000</td>\n",
       "      <td>5,425.00000</td>\n",
       "      <td>50,691.24424</td>\n",
       "      <td>417.30769</td>\n",
       "    </tr>\n",
       "  </tbody>\n",
       "</table>\n",
       "</div>"
      ],
      "text/plain": [
       "            location     bath     price  size_bkh  mod_total_sqft  \\\n",
       "607    BTM 1st Stage 14.00000 500.00000   9.00000     3,300.00000   \n",
       "5551  Neeladri Nagar 12.00000 160.00000  10.00000     4,000.00000   \n",
       "5966           Other 27.00000 230.00000  27.00000     8,000.00000   \n",
       "6200           Other 12.00000 525.00000  10.00000    12,000.00000   \n",
       "6286           Other 16.00000 550.00000  16.00000    10,000.00000   \n",
       "7016           Other 12.00000 150.00000  11.00000     6,000.00000   \n",
       "7333           Other 13.00000 275.00000  13.00000     5,425.00000   \n",
       "\n",
       "      price_per_sqft  size_of_room  \n",
       "607    151,515.15152     366.66667  \n",
       "5551    40,000.00000     400.00000  \n",
       "5966    28,750.00000     296.29630  \n",
       "6200    43,750.00000   1,200.00000  \n",
       "6286    55,000.00000     625.00000  \n",
       "7016    25,000.00000     545.45455  \n",
       "7333    50,691.24424     417.30769  "
      ]
     },
     "execution_count": 31,
     "metadata": {},
     "output_type": "execute_result"
    }
   ],
   "source": [
    "#Getting the houses with more than 10 bathrooms.\n",
    "df5[df5['bath'] > 10 ]"
   ]
  },
  {
   "cell_type": "code",
   "execution_count": 32,
   "metadata": {},
   "outputs": [
    {
     "data": {
      "text/plain": [
       "Index(['location', 'bath', 'price', 'size_bkh', 'mod_total_sqft',\n",
       "       'price_per_sqft', 'size_of_room'],\n",
       "      dtype='object')"
      ]
     },
     "execution_count": 32,
     "metadata": {},
     "output_type": "execute_result"
    }
   ],
   "source": [
    "df5.columns"
   ]
  },
  {
   "cell_type": "code",
   "execution_count": 33,
   "metadata": {},
   "outputs": [
    {
     "data": {
      "text/plain": [
       "(10505, 7)"
      ]
     },
     "execution_count": 33,
     "metadata": {},
     "output_type": "execute_result"
    }
   ],
   "source": [
    "#Creating a dataset of houses where the number of bathrooms is two more than the number of bedrooms.\n",
    "df6 = df5[df5['bath'] < df5['size_bkh'] + 2]\n",
    "df6.shape"
   ]
  },
  {
   "cell_type": "markdown",
   "metadata": {},
   "source": [
    "Model Creation"
   ]
  }
 ],
 "metadata": {
  "kernelspec": {
   "display_name": "Python 3",
   "language": "python",
   "name": "python3"
  },
  "language_info": {
   "codemirror_mode": {
    "name": "ipython",
    "version": 3
   },
   "file_extension": ".py",
   "mimetype": "text/x-python",
   "name": "python",
   "nbconvert_exporter": "python",
   "pygments_lexer": "ipython3",
   "version": "3.9.6"
  }
 },
 "nbformat": 4,
 "nbformat_minor": 2
}

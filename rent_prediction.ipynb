{
 "cells": [
  {
   "cell_type": "code",
   "execution_count": 163,
   "metadata": {},
   "outputs": [],
   "source": [
    "import pandas as pd\n",
    "import numpy as np\n",
    "\n",
    "import seaborn as sns\n",
    "\n",
    "from sklearn.preprocessing import OneHotEncoder"
   ]
  },
  {
   "cell_type": "code",
   "execution_count": 149,
   "metadata": {},
   "outputs": [],
   "source": [
    "df = pd.read_csv(\"~/Desktop/Codes/house_prediction/Bengaluru_House_Data.csv\")"
   ]
  },
  {
   "cell_type": "code",
   "execution_count": 150,
   "metadata": {},
   "outputs": [
    {
     "data": {
      "application/vnd.microsoft.datawrangler.viewer.v0+json": {
       "columns": [
        {
         "name": "index",
         "rawType": "int64",
         "type": "integer"
        },
        {
         "name": "area_type",
         "rawType": "object",
         "type": "string"
        },
        {
         "name": "availability",
         "rawType": "object",
         "type": "string"
        },
        {
         "name": "location",
         "rawType": "object",
         "type": "string"
        },
        {
         "name": "size",
         "rawType": "object",
         "type": "string"
        },
        {
         "name": "society",
         "rawType": "object",
         "type": "unknown"
        },
        {
         "name": "total_sqft",
         "rawType": "object",
         "type": "string"
        },
        {
         "name": "bath",
         "rawType": "float64",
         "type": "float"
        },
        {
         "name": "balcony",
         "rawType": "float64",
         "type": "float"
        },
        {
         "name": "price",
         "rawType": "float64",
         "type": "float"
        }
       ],
       "conversionMethod": "pd.DataFrame",
       "ref": "678833ef-486b-41c0-95f0-238eabad0b79",
       "rows": [
        [
         "0",
         "Super built-up  Area",
         "19-Dec",
         "Electronic City Phase II",
         "2 BHK",
         "Coomee ",
         "1056",
         "2.0",
         "1.0",
         "39.07"
        ],
        [
         "1",
         "Plot  Area",
         "Ready To Move",
         "Chikka Tirupathi",
         "4 Bedroom",
         "Theanmp",
         "2600",
         "5.0",
         "3.0",
         "120.0"
        ],
        [
         "2",
         "Built-up  Area",
         "Ready To Move",
         "Uttarahalli",
         "3 BHK",
         null,
         "1440",
         "2.0",
         "3.0",
         "62.0"
        ],
        [
         "3",
         "Super built-up  Area",
         "Ready To Move",
         "Lingadheeranahalli",
         "3 BHK",
         "Soiewre",
         "1521",
         "3.0",
         "1.0",
         "95.0"
        ],
        [
         "4",
         "Super built-up  Area",
         "Ready To Move",
         "Kothanur",
         "2 BHK",
         null,
         "1200",
         "2.0",
         "1.0",
         "51.0"
        ]
       ],
       "shape": {
        "columns": 9,
        "rows": 5
       }
      },
      "text/html": [
       "<div>\n",
       "<style scoped>\n",
       "    .dataframe tbody tr th:only-of-type {\n",
       "        vertical-align: middle;\n",
       "    }\n",
       "\n",
       "    .dataframe tbody tr th {\n",
       "        vertical-align: top;\n",
       "    }\n",
       "\n",
       "    .dataframe thead th {\n",
       "        text-align: right;\n",
       "    }\n",
       "</style>\n",
       "<table border=\"1\" class=\"dataframe\">\n",
       "  <thead>\n",
       "    <tr style=\"text-align: right;\">\n",
       "      <th></th>\n",
       "      <th>area_type</th>\n",
       "      <th>availability</th>\n",
       "      <th>location</th>\n",
       "      <th>size</th>\n",
       "      <th>society</th>\n",
       "      <th>total_sqft</th>\n",
       "      <th>bath</th>\n",
       "      <th>balcony</th>\n",
       "      <th>price</th>\n",
       "    </tr>\n",
       "  </thead>\n",
       "  <tbody>\n",
       "    <tr>\n",
       "      <th>0</th>\n",
       "      <td>Super built-up  Area</td>\n",
       "      <td>19-Dec</td>\n",
       "      <td>Electronic City Phase II</td>\n",
       "      <td>2 BHK</td>\n",
       "      <td>Coomee</td>\n",
       "      <td>1056</td>\n",
       "      <td>2.0</td>\n",
       "      <td>1.0</td>\n",
       "      <td>39.07</td>\n",
       "    </tr>\n",
       "    <tr>\n",
       "      <th>1</th>\n",
       "      <td>Plot  Area</td>\n",
       "      <td>Ready To Move</td>\n",
       "      <td>Chikka Tirupathi</td>\n",
       "      <td>4 Bedroom</td>\n",
       "      <td>Theanmp</td>\n",
       "      <td>2600</td>\n",
       "      <td>5.0</td>\n",
       "      <td>3.0</td>\n",
       "      <td>120.00</td>\n",
       "    </tr>\n",
       "    <tr>\n",
       "      <th>2</th>\n",
       "      <td>Built-up  Area</td>\n",
       "      <td>Ready To Move</td>\n",
       "      <td>Uttarahalli</td>\n",
       "      <td>3 BHK</td>\n",
       "      <td>NaN</td>\n",
       "      <td>1440</td>\n",
       "      <td>2.0</td>\n",
       "      <td>3.0</td>\n",
       "      <td>62.00</td>\n",
       "    </tr>\n",
       "    <tr>\n",
       "      <th>3</th>\n",
       "      <td>Super built-up  Area</td>\n",
       "      <td>Ready To Move</td>\n",
       "      <td>Lingadheeranahalli</td>\n",
       "      <td>3 BHK</td>\n",
       "      <td>Soiewre</td>\n",
       "      <td>1521</td>\n",
       "      <td>3.0</td>\n",
       "      <td>1.0</td>\n",
       "      <td>95.00</td>\n",
       "    </tr>\n",
       "    <tr>\n",
       "      <th>4</th>\n",
       "      <td>Super built-up  Area</td>\n",
       "      <td>Ready To Move</td>\n",
       "      <td>Kothanur</td>\n",
       "      <td>2 BHK</td>\n",
       "      <td>NaN</td>\n",
       "      <td>1200</td>\n",
       "      <td>2.0</td>\n",
       "      <td>1.0</td>\n",
       "      <td>51.00</td>\n",
       "    </tr>\n",
       "  </tbody>\n",
       "</table>\n",
       "</div>"
      ],
      "text/plain": [
       "              area_type   availability                  location       size  \\\n",
       "0  Super built-up  Area         19-Dec  Electronic City Phase II      2 BHK   \n",
       "1            Plot  Area  Ready To Move          Chikka Tirupathi  4 Bedroom   \n",
       "2        Built-up  Area  Ready To Move               Uttarahalli      3 BHK   \n",
       "3  Super built-up  Area  Ready To Move        Lingadheeranahalli      3 BHK   \n",
       "4  Super built-up  Area  Ready To Move                  Kothanur      2 BHK   \n",
       "\n",
       "   society total_sqft  bath  balcony   price  \n",
       "0  Coomee        1056   2.0      1.0   39.07  \n",
       "1  Theanmp       2600   5.0      3.0  120.00  \n",
       "2      NaN       1440   2.0      3.0   62.00  \n",
       "3  Soiewre       1521   3.0      1.0   95.00  \n",
       "4      NaN       1200   2.0      1.0   51.00  "
      ]
     },
     "execution_count": 150,
     "metadata": {},
     "output_type": "execute_result"
    }
   ],
   "source": [
    "df.head()"
   ]
  },
  {
   "cell_type": "code",
   "execution_count": 151,
   "metadata": {},
   "outputs": [
    {
     "data": {
      "text/plain": [
       "area_type        object\n",
       "availability     object\n",
       "location         object\n",
       "size             object\n",
       "society          object\n",
       "total_sqft       object\n",
       "bath            float64\n",
       "balcony         float64\n",
       "price           float64\n",
       "dtype: object"
      ]
     },
     "execution_count": 151,
     "metadata": {},
     "output_type": "execute_result"
    }
   ],
   "source": [
    "df.dtypes"
   ]
  },
  {
   "cell_type": "code",
   "execution_count": 152,
   "metadata": {},
   "outputs": [
    {
     "data": {
      "text/plain": [
       "(13320, 9)"
      ]
     },
     "execution_count": 152,
     "metadata": {},
     "output_type": "execute_result"
    }
   ],
   "source": [
    "df.shape"
   ]
  },
  {
   "cell_type": "code",
   "execution_count": 153,
   "metadata": {},
   "outputs": [
    {
     "data": {
      "text/plain": [
       "location\n",
       "Whitefield         397\n",
       "Sarjapur  Road     310\n",
       "Electronic City    236\n",
       "Kanakpura Road     216\n",
       "Thanisandra        212\n",
       "                  ... \n",
       "Adarsh Nagar         1\n",
       "S R Layout           1\n",
       "Sadduguntepalya      1\n",
       "BCC Layout           1\n",
       "Abshot Layout        1\n",
       "Name: count, Length: 634, dtype: int64"
      ]
     },
     "execution_count": 153,
     "metadata": {},
     "output_type": "execute_result"
    }
   ],
   "source": [
    "df1['location'].value_counts()"
   ]
  },
  {
   "cell_type": "code",
   "execution_count": 154,
   "metadata": {},
   "outputs": [
    {
     "data": {
      "application/vnd.microsoft.datawrangler.viewer.v0+json": {
       "columns": [
        {
         "name": "index",
         "rawType": "int64",
         "type": "integer"
        },
        {
         "name": "availability",
         "rawType": "object",
         "type": "string"
        },
        {
         "name": "location",
         "rawType": "object",
         "type": "string"
        },
        {
         "name": "size",
         "rawType": "object",
         "type": "string"
        },
        {
         "name": "society",
         "rawType": "object",
         "type": "unknown"
        },
        {
         "name": "total_sqft",
         "rawType": "object",
         "type": "string"
        },
        {
         "name": "bath",
         "rawType": "float64",
         "type": "float"
        },
        {
         "name": "balcony",
         "rawType": "float64",
         "type": "float"
        },
        {
         "name": "price",
         "rawType": "float64",
         "type": "float"
        },
        {
         "name": "area_type_Built-up  Area",
         "rawType": "float64",
         "type": "float"
        },
        {
         "name": "area_type_Carpet  Area",
         "rawType": "float64",
         "type": "float"
        },
        {
         "name": "area_type_Plot  Area",
         "rawType": "float64",
         "type": "float"
        },
        {
         "name": "area_type_Super built-up  Area",
         "rawType": "float64",
         "type": "float"
        }
       ],
       "conversionMethod": "pd.DataFrame",
       "ref": "ccee4e4a-c91c-4fae-99e5-e45edb35006e",
       "rows": [
        [
         "0",
         "19-Dec",
         "Electronic City Phase II",
         "2 BHK",
         "Coomee ",
         "1056",
         "2.0",
         "1.0",
         "39.07",
         "0.0",
         "0.0",
         "0.0",
         "1.0"
        ],
        [
         "1",
         "Ready To Move",
         "Chikka Tirupathi",
         "4 Bedroom",
         "Theanmp",
         "2600",
         "5.0",
         "3.0",
         "120.0",
         "0.0",
         "0.0",
         "1.0",
         "0.0"
        ],
        [
         "2",
         "Ready To Move",
         "Uttarahalli",
         "3 BHK",
         null,
         "1440",
         "2.0",
         "3.0",
         "62.0",
         "1.0",
         "0.0",
         "0.0",
         "0.0"
        ],
        [
         "3",
         "Ready To Move",
         "Lingadheeranahalli",
         "3 BHK",
         "Soiewre",
         "1521",
         "3.0",
         "1.0",
         "95.0",
         "0.0",
         "0.0",
         "0.0",
         "1.0"
        ],
        [
         "4",
         "Ready To Move",
         "Kothanur",
         "2 BHK",
         null,
         "1200",
         "2.0",
         "1.0",
         "51.0",
         "0.0",
         "0.0",
         "0.0",
         "1.0"
        ]
       ],
       "shape": {
        "columns": 12,
        "rows": 5
       }
      },
      "text/html": [
       "<div>\n",
       "<style scoped>\n",
       "    .dataframe tbody tr th:only-of-type {\n",
       "        vertical-align: middle;\n",
       "    }\n",
       "\n",
       "    .dataframe tbody tr th {\n",
       "        vertical-align: top;\n",
       "    }\n",
       "\n",
       "    .dataframe thead th {\n",
       "        text-align: right;\n",
       "    }\n",
       "</style>\n",
       "<table border=\"1\" class=\"dataframe\">\n",
       "  <thead>\n",
       "    <tr style=\"text-align: right;\">\n",
       "      <th></th>\n",
       "      <th>availability</th>\n",
       "      <th>location</th>\n",
       "      <th>size</th>\n",
       "      <th>society</th>\n",
       "      <th>total_sqft</th>\n",
       "      <th>bath</th>\n",
       "      <th>balcony</th>\n",
       "      <th>price</th>\n",
       "      <th>area_type_Built-up  Area</th>\n",
       "      <th>area_type_Carpet  Area</th>\n",
       "      <th>area_type_Plot  Area</th>\n",
       "      <th>area_type_Super built-up  Area</th>\n",
       "    </tr>\n",
       "  </thead>\n",
       "  <tbody>\n",
       "    <tr>\n",
       "      <th>0</th>\n",
       "      <td>19-Dec</td>\n",
       "      <td>Electronic City Phase II</td>\n",
       "      <td>2 BHK</td>\n",
       "      <td>Coomee</td>\n",
       "      <td>1056</td>\n",
       "      <td>2.0</td>\n",
       "      <td>1.0</td>\n",
       "      <td>39.07</td>\n",
       "      <td>0.0</td>\n",
       "      <td>0.0</td>\n",
       "      <td>0.0</td>\n",
       "      <td>1.0</td>\n",
       "    </tr>\n",
       "    <tr>\n",
       "      <th>1</th>\n",
       "      <td>Ready To Move</td>\n",
       "      <td>Chikka Tirupathi</td>\n",
       "      <td>4 Bedroom</td>\n",
       "      <td>Theanmp</td>\n",
       "      <td>2600</td>\n",
       "      <td>5.0</td>\n",
       "      <td>3.0</td>\n",
       "      <td>120.00</td>\n",
       "      <td>0.0</td>\n",
       "      <td>0.0</td>\n",
       "      <td>1.0</td>\n",
       "      <td>0.0</td>\n",
       "    </tr>\n",
       "    <tr>\n",
       "      <th>2</th>\n",
       "      <td>Ready To Move</td>\n",
       "      <td>Uttarahalli</td>\n",
       "      <td>3 BHK</td>\n",
       "      <td>NaN</td>\n",
       "      <td>1440</td>\n",
       "      <td>2.0</td>\n",
       "      <td>3.0</td>\n",
       "      <td>62.00</td>\n",
       "      <td>1.0</td>\n",
       "      <td>0.0</td>\n",
       "      <td>0.0</td>\n",
       "      <td>0.0</td>\n",
       "    </tr>\n",
       "    <tr>\n",
       "      <th>3</th>\n",
       "      <td>Ready To Move</td>\n",
       "      <td>Lingadheeranahalli</td>\n",
       "      <td>3 BHK</td>\n",
       "      <td>Soiewre</td>\n",
       "      <td>1521</td>\n",
       "      <td>3.0</td>\n",
       "      <td>1.0</td>\n",
       "      <td>95.00</td>\n",
       "      <td>0.0</td>\n",
       "      <td>0.0</td>\n",
       "      <td>0.0</td>\n",
       "      <td>1.0</td>\n",
       "    </tr>\n",
       "    <tr>\n",
       "      <th>4</th>\n",
       "      <td>Ready To Move</td>\n",
       "      <td>Kothanur</td>\n",
       "      <td>2 BHK</td>\n",
       "      <td>NaN</td>\n",
       "      <td>1200</td>\n",
       "      <td>2.0</td>\n",
       "      <td>1.0</td>\n",
       "      <td>51.00</td>\n",
       "      <td>0.0</td>\n",
       "      <td>0.0</td>\n",
       "      <td>0.0</td>\n",
       "      <td>1.0</td>\n",
       "    </tr>\n",
       "  </tbody>\n",
       "</table>\n",
       "</div>"
      ],
      "text/plain": [
       "    availability                  location       size  society total_sqft  \\\n",
       "0         19-Dec  Electronic City Phase II      2 BHK  Coomee        1056   \n",
       "1  Ready To Move          Chikka Tirupathi  4 Bedroom  Theanmp       2600   \n",
       "2  Ready To Move               Uttarahalli      3 BHK      NaN       1440   \n",
       "3  Ready To Move        Lingadheeranahalli      3 BHK  Soiewre       1521   \n",
       "4  Ready To Move                  Kothanur      2 BHK      NaN       1200   \n",
       "\n",
       "   bath  balcony   price  area_type_Built-up  Area  area_type_Carpet  Area  \\\n",
       "0   2.0      1.0   39.07                       0.0                     0.0   \n",
       "1   5.0      3.0  120.00                       0.0                     0.0   \n",
       "2   2.0      3.0   62.00                       1.0                     0.0   \n",
       "3   3.0      1.0   95.00                       0.0                     0.0   \n",
       "4   2.0      1.0   51.00                       0.0                     0.0   \n",
       "\n",
       "   area_type_Plot  Area  area_type_Super built-up  Area  \n",
       "0                   0.0                             1.0  \n",
       "1                   1.0                             0.0  \n",
       "2                   0.0                             0.0  \n",
       "3                   0.0                             1.0  \n",
       "4                   0.0                             1.0  "
      ]
     },
     "execution_count": 154,
     "metadata": {},
     "output_type": "execute_result"
    }
   ],
   "source": [
    "#One hot encoding to check if the \"area_type\" column has any effect on the price of the house\n",
    "\n",
    "#Specifying the categorical column\n",
    "categorical_column = ['area_type']\n",
    "\n",
    "#Creating the OneHotEncoder object\n",
    "onehot_encoder = OneHotEncoder(sparse_output = False)\n",
    "\n",
    "#Fitting the encoder to the data and transforming the data\n",
    "encoded_data = onehot_encoder.fit_transform(df[categorical_column])\n",
    "\n",
    "#Creating a DataFrame from the encoded data\n",
    "encoded_df = pd.DataFrame(encoded_data, columns = onehot_encoder.get_feature_names_out(categorical_column))\n",
    "\n",
    "#Concatenating the original DataFrame with the encoded DataFrame\n",
    "final_encoded_df = pd.concat([df, encoded_df], axis = 1).drop(categorical_column, axis = 1)\n",
    "\n",
    "#Printing the final DataFrame\n",
    "final_encoded_df.head()"
   ]
  },
  {
   "cell_type": "code",
   "execution_count": 155,
   "metadata": {},
   "outputs": [
    {
     "data": {
      "text/plain": [
       "availability                       object\n",
       "location                           object\n",
       "size                               object\n",
       "society                            object\n",
       "total_sqft                         object\n",
       "bath                              float64\n",
       "balcony                           float64\n",
       "price                             float64\n",
       "area_type_Built-up  Area          float64\n",
       "area_type_Carpet  Area            float64\n",
       "area_type_Plot  Area              float64\n",
       "area_type_Super built-up  Area    float64\n",
       "dtype: object"
      ]
     },
     "execution_count": 155,
     "metadata": {},
     "output_type": "execute_result"
    }
   ],
   "source": [
    "final_encoded_df.dtypes"
   ]
  },
  {
   "cell_type": "code",
   "execution_count": 156,
   "metadata": {},
   "outputs": [],
   "source": [
    "#Changing the data type of the 'total_sqft' column to numeric\n",
    "final_encoded_df['total_sqft'] = pd.to_numeric(final_encoded_df['total_sqft'], errors='coerce')"
   ]
  },
  {
   "cell_type": "code",
   "execution_count": 172,
   "metadata": {},
   "outputs": [
    {
     "data": {
      "image/png": "[encoded data removed]",
      "text/plain": [
       "<Figure size 1000x1000 with 2 Axes>"
      ]
     },
     "metadata": {},
     "output_type": "display_data"
    }
   ],
   "source": [
    "#Computing the correlation matrix\n",
    "correlation_matrix = final_encoded_df.corr(numeric_only=True)\n",
    "\n",
    "# Sort features by correlation with 'price' (descending order)\n",
    "sorted_corr = correlation_matrix['price'].sort_values(ascending=False)\n",
    "\n",
    "# Remove 'price' from the sorted_corr index\n",
    "sorted_corr = sorted_corr.drop('price')\n",
    "\n",
    "#Plotting the heat map\n",
    "plt.figure(figsize=(10,10))\n",
    "sns.heatmap(correlation_matrix.loc[sorted_corr.index, ['price']], annot=True, cmap='viridis', linewidths=0.5)\n",
    "\n",
    "plt.title('Correlation Matrix of Price with other numerical features')\n",
    "plt.show()"
   ]
  },
  {
   "cell_type": "code",
   "execution_count": 158,
   "metadata": {},
   "outputs": [],
   "source": [
    "#Dropping unnecessary columns that are not relevant to the analysis\n",
    "df2 = final_encoded_df.drop(['availability', 'society', 'balcony', 'area_type_Built-up  Area', 'area_type_Carpet  Area', 'area_type_Plot  Area', 'area_type_Super built-up  Area'], axis='columns')"
   ]
  },
  {
   "cell_type": "code",
   "execution_count": 159,
   "metadata": {},
   "outputs": [
    {
     "data": {
      "application/vnd.microsoft.datawrangler.viewer.v0+json": {
       "columns": [
        {
         "name": "index",
         "rawType": "int64",
         "type": "integer"
        },
        {
         "name": "location",
         "rawType": "object",
         "type": "string"
        },
        {
         "name": "size",
         "rawType": "object",
         "type": "string"
        },
        {
         "name": "total_sqft",
         "rawType": "float64",
         "type": "float"
        },
        {
         "name": "bath",
         "rawType": "float64",
         "type": "float"
        },
        {
         "name": "price",
         "rawType": "float64",
         "type": "float"
        }
       ],
       "conversionMethod": "pd.DataFrame",
       "ref": "0d73925b-50b0-4aea-9b7b-8c1f0819f16f",
       "rows": [
        [
         "0",
         "Electronic City Phase II",
         "2 BHK",
         "1056.0",
         "2.0",
         "39.07"
        ],
        [
         "1",
         "Chikka Tirupathi",
         "4 Bedroom",
         "2600.0",
         "5.0",
         "120.0"
        ],
        [
         "2",
         "Uttarahalli",
         "3 BHK",
         "1440.0",
         "2.0",
         "62.0"
        ],
        [
         "3",
         "Lingadheeranahalli",
         "3 BHK",
         "1521.0",
         "3.0",
         "95.0"
        ],
        [
         "4",
         "Kothanur",
         "2 BHK",
         "1200.0",
         "2.0",
         "51.0"
        ]
       ],
       "shape": {
        "columns": 5,
        "rows": 5
       }
      },
      "text/html": [
       "<div>\n",
       "<style scoped>\n",
       "    .dataframe tbody tr th:only-of-type {\n",
       "        vertical-align: middle;\n",
       "    }\n",
       "\n",
       "    .dataframe tbody tr th {\n",
       "        vertical-align: top;\n",
       "    }\n",
       "\n",
       "    .dataframe thead th {\n",
       "        text-align: right;\n",
       "    }\n",
       "</style>\n",
       "<table border=\"1\" class=\"dataframe\">\n",
       "  <thead>\n",
       "    <tr style=\"text-align: right;\">\n",
       "      <th></th>\n",
       "      <th>location</th>\n",
       "      <th>size</th>\n",
       "      <th>total_sqft</th>\n",
       "      <th>bath</th>\n",
       "      <th>price</th>\n",
       "    </tr>\n",
       "  </thead>\n",
       "  <tbody>\n",
       "    <tr>\n",
       "      <th>0</th>\n",
       "      <td>Electronic City Phase II</td>\n",
       "      <td>2 BHK</td>\n",
       "      <td>1056.0</td>\n",
       "      <td>2.0</td>\n",
       "      <td>39.07</td>\n",
       "    </tr>\n",
       "    <tr>\n",
       "      <th>1</th>\n",
       "      <td>Chikka Tirupathi</td>\n",
       "      <td>4 Bedroom</td>\n",
       "      <td>2600.0</td>\n",
       "      <td>5.0</td>\n",
       "      <td>120.00</td>\n",
       "    </tr>\n",
       "    <tr>\n",
       "      <th>2</th>\n",
       "      <td>Uttarahalli</td>\n",
       "      <td>3 BHK</td>\n",
       "      <td>1440.0</td>\n",
       "      <td>2.0</td>\n",
       "      <td>62.00</td>\n",
       "    </tr>\n",
       "    <tr>\n",
       "      <th>3</th>\n",
       "      <td>Lingadheeranahalli</td>\n",
       "      <td>3 BHK</td>\n",
       "      <td>1521.0</td>\n",
       "      <td>3.0</td>\n",
       "      <td>95.00</td>\n",
       "    </tr>\n",
       "    <tr>\n",
       "      <th>4</th>\n",
       "      <td>Kothanur</td>\n",
       "      <td>2 BHK</td>\n",
       "      <td>1200.0</td>\n",
       "      <td>2.0</td>\n",
       "      <td>51.00</td>\n",
       "    </tr>\n",
       "  </tbody>\n",
       "</table>\n",
       "</div>"
      ],
      "text/plain": [
       "                   location       size  total_sqft  bath   price\n",
       "0  Electronic City Phase II      2 BHK      1056.0   2.0   39.07\n",
       "1          Chikka Tirupathi  4 Bedroom      2600.0   5.0  120.00\n",
       "2               Uttarahalli      3 BHK      1440.0   2.0   62.00\n",
       "3        Lingadheeranahalli      3 BHK      1521.0   3.0   95.00\n",
       "4                  Kothanur      2 BHK      1200.0   2.0   51.00"
      ]
     },
     "execution_count": 159,
     "metadata": {},
     "output_type": "execute_result"
    }
   ],
   "source": [
    "df2.head()"
   ]
  },
  {
   "cell_type": "code",
   "execution_count": 160,
   "metadata": {},
   "outputs": [],
   "source": [
    "df2.dropna(inplace=True)"
   ]
  },
  {
   "cell_type": "code",
   "execution_count": 161,
   "metadata": {},
   "outputs": [
    {
     "data": {
      "text/plain": [
       "(13056, 5)"
      ]
     },
     "execution_count": 161,
     "metadata": {},
     "output_type": "execute_result"
    }
   ],
   "source": [
    "df2.shape"
   ]
  },
  {
   "cell_type": "code",
   "execution_count": null,
   "metadata": {},
   "outputs": [],
   "source": []
  }
 ],
 "metadata": {
  "kernelspec": {
   "display_name": "Python 3",
   "language": "python",
   "name": "python3"
  },
  "language_info": {
   "codemirror_mode": {
    "name": "ipython",
    "version": 3
   },
   "file_extension": ".py",
   "mimetype": "text/x-python",
   "name": "python",
   "nbconvert_exporter": "python",
   "pygments_lexer": "ipython3",
   "version": "3.9.6"
  }
 },
 "nbformat": 4,
 "nbformat_minor": 2
}
